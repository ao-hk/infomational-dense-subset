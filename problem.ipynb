{
 "cells": [
  {
   "cell_type": "markdown",
   "id": "13cf06db-c5ee-4a68-b159-cbf4abae7073",
   "metadata": {
    "tags": []
   },
   "source": [
    "# The Problem beyond Densest Subgraphs"
   ]
  },
  {
   "cell_type": "code",
   "execution_count": null,
   "id": "bdab43ba-5960-4907-b1bc-ccce322af18b",
   "metadata": {
    "tags": [
     "remove-cell"
    ]
   },
   "outputs": [],
   "source": [
    "from visualization import dumbbell"
   ]
  },
  {
   "cell_type": "markdown",
   "id": "0c4fe356-3772-470a-9800-094eb646ded3",
   "metadata": {},
   "source": [
    "```{important}\n",
    "How to find meaningful informationally dense subsets?\n",
    "```"
   ]
  },
  {
   "cell_type": "markdown",
   "id": "afc35e9f-b868-452e-a31b-ea94a16ad988",
   "metadata": {},
   "source": [
    "Consider an *information network (info-net)* defined by a discrete random tuple\n",
    "\n",
    "$$\\R{Z}_V:=(\\R{Z}_i|i\\in V),$$ \n",
    "\n",
    "where\n",
    "- $V$ is a finite set of nodes and\n",
    "- $\\R{Z}_i$ is the information/representation of node $i\\in V$."
   ]
  },
  {
   "cell_type": "markdown",
   "id": "8c805b61-a6a6-4ad2-9367-99082c6430e7",
   "metadata": {},
   "source": [
    "---\n",
    "\n",
    "**Example** (info-net on touching triangles)  \n",
    ":label: eg:info-net:touching-triangles\n",
    "\n",
    "![info-net with touching triangles](images/info-net-touching-triangles.svg)\n",
    "\n",
    "Given $6$ uniformly random independent bits \n",
    "\n",
    "$$\\R{X}_j \\text{ for } j\\in \\Set{\\text{a},\\dots,\\text{f}},$$ \n",
    "\n",
    "define $\\R{Z}_V$ for the $5$ nodes in $V:=\\Set{1,\\dots, 5}$ as\n",
    "\n",
    "$$\n",
    "\\begin{align}\n",
    "\\R{Z}_1 &:= (\\R{X}_{\\text{a}},\\R{X}_{\\text{c}})\\\\\n",
    "\\R{Z}_2 &:= (\\R{X}_{\\text{a}},\\R{X}_{\\text{b}})\\\\\n",
    "\\R{Z}_3 &:= (\\R{X}_{\\text{b}},\\R{X}_{\\text{c}},\\R{X}_{\\text{d}},\\R{X}_{\\text{f}})\\\\\n",
    "\\R{Z}_4 &:= (\\R{X}_{\\text{d}},\\R{X}_{\\text{e}})\\\\\n",
    "\\R{Z}_5 &:= (\\R{X}_{\\text{e}},\\R{X}_{\\text{f}}).\n",
    "\\end{align}\n",
    "$$\n",
    "\n",
    "$C_1:=\\Set{1,2,3}$ and $C_2:=\\Set{3,4,5}$ are informationally dense intuitively as they corresponds to $3$-cliques if we view each bit $\\R{X}_j$ as an edge.\n",
    "\n",
    "---"
   ]
  },
  {
   "cell_type": "markdown",
   "id": "ae4f8faa-6af2-4685-99b9-77017547ad3b",
   "metadata": {},
   "source": [
    "```{important}\n",
    "\n",
    "1. How to define information density?\n",
    "2. How to define informationally dense subsets?\n",
    "3. How to characterize/compute informationally dense subsets in polynomial time?\n",
    "\n",
    "For consistency, the answers should reduce to those for graphical networks.\n",
    "```"
   ]
  },
  {
   "cell_type": "markdown",
   "id": "699aa19f-3f73-483e-bd4c-4596d33b6f0f",
   "metadata": {
    "tags": []
   },
   "source": [
    "## Density for graphs"
   ]
  },
  {
   "cell_type": "markdown",
   "id": "ace98bdf-30f3-403c-b340-ead38696a3e1",
   "metadata": {},
   "source": [
    "For a simple graph on $V$ with edges\n",
    "\n",
    "$$\\mc{E}\\subseteq {V\\choose 2}:=\\Set{B\\subseteq V |\\abs{B}=2},$$ \n",
    "\n",
    "the density function is defined as\n",
    "\n",
    "$$\n",
    "\\rho(B) := \\frac{\\abs{{B\\choose 2}\\cap \\mc{E}}}{|B|},\\qquad \\text{for }B\\subseteq V:\\abs{B}>0,\n",
    "$$ (rho:graph)\n",
    "\n",
    "where the numerator is the number of the edges internal to $B$ per node in $B$."
   ]
  },
  {
   "cell_type": "markdown",
   "id": "3c385418-3230-4b0c-a7cb-327762f50249",
   "metadata": {},
   "source": [
    "```{important}\n",
    "How to define dense subgraphs?\n",
    "```"
   ]
  },
  {
   "cell_type": "markdown",
   "id": "ebf68e82-235a-4d9c-8a75-5ad6a10c5f05",
   "metadata": {
    "tags": []
   },
   "source": [
    "## Densest subgraphs"
   ]
  },
  {
   "cell_type": "markdown",
   "id": "70ed6e01-a6c0-4a11-b307-9047e4f558ce",
   "metadata": {},
   "source": [
    "Define\n",
    "\n",
    "$$\n",
    "\\mc{D}_* := \\arg \\overbrace{\\max_{\\substack{B\\subseteq V:\\\\ \\abs{B}\\geq 1}}\\rho(B)}^{\\rho_*:=},\n",
    "$$ (densest)\n",
    "\n",
    "which \n",
    "\n",
    "- corresponds to the set of vertex sets of the densest subgraphs and\n",
    "- can be computed in polynomial time by solving a parametric maxflow problem {cite}`goldberg1984finding,gallo1989fast`."
   ]
  },
  {
   "cell_type": "markdown",
   "id": "1b8203c9-35a2-4d41-bb4f-b6bebf557a04",
   "metadata": {},
   "source": [
    "PS: not parametric maxflow?"
   ]
  },
  {
   "cell_type": "markdown",
   "id": "348c83e1-36e7-4201-94d4-33c9073b5363",
   "metadata": {},
   "source": [
    "---\n",
    "\n",
    "**Example** (Dumbbell)  \n",
    ":label: eg:dumbbell\n",
    "\n",
    "For integer $b\\geq 3$, construct a graph on $V=C_1\\cup C_2$ as a disjoint union of a $b$-clique on $C_1$ and another one on $C_2$ connected by an edge. \n",
    "\n",
    "---"
   ]
  },
  {
   "cell_type": "code",
   "execution_count": null,
   "id": "8e835ef9-f68f-4e01-9982-55e75ab54284",
   "metadata": {
    "tags": [
     "hide-input"
    ]
   },
   "outputs": [
    {
     "data": {
      "application/vnd.jupyter.widget-view+json": {
       "model_id": "96f152340d544e50aa7265df58de4f4c",
       "version_major": 2,
       "version_minor": 0
      },
      "text/plain": [
       "interactive(children=(IntSlider(value=3, description='b', max=15, min=3), IntSlider(value=0, description='numb…"
      ]
     },
     "metadata": {},
     "output_type": "display_data"
    }
   ],
   "source": [
    "dumbbell()"
   ]
  },
  {
   "cell_type": "markdown",
   "id": "ed2086aa-36f2-4fd6-944e-0b7f4ce12720",
   "metadata": {},
   "source": [
    "$C_1,C_2\\not\\in \\mc{D}_*$ even though they are meaningful dense subsets:\n",
    "\n",
    "$$\n",
    "\\begin{align}\n",
    "\\rho(C_1) &= \\rho(C_2) \\\\\n",
    "&= \\frac{{b \\choose 2}}{b} = \\frac{b-1}{2}\\\\\n",
    "\\rho(V)&=\\frac{2{b \\choose 2} + 1}{2b} \\\\\n",
    "&= \\rho(C_1) + \\frac1{2b} > \\rho(C_1). \n",
    "\\end{align}\n",
    "$$"
   ]
  },
  {
   "cell_type": "markdown",
   "id": "1388e0fd-b851-40d2-b23f-1b74c0bbff2f",
   "metadata": {},
   "source": [
    "```{important}\n",
    "How to identify $C_1$ and $C_2$ as clusters?\n",
    "```"
   ]
  },
  {
   "cell_type": "markdown",
   "id": "e5c3975e-93df-43e6-a029-3e621a453f78",
   "metadata": {
    "tags": []
   },
   "source": [
    "## Densest $k$-subgraphs"
   ]
  },
  {
   "cell_type": "markdown",
   "id": "b13b710d-7380-4606-bd14-135a678b6e19",
   "metadata": {},
   "source": [
    "Denote the collection of densest $k$-subsets for order $k\\geq 1$ as\n",
    "\n",
    "$$\n",
    "\\begin{align}\n",
    "\\mc{D}_k &:= \\arg \\overbrace{\\max_{\\substack{B\\subseteq V:\\\\ \\abs{B}=k}}\\rho(B)}^{\\rho_k:=}. \n",
    "\\end{align}\n",
    "$$ (densest-k)"
   ]
  },
  {
   "cell_type": "markdown",
   "id": "8365145d-5509-4855-886a-3f3e61c4061e",
   "metadata": {},
   "source": [
    "In Example {prf:ref}`eg:dumbbell`, $C_1, C_2\\in \\mc{D}_b$."
   ]
  },
  {
   "cell_type": "markdown",
   "id": "249d06e8-e507-4e92-9efe-f63f6e4757cd",
   "metadata": {},
   "source": [
    "- Unfortunately, computing the densest $k$-subgraphs is NP-hard as it reduces to the maximal clique problem in polynomial time {cite}`garey1979computers,feige1997densest`.\n",
    "- Fortunately, not all densest $k$-subsets are meaningful. For instance, in Example {prf:ref}`eg:dumbbell`, all subsets in $\\mc{D}_{k}$ for $k>b$ must split either $C_1$ or $C_2$."
   ]
  },
  {
   "cell_type": "markdown",
   "id": "7723b377-b57b-43c6-b16f-6f3a0264081c",
   "metadata": {},
   "source": [
    "```{important}\n",
    "- How to identify only meaningful dense subsets?\n",
    "- Do they have to be densest $k$-subgraphs for some $k$?\n",
    "```"
   ]
  },
  {
   "cell_type": "markdown",
   "id": "8433d23a-7f3c-4f1a-9bab-443341f8fb34",
   "metadata": {
    "tags": []
   },
   "source": [
    "## Beyond densest $k$-subgraphs"
   ]
  },
  {
   "cell_type": "markdown",
   "id": "2e63a184-8fd2-49ef-9722-010c11dd9813",
   "metadata": {},
   "source": [
    "---\n",
    "\n",
    "**Example** (Broken dumbbell)  \n",
    ":label: eg:broken-dumbbell\n",
    "\n",
    "For integer $b \\geq 4$, construct a graph on $V=C_1\\cup C_2$ by connecting a $b$-clique on $C_1$ and a quasi $b$-clique on $C_2$ with an edge removed. \n",
    "\n",
    "---"
   ]
  },
  {
   "cell_type": "code",
   "execution_count": null,
   "id": "6e4d4240-c7d3-483e-90ae-6691ddd5c5e8",
   "metadata": {
    "tags": [
     "hide-input"
    ]
   },
   "outputs": [
    {
     "data": {
      "application/vnd.jupyter.widget-view+json": {
       "model_id": "e6505c8914a34d069d3957229062df78",
       "version_major": 2,
       "version_minor": 0
      },
      "text/plain": [
       "interactive(children=(IntSlider(value=4, description='b', max=15, min=3), IntSlider(value=0, description='numb…"
      ]
     },
     "metadata": {},
     "output_type": "display_data"
    }
   ],
   "source": [
    "dumbbell(b=4, t=\"broken\")"
   ]
  },
  {
   "cell_type": "markdown",
   "id": "42861b63-7a37-48cc-b696-644e55bb2904",
   "metadata": {},
   "source": [
    "$C_2\\not\\in \\mc{D}_b$ even though it is a meaningful subset:\n",
    "\n",
    "$$\n",
    "\\begin{align}\n",
    "\\rho(C_1) &= \\frac{b-1}{2}\\\\\n",
    "\\rho(C_2) &= \\frac{b-1}{2} - \\frac1{2b} <  \\rho(C_1).\n",
    "\\end{align}\n",
    "$$"
   ]
  },
  {
   "cell_type": "markdown",
   "id": "6ac786e3-e5a0-4408-b262-3add33963253",
   "metadata": {},
   "source": [
    "```{important}\n",
    "Our goal is \n",
    "- to develop a **combinatorial information theory** by\n",
    "- defining meaningful clusters of dense subsets **beyond graphs and applicable to info-net**, and\n",
    "- **characterizing/computing the clusters** in polynomial time.\n",
    "```"
   ]
  },
  {
   "cell_type": "code",
   "execution_count": null,
   "id": "0b8af365-ef0b-4ab5-a27e-b0e6c42c0368",
   "metadata": {},
   "outputs": [],
   "source": []
  }
 ],
 "metadata": {
  "jupytext": {
   "formats": "ipynb,md:myst"
  },
  "kernelspec": {
   "display_name": "Python 3 (ipykernel)",
   "language": "python",
   "name": "python3"
  },
  "language_info": {
   "codemirror_mode": {
    "name": "ipython",
    "version": 3
   },
   "file_extension": ".py",
   "mimetype": "text/x-python",
   "name": "python",
   "nbconvert_exporter": "python",
   "pygments_lexer": "ipython3",
   "version": "3.10.8"
  },
  "widgets": {
   "application/vnd.jupyter.widget-state+json": {
    "state": {
     "000a1a64edc14eb2a43fff4c08d8daea": {
      "model_module": "@jupyter-widgets/base",
      "model_module_version": "1.2.0",
      "model_name": "LayoutModel",
      "state": {}
     },
     "0064fdb3f9cc46bc83a1db91fa690f87": {
      "model_module": "@jupyter-widgets/controls",
      "model_module_version": "1.5.0",
      "model_name": "FloatSliderModel",
      "state": {
       "description": "fig_aspect",
       "layout": "IPY_MODEL_a4bb4e13efff45b8a309c2b3d1743d2d",
       "max": 1.5,
       "min": -0.5,
       "step": 0.1,
       "style": "IPY_MODEL_ea2f12ec930d4beb9f50eb7f808972f3",
       "value": 0.5
      }
     },
     "01bb071ef83341529408a31aa69643f7": {
      "model_module": "@jupyter-widgets/base",
      "model_module_version": "1.2.0",
      "model_name": "LayoutModel",
      "state": {}
     },
     "024923efcf984350890a81420a612d78": {
      "model_module": "@jupyter-widgets/controls",
      "model_module_version": "1.5.0",
      "model_name": "SliderStyleModel",
      "state": {
       "description_width": ""
      }
     },
     "027eb3477c5949c18926db18596b8e4c": {
      "model_module": "@jupyter-widgets/controls",
      "model_module_version": "1.5.0",
      "model_name": "SliderStyleModel",
      "state": {
       "description_width": ""
      }
     },
     "029ca6f60e50455da6985f531806962e": {
      "model_module": "@jupyter-widgets/controls",
      "model_module_version": "1.5.0",
      "model_name": "VBoxModel",
      "state": {
       "_dom_classes": [
        "widget-interact"
       ],
       "children": [
        "IPY_MODEL_7e9a2ddde26c46cabc22c880008616bc",
        "IPY_MODEL_2092dcfff58c45d2b0f92706662d3215",
        "IPY_MODEL_fe5ac35afcd54f0fb208d1d79fee946d",
        "IPY_MODEL_aa07f9e8380e423a9b77ab39a9d01b46"
       ],
       "layout": "IPY_MODEL_2e906a576cfc49c0811ff1d45be1c3cc"
      }
     },
     "033a6eccaa9c4795ab76ab0d07f4fe59": {
      "model_module": "@jupyter-widgets/base",
      "model_module_version": "1.2.0",
      "model_name": "LayoutModel",
      "state": {}
     },
     "03fa0e5829194679afe03c85b1adb679": {
      "model_module": "@jupyter-widgets/base",
      "model_module_version": "1.2.0",
      "model_name": "LayoutModel",
      "state": {}
     },
     "04a8ec2f38864da38f9480de80519086": {
      "model_module": "@jupyter-widgets/controls",
      "model_module_version": "1.5.0",
      "model_name": "SliderStyleModel",
      "state": {
       "description_width": ""
      }
     },
     "04f38b03b3e241319ff2af7960fcd224": {
      "model_module": "@jupyter-widgets/base",
      "model_module_version": "1.2.0",
      "model_name": "LayoutModel",
      "state": {}
     },
     "06f885ad9d0b46bf84ba913628c76e3c": {
      "model_module": "@jupyter-widgets/base",
      "model_module_version": "1.2.0",
      "model_name": "LayoutModel",
      "state": {}
     },
     "0738881042bc4043af2a215ae605b155": {
      "model_module": "@jupyter-widgets/controls",
      "model_module_version": "1.5.0",
      "model_name": "IntSliderModel",
      "state": {
       "description": "figsize_x",
       "layout": "IPY_MODEL_7af809673f2e4765be13f77e30d126af",
       "max": 48,
       "min": -16,
       "style": "IPY_MODEL_3c6d1a61679f47069cf774ff5ae6d3ad",
       "value": 16
      }
     },
     "077a60d22cf14345bf4c2d23662d5a27": {
      "model_module": "@jupyter-widgets/base",
      "model_module_version": "1.2.0",
      "model_name": "LayoutModel",
      "state": {}
     },
     "0792b3d758244e45ae3fd67650b08d70": {
      "model_module": "@jupyter-widgets/controls",
      "model_module_version": "1.5.0",
      "model_name": "DescriptionStyleModel",
      "state": {
       "description_width": ""
      }
     },
     "088d9f42b1384165891573d90b4e928f": {
      "model_module": "@jupyter-widgets/controls",
      "model_module_version": "1.5.0",
      "model_name": "IntSliderModel",
      "state": {
       "description": "Node in-between",
       "layout": "IPY_MODEL_89f0bd04313349d093fd1a9bd518ea53",
       "max": 6,
       "min": -1,
       "style": "IPY_MODEL_9cd9a67e68074004b20cfda3bcd212cc"
      }
     },
     "0b80753178254704a7b04d25d84b4370": {
      "model_module": "@jupyter-widgets/base",
      "model_module_version": "1.2.0",
      "model_name": "LayoutModel",
      "state": {}
     },
     "0dfd780398614a059fdf24c26eb763ce": {
      "model_module": "@jupyter-widgets/base",
      "model_module_version": "1.2.0",
      "model_name": "LayoutModel",
      "state": {}
     },
     "0eccb3197ba642af8baf6e52869bd36b": {
      "model_module": "@jupyter-widgets/base",
      "model_module_version": "1.2.0",
      "model_name": "LayoutModel",
      "state": {}
     },
     "0f4dc1ba02844f0ca761d9377265a2a7": {
      "model_module": "@jupyter-widgets/controls",
      "model_module_version": "1.5.0",
      "model_name": "SliderStyleModel",
      "state": {
       "description_width": ""
      }
     },
     "12fd9d3abc3e4bc49a561e3865c6fe36": {
      "model_module": "@jupyter-widgets/controls",
      "model_module_version": "1.5.0",
      "model_name": "FloatSliderModel",
      "state": {
       "description": "text_x_pos",
       "layout": "IPY_MODEL_cb0779139422444289276b66d89f04de",
       "max": 10.5,
       "min": -3.5,
       "step": 0.1,
       "style": "IPY_MODEL_54cd6305ec454b4791d62c92d534369b",
       "value": 3.5
      }
     },
     "16bfada60be54ba2b8800c715c812f04": {
      "model_module": "@jupyter-widgets/controls",
      "model_module_version": "1.5.0",
      "model_name": "IntSliderModel",
      "state": {
       "description": "fig_ylim_top",
       "layout": "IPY_MODEL_e606bd532ec54993a644a6a77ac0f69b",
       "max": 39,
       "min": -13,
       "style": "IPY_MODEL_18f04f023cd04128bb486040b6992a6a",
       "value": 13
      }
     },
     "1821360859e34044b3d36ea8061e8865": {
      "model_module": "@jupyter-widgets/base",
      "model_module_version": "1.2.0",
      "model_name": "LayoutModel",
      "state": {}
     },
     "1858f860c7444c28b768a7f52b240b92": {
      "model_module": "@jupyter-widgets/controls",
      "model_module_version": "1.5.0",
      "model_name": "SliderStyleModel",
      "state": {
       "description_width": ""
      }
     },
     "18f04f023cd04128bb486040b6992a6a": {
      "model_module": "@jupyter-widgets/controls",
      "model_module_version": "1.5.0",
      "model_name": "SliderStyleModel",
      "state": {
       "description_width": ""
      }
     },
     "1aeeb0d2975949c0aecfab67e23b4307": {
      "model_module": "@jupyter-widgets/base",
      "model_module_version": "1.2.0",
      "model_name": "LayoutModel",
      "state": {}
     },
     "1c32ccce7d45488886999f25b7da74f3": {
      "model_module": "@jupyter-widgets/base",
      "model_module_version": "1.2.0",
      "model_name": "LayoutModel",
      "state": {
       "flex_flow": "row wrap"
      }
     },
     "1c387db153264fd7a864757ef4545a58": {
      "model_module": "@jupyter-widgets/base",
      "model_module_version": "1.2.0",
      "model_name": "LayoutModel",
      "state": {}
     },
     "1e30c6d6a1274d9eac416421eecb539d": {
      "model_module": "@jupyter-widgets/controls",
      "model_module_version": "1.5.0",
      "model_name": "IntSliderModel",
      "state": {
       "description": "font_size",
       "layout": "IPY_MODEL_8caf9ff9fb3542099fc8dc490e73c878",
       "max": 36,
       "min": -12,
       "style": "IPY_MODEL_84c683f04aae438a9eb027385bc5d773",
       "value": 12
      }
     },
     "1effebdf30144f8b87356eab624dad8c": {
      "model_module": "@jupyter-widgets/controls",
      "model_module_version": "1.5.0",
      "model_name": "IntSliderModel",
      "state": {
       "description": "Calculation steps",
       "layout": "IPY_MODEL_0eccb3197ba642af8baf6e52869bd36b",
       "max": 12,
       "style": "IPY_MODEL_83c14c38ad0f4d649ab5773cdb4a7597",
       "value": 3
      }
     },
     "2092dcfff58c45d2b0f92706662d3215": {
      "model_module": "@jupyter-widgets/controls",
      "model_module_version": "1.5.0",
      "model_name": "IntSliderModel",
      "state": {
       "description": "number of node in-between",
       "layout": "IPY_MODEL_9bbc8023d4b64877ae85139fe8a02309",
       "max": 5,
       "min": -1,
       "style": "IPY_MODEL_a37189c4f5dc448da5dba287fda96265"
      }
     },
     "22b31bd64aa64001b9dcde89d0017373": {
      "model_module": "@jupyter-widgets/controls",
      "model_module_version": "1.5.0",
      "model_name": "VBoxModel",
      "state": {
       "_dom_classes": [
        "widget-interact"
       ],
       "children": [
        "IPY_MODEL_ff47501559844d51a7e17f62332a7b2c",
        "IPY_MODEL_42562e2d062f46df9c6ad9458de7d7e6",
        "IPY_MODEL_2c00071c465448d29f9b4e57a223c0d1",
        "IPY_MODEL_855b8ebb451542c2a6fed1e552bc4d37",
        "IPY_MODEL_8339d9e99f684fe1bb29425208e12560",
        "IPY_MODEL_d8b0de6ffd504606bdfa422b7bfecfbe",
        "IPY_MODEL_0738881042bc4043af2a215ae605b155",
        "IPY_MODEL_806837a61c8d408b87f0e1bd83fe5259",
        "IPY_MODEL_1e30c6d6a1274d9eac416421eecb539d",
        "IPY_MODEL_0064fdb3f9cc46bc83a1db91fa690f87",
        "IPY_MODEL_4dc3c0f7cf2e46638d99b9d8d7416e33",
        "IPY_MODEL_e76e136f0b6848b1888ad9377b31e0c9",
        "IPY_MODEL_16bfada60be54ba2b8800c715c812f04",
        "IPY_MODEL_d7aacf62ce214c5ca394d1884f1e0d0c",
        "IPY_MODEL_b012a78dea3345d88216d5c338e0b485"
       ],
       "layout": "IPY_MODEL_ee8dfe20731d4006a48ef3144deca6f9"
      }
     },
     "235b563b729e467baeaec45efe3d847c": {
      "model_module": "@jupyter-widgets/base",
      "model_module_version": "1.2.0",
      "model_name": "LayoutModel",
      "state": {}
     },
     "2369d5029eab4a8e9bb4313b119b91a8": {
      "model_module": "@jupyter-widgets/base",
      "model_module_version": "1.2.0",
      "model_name": "LayoutModel",
      "state": {}
     },
     "255d2f7362b245fda33f6b3497087e6c": {
      "model_module": "@jupyter-widgets/base",
      "model_module_version": "1.2.0",
      "model_name": "LayoutModel",
      "state": {}
     },
     "25c5b16c0d374f34b742dfc9fc2f3a86": {
      "model_module": "@jupyter-widgets/controls",
      "model_module_version": "1.5.0",
      "model_name": "IntSliderModel",
      "state": {
       "description": "font_size",
       "layout": "IPY_MODEL_04f38b03b3e241319ff2af7960fcd224",
       "max": 36,
       "min": -12,
       "style": "IPY_MODEL_3afc7b7ea9dc44b98392e8e87c7cb89c",
       "value": 12
      }
     },
     "27485c1cc18a4b1aae7f89ce62fbf14f": {
      "model_module": "@jupyter-widgets/base",
      "model_module_version": "1.2.0",
      "model_name": "LayoutModel",
      "state": {}
     },
     "28e58c1501d8442187ce0023ba26d307": {
      "model_module": "@jupyter-widgets/base",
      "model_module_version": "1.2.0",
      "model_name": "LayoutModel",
      "state": {}
     },
     "2a58487d865544928770a501b628d125": {
      "model_module": "@jupyter-widgets/controls",
      "model_module_version": "1.5.0",
      "model_name": "IntSliderModel",
      "state": {
       "description": "figsize_x",
       "layout": "IPY_MODEL_b5a8eb16802c477e9c9d4fe4b932fbbc",
       "max": 48,
       "min": -16,
       "style": "IPY_MODEL_b2b0f8edb11443c7a79ac8000151883f",
       "value": 16
      }
     },
     "2af7dfceaebf45d18cec2dac64a4f7b0": {
      "model_module": "@jupyter-widgets/controls",
      "model_module_version": "1.5.0",
      "model_name": "SliderStyleModel",
      "state": {
       "description_width": ""
      }
     },
     "2b350d6b17224898b385fc8900da819e": {
      "model_module": "@jupyter-widgets/base",
      "model_module_version": "1.2.0",
      "model_name": "LayoutModel",
      "state": {}
     },
     "2b8efc6bac93493eb645ef21232b7276": {
      "model_module": "@jupyter-widgets/controls",
      "model_module_version": "1.5.0",
      "model_name": "SliderStyleModel",
      "state": {
       "description_width": ""
      }
     },
     "2bf685cb301842639dcb58fbb7c3dfe8": {
      "model_module": "@jupyter-widgets/controls",
      "model_module_version": "1.5.0",
      "model_name": "IntSliderModel",
      "state": {
       "description": "figsize_x",
       "layout": "IPY_MODEL_41cab9e7a52443a08d864abdb42650ce",
       "max": 48,
       "min": -16,
       "style": "IPY_MODEL_489c9b37479d47f5859f76c5fa3cf841",
       "value": 16
      }
     },
     "2c00071c465448d29f9b4e57a223c0d1": {
      "model_module": "@jupyter-widgets/controls",
      "model_module_version": "1.5.0",
      "model_name": "DropdownModel",
      "state": {
       "_options_labels": [
        "normal",
        "biased",
        "broken"
       ],
       "description": "dumbell type",
       "index": 0,
       "layout": "IPY_MODEL_d44287fcf93348d095a64ace24534ce7",
       "style": "IPY_MODEL_a214fbaef22e4bc8a18d104ca0559c56"
      }
     },
     "2cf1f23c8e7343b48748266dffbc441a": {
      "model_module": "@jupyter-widgets/controls",
      "model_module_version": "1.5.0",
      "model_name": "IntSliderModel",
      "state": {
       "description": "b",
       "layout": "IPY_MODEL_feaae36bfd5e4523b79fd9f2d69b74c8",
       "max": 8,
       "min": 3,
       "style": "IPY_MODEL_2b8efc6bac93493eb645ef21232b7276",
       "value": 4
      }
     },
     "2e906a576cfc49c0811ff1d45be1c3cc": {
      "model_module": "@jupyter-widgets/base",
      "model_module_version": "1.2.0",
      "model_name": "LayoutModel",
      "state": {}
     },
     "2eaaadc9d61b4804926de018e06a0226": {
      "model_module": "@jupyter-widgets/controls",
      "model_module_version": "1.5.0",
      "model_name": "FloatSliderModel",
      "state": {
       "description": "fig_aspect",
       "layout": "IPY_MODEL_06f885ad9d0b46bf84ba913628c76e3c",
       "max": 1.5,
       "min": -0.5,
       "step": 0.1,
       "style": "IPY_MODEL_3fdaa4899c324272b0f8968ae554c139",
       "value": 0.5
      }
     },
     "3022281dfea64783b68252fef798bf99": {
      "model_module": "@jupyter-widgets/controls",
      "model_module_version": "1.5.0",
      "model_name": "SliderStyleModel",
      "state": {
       "description_width": ""
      }
     },
     "31693e23b49445698f46f538a2d7ee48": {
      "model_module": "@jupyter-widgets/base",
      "model_module_version": "1.2.0",
      "model_name": "LayoutModel",
      "state": {}
     },
     "34baccd7f6ff4234ba0af083d4944169": {
      "model_module": "@jupyter-widgets/controls",
      "model_module_version": "1.5.0",
      "model_name": "IntSliderModel",
      "state": {
       "description": "b",
       "layout": "IPY_MODEL_7d129a059fe1466e9a477860474156bc",
       "max": 15,
       "min": 3,
       "style": "IPY_MODEL_e25c77f9c5bc43fca8b47b6a903861a6",
       "value": 3
      }
     },
     "35c86d61ea21471cb9141fab96ff3a94": {
      "model_module": "@jupyter-widgets/controls",
      "model_module_version": "1.5.0",
      "model_name": "DropdownModel",
      "state": {
       "_options_labels": [
        "normal",
        "biased",
        "broken"
       ],
       "description": "dumbell type",
       "index": 0,
       "layout": "IPY_MODEL_3d0a42b768b3421083ad23ad023da67d",
       "style": "IPY_MODEL_0792b3d758244e45ae3fd67650b08d70"
      }
     },
     "367ead6ab933405c875372a21d32c2ee": {
      "model_module": "@jupyter-widgets/base",
      "model_module_version": "1.2.0",
      "model_name": "LayoutModel",
      "state": {}
     },
     "37f018f045474a8facad719e70685d9b": {
      "model_module": "@jupyter-widgets/controls",
      "model_module_version": "1.5.0",
      "model_name": "SliderStyleModel",
      "state": {
       "description_width": ""
      }
     },
     "392ed65282154695818508eef408b1b3": {
      "model_module": "@jupyter-widgets/controls",
      "model_module_version": "1.5.0",
      "model_name": "SliderStyleModel",
      "state": {
       "description_width": ""
      }
     },
     "39931f6cf19740b7ab4fe415df9ed414": {
      "model_module": "@jupyter-widgets/base",
      "model_module_version": "1.2.0",
      "model_name": "LayoutModel",
      "state": {}
     },
     "3a242f905bac4e08985c6d9a97609b65": {
      "model_module": "@jupyter-widgets/controls",
      "model_module_version": "1.5.0",
      "model_name": "IntSliderModel",
      "state": {
       "description": "number of node in-between",
       "layout": "IPY_MODEL_a95e98e825ab4704a91563751427cca7",
       "max": 5,
       "min": -1,
       "style": "IPY_MODEL_402f2c4d329841f29fa04795bec7c609"
      }
     },
     "3a392870de6a4eb8b0dc86ca60c408aa": {
      "model_module": "@jupyter-widgets/controls",
      "model_module_version": "1.5.0",
      "model_name": "VBoxModel",
      "state": {
       "_dom_classes": [
        "widget-interact"
       ],
       "children": [
        "IPY_MODEL_52dd8a52be6a4ac09bc3642e0e944d51",
        "IPY_MODEL_68c0be4f66a1408488dc25373a1188ee",
        "IPY_MODEL_2a58487d865544928770a501b628d125",
        "IPY_MODEL_e9f7f28bbd574bfeae82462de911f14b",
        "IPY_MODEL_95198996d15b4ce0bad474c4dd961df5",
        "IPY_MODEL_2eaaadc9d61b4804926de018e06a0226",
        "IPY_MODEL_7638a1dd53b0466c9ca57364caab3a2f",
        "IPY_MODEL_8315f6bffaa24c28bc18ac96ae0e0e94",
        "IPY_MODEL_f42e631880e341b9b61cf47571e744a3",
        "IPY_MODEL_6421dff5e692424b9805b23d8d2ffb84",
        "IPY_MODEL_4f302d251da14fef91917a5497763f84"
       ],
       "layout": "IPY_MODEL_b5ec9c4f6c1943599bc5d11fdae44411"
      }
     },
     "3afc7b7ea9dc44b98392e8e87c7cb89c": {
      "model_module": "@jupyter-widgets/controls",
      "model_module_version": "1.5.0",
      "model_name": "SliderStyleModel",
      "state": {
       "description_width": ""
      }
     },
     "3bcee686c27a4d2989413fb985bf0e71": {
      "model_module": "@jupyter-widgets/controls",
      "model_module_version": "1.5.0",
      "model_name": "SliderStyleModel",
      "state": {
       "description_width": ""
      }
     },
     "3bd23fd742ac4befadb4570395e17093": {
      "model_module": "@jupyter-widgets/base",
      "model_module_version": "1.2.0",
      "model_name": "LayoutModel",
      "state": {}
     },
     "3c2c2f2a83c74878b82b3cc8b0cd644c": {
      "model_module": "@jupyter-widgets/base",
      "model_module_version": "1.2.0",
      "model_name": "LayoutModel",
      "state": {}
     },
     "3c5083bc8b664e659d56055e146201c7": {
      "model_module": "@jupyter-widgets/output",
      "model_module_version": "1.0.0",
      "model_name": "OutputModel",
      "state": {
       "layout": "IPY_MODEL_c240930541ac436e87584e8c52b4f1ff",
       "outputs": [
        {
         "data": {
          "image/png": "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\n",
          "text/plain": "<Figure size 720x576 with 1 Axes>"
         },
         "metadata": {},
         "output_type": "display_data"
        }
       ]
      }
     },
     "3c6d1a61679f47069cf774ff5ae6d3ad": {
      "model_module": "@jupyter-widgets/controls",
      "model_module_version": "1.5.0",
      "model_name": "SliderStyleModel",
      "state": {
       "description_width": ""
      }
     },
     "3cdf7bdaa794439684a62d4008f44c3e": {
      "model_module": "@jupyter-widgets/base",
      "model_module_version": "1.2.0",
      "model_name": "LayoutModel",
      "state": {}
     },
     "3d0a42b768b3421083ad23ad023da67d": {
      "model_module": "@jupyter-widgets/base",
      "model_module_version": "1.2.0",
      "model_name": "LayoutModel",
      "state": {}
     },
     "3e09de8e02924d6c8e462e55b2c9bfc9": {
      "model_module": "@jupyter-widgets/base",
      "model_module_version": "1.2.0",
      "model_name": "LayoutModel",
      "state": {}
     },
     "3fa10d3ca5d741c98a35d17cbac4dfc0": {
      "model_module": "@jupyter-widgets/controls",
      "model_module_version": "1.5.0",
      "model_name": "VBoxModel",
      "state": {
       "_dom_classes": [
        "widget-interact"
       ],
       "children": [
        "IPY_MODEL_34baccd7f6ff4234ba0af083d4944169",
        "IPY_MODEL_e007f10d40ef42a3a876c06033de9d60",
        "IPY_MODEL_61724b0278674c8f9d878bf9970aa4e4",
        "IPY_MODEL_439aac38db9f4e8eb16badf05ac06e6a"
       ],
       "layout": "IPY_MODEL_484630e622db4e58a97ece8b86bc5cf1"
      }
     },
     "3fa21f54808242b3a59d797554401c58": {
      "model_module": "@jupyter-widgets/base",
      "model_module_version": "1.2.0",
      "model_name": "LayoutModel",
      "state": {}
     },
     "3fdaa4899c324272b0f8968ae554c139": {
      "model_module": "@jupyter-widgets/controls",
      "model_module_version": "1.5.0",
      "model_name": "SliderStyleModel",
      "state": {
       "description_width": ""
      }
     },
     "402f2c4d329841f29fa04795bec7c609": {
      "model_module": "@jupyter-widgets/controls",
      "model_module_version": "1.5.0",
      "model_name": "SliderStyleModel",
      "state": {
       "description_width": ""
      }
     },
     "4068a9941afc4e7ba300065ec9016d30": {
      "model_module": "@jupyter-widgets/controls",
      "model_module_version": "1.5.0",
      "model_name": "SliderStyleModel",
      "state": {
       "description_width": ""
      }
     },
     "40cb396e7f4145c4bcc6b6efc9942b76": {
      "model_module": "@jupyter-widgets/controls",
      "model_module_version": "1.5.0",
      "model_name": "IntSliderModel",
      "state": {
       "description": "figsize_y",
       "layout": "IPY_MODEL_50f0501cb59a4311846f4542c742f659",
       "max": 36,
       "min": -12,
       "style": "IPY_MODEL_fd7969bbb17f40e3a12efc78352a42e2",
       "value": 12
      }
     },
     "41b3d8b9862b4647980ef000a002da1b": {
      "model_module": "@jupyter-widgets/controls",
      "model_module_version": "1.5.0",
      "model_name": "VBoxModel",
      "state": {
       "_dom_classes": [
        "widget-interact"
       ],
       "children": [
        "IPY_MODEL_b9c3fdfd69b64d47a7312429bb92b0ec",
        "IPY_MODEL_77c9723de64440ad95885828914fd3fa",
        "IPY_MODEL_5b7faf8d84cb4757ace3cef9bd45c6d4",
        "IPY_MODEL_6d77cdd255f5472a8a478856cc3ab784"
       ],
       "layout": "IPY_MODEL_ccece7a0a1bf41c48b91cff3f1f5ffc9"
      }
     },
     "41cab9e7a52443a08d864abdb42650ce": {
      "model_module": "@jupyter-widgets/base",
      "model_module_version": "1.2.0",
      "model_name": "LayoutModel",
      "state": {}
     },
     "42562e2d062f46df9c6ad9458de7d7e6": {
      "model_module": "@jupyter-widgets/controls",
      "model_module_version": "1.5.0",
      "model_name": "IntSliderModel",
      "state": {
       "description": "Node in-between",
       "layout": "IPY_MODEL_e6bdc156803d4d9190e4ceafb98d2901",
       "max": 6,
       "min": -1,
       "style": "IPY_MODEL_b33e0f39e9774b8ab0341c50dfcf4824"
      }
     },
     "439aac38db9f4e8eb16badf05ac06e6a": {
      "model_module": "@jupyter-widgets/output",
      "model_module_version": "1.0.0",
      "model_name": "OutputModel",
      "state": {
       "layout": "IPY_MODEL_2b350d6b17224898b385fc8900da819e",
       "outputs": [
        {
         "data": {
          "image/png": "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\n",
          "text/plain": "<Figure size 720x576 with 1 Axes>"
         },
         "metadata": {},
         "output_type": "display_data"
        }
       ]
      }
     },
     "445f74c35ec04121803b1118e7b49ad5": {
      "model_module": "@jupyter-widgets/base",
      "model_module_version": "1.2.0",
      "model_name": "LayoutModel",
      "state": {}
     },
     "47e7cdada29946bbbada637f9f254858": {
      "model_module": "@jupyter-widgets/controls",
      "model_module_version": "1.5.0",
      "model_name": "VBoxModel",
      "state": {
       "_dom_classes": [
        "widget-interact"
       ],
       "children": [
        "IPY_MODEL_79c240e9a0d0437e9b464d67080d361b",
        "IPY_MODEL_bea7704de794493d917f39393a6764e1",
        "IPY_MODEL_7d4c373ca1f045b3b68384c89237dc15",
        "IPY_MODEL_d114f20378ae474182424a41954cf83d"
       ],
       "layout": "IPY_MODEL_7e4d8fb0423d4d6a853dea818609c189"
      }
     },
     "484630e622db4e58a97ece8b86bc5cf1": {
      "model_module": "@jupyter-widgets/base",
      "model_module_version": "1.2.0",
      "model_name": "LayoutModel",
      "state": {}
     },
     "489c9b37479d47f5859f76c5fa3cf841": {
      "model_module": "@jupyter-widgets/controls",
      "model_module_version": "1.5.0",
      "model_name": "SliderStyleModel",
      "state": {
       "description_width": ""
      }
     },
     "4a8ec5cca8df47e59436efc0c76617e3": {
      "model_module": "@jupyter-widgets/controls",
      "model_module_version": "1.5.0",
      "model_name": "SliderStyleModel",
      "state": {
       "description_width": ""
      }
     },
     "4dc3c0f7cf2e46638d99b9d8d7416e33": {
      "model_module": "@jupyter-widgets/controls",
      "model_module_version": "1.5.0",
      "model_name": "IntSliderModel",
      "state": {
       "description": "fig_xlim_right",
       "layout": "IPY_MODEL_b9c8b555815d44b39e688e5331d98d6e",
       "max": 24,
       "min": -8,
       "style": "IPY_MODEL_7596ff03699a41809a9a0d2f1c9a3631",
       "value": 8
      }
     },
     "4f302d251da14fef91917a5497763f84": {
      "model_module": "@jupyter-widgets/output",
      "model_module_version": "1.0.0",
      "model_name": "OutputModel",
      "state": {
       "layout": "IPY_MODEL_bae1426e64f346c3a3b0fb55ece77333"
      }
     },
     "501aee25d7c145029d4d5c0203a9dbdf": {
      "model_module": "@jupyter-widgets/controls",
      "model_module_version": "1.5.0",
      "model_name": "IntSliderModel",
      "state": {
       "description": "number of node in-between",
       "layout": "IPY_MODEL_6e40c72a40004c78ade5ce1b4bbef156",
       "max": 5,
       "min": -1,
       "style": "IPY_MODEL_870819f1b16749429210db211a0ae428"
      }
     },
     "50f0501cb59a4311846f4542c742f659": {
      "model_module": "@jupyter-widgets/base",
      "model_module_version": "1.2.0",
      "model_name": "LayoutModel",
      "state": {}
     },
     "51dc4b355f564661939dde36d0f2eb2f": {
      "model_module": "@jupyter-widgets/controls",
      "model_module_version": "1.5.0",
      "model_name": "SliderStyleModel",
      "state": {
       "description_width": ""
      }
     },
     "523c0146f0fa488ba3bcaba9a1e743cb": {
      "model_module": "@jupyter-widgets/base",
      "model_module_version": "1.2.0",
      "model_name": "LayoutModel",
      "state": {}
     },
     "52dd8a52be6a4ac09bc3642e0e944d51": {
      "model_module": "@jupyter-widgets/controls",
      "model_module_version": "1.5.0",
      "model_name": "IntSliderModel",
      "state": {
       "description": "Calculation steps",
       "layout": "IPY_MODEL_03fa0e5829194679afe03c85b1adb679",
       "max": 12,
       "style": "IPY_MODEL_a5cb2fe6c8634572b74278541288ed4f",
       "value": 3
      }
     },
     "54cd6305ec454b4791d62c92d534369b": {
      "model_module": "@jupyter-widgets/controls",
      "model_module_version": "1.5.0",
      "model_name": "SliderStyleModel",
      "state": {
       "description_width": ""
      }
     },
     "56b909a391314118b2e758b1e97cae65": {
      "model_module": "@jupyter-widgets/controls",
      "model_module_version": "1.5.0",
      "model_name": "SliderStyleModel",
      "state": {
       "description_width": ""
      }
     },
     "5b7faf8d84cb4757ace3cef9bd45c6d4": {
      "model_module": "@jupyter-widgets/controls",
      "model_module_version": "1.5.0",
      "model_name": "DropdownModel",
      "state": {
       "_options_labels": [
        "normal",
        "biased",
        "broken"
       ],
       "description": "dumbell type",
       "index": 0,
       "layout": "IPY_MODEL_1821360859e34044b3d36ea8061e8865",
       "style": "IPY_MODEL_87da9106756d41699bcdbf8602f81e67"
      }
     },
     "5c63d1cf308349c885fba3482e09b2ee": {
      "model_module": "@jupyter-widgets/base",
      "model_module_version": "1.2.0",
      "model_name": "LayoutModel",
      "state": {}
     },
     "61724b0278674c8f9d878bf9970aa4e4": {
      "model_module": "@jupyter-widgets/controls",
      "model_module_version": "1.5.0",
      "model_name": "DropdownModel",
      "state": {
       "_options_labels": [
        "normal",
        "biased",
        "broken"
       ],
       "description": "dumbell type",
       "index": 0,
       "layout": "IPY_MODEL_d72311585194474d9c6d8a5a6599cd57",
       "style": "IPY_MODEL_cc505e65e7ad44eb9a546e93032339e7"
      }
     },
     "6181869c36354b81b30ed82c63bbaa67": {
      "model_module": "@jupyter-widgets/base",
      "model_module_version": "1.2.0",
      "model_name": "LayoutModel",
      "state": {}
     },
     "62d6e983714b4345b6c78beaef17172b": {
      "model_module": "@jupyter-widgets/controls",
      "model_module_version": "1.5.0",
      "model_name": "DropdownModel",
      "state": {
       "_options_labels": [
        "normal",
        "biased",
        "broken"
       ],
       "description": "dumbell type",
       "index": 0,
       "layout": "IPY_MODEL_27485c1cc18a4b1aae7f89ce62fbf14f",
       "style": "IPY_MODEL_b63e23300df84376929bae51c2bc7e79"
      }
     },
     "62ec0634680347b19efe8a009f81603c": {
      "model_module": "@jupyter-widgets/controls",
      "model_module_version": "1.5.0",
      "model_name": "SliderStyleModel",
      "state": {
       "description_width": ""
      }
     },
     "63b2ae9b107342d58552b036ef00085b": {
      "model_module": "@jupyter-widgets/base",
      "model_module_version": "1.2.0",
      "model_name": "LayoutModel",
      "state": {}
     },
     "6421dff5e692424b9805b23d8d2ffb84": {
      "model_module": "@jupyter-widgets/controls",
      "model_module_version": "1.5.0",
      "model_name": "IntSliderModel",
      "state": {
       "description": "xx_right",
       "layout": "IPY_MODEL_8f6e7de081664854bb6375a80b787397",
       "max": 24,
       "min": -8,
       "style": "IPY_MODEL_1858f860c7444c28b768a7f52b240b92",
       "value": 8
      }
     },
     "6637c6f702e34833b4c591405657dd62": {
      "model_module": "@jupyter-widgets/controls",
      "model_module_version": "1.5.0",
      "model_name": "SliderStyleModel",
      "state": {
       "description_width": ""
      }
     },
     "68c0be4f66a1408488dc25373a1188ee": {
      "model_module": "@jupyter-widgets/controls",
      "model_module_version": "1.5.0",
      "model_name": "FloatSliderModel",
      "state": {
       "description": "text_x_pos",
       "layout": "IPY_MODEL_367ead6ab933405c875372a21d32c2ee",
       "max": 10.5,
       "min": -3.5,
       "step": 0.1,
       "style": "IPY_MODEL_d9f549c4ceea4a7cb0c7146b7eeef6d6",
       "value": 3.5
      }
     },
     "68cdad840e784705b12b684160a55545": {
      "model_module": "@jupyter-widgets/controls",
      "model_module_version": "1.5.0",
      "model_name": "SliderStyleModel",
      "state": {
       "description_width": ""
      }
     },
     "6a8c8bba351d42728e7644d3646020f5": {
      "model_module": "@jupyter-widgets/output",
      "model_module_version": "1.0.0",
      "model_name": "OutputModel",
      "state": {
       "layout": "IPY_MODEL_e322a50c37544bfda878340b1d720616"
      }
     },
     "6be3374372bc468c9bde1f4168db7d35": {
      "model_module": "@jupyter-widgets/controls",
      "model_module_version": "1.5.0",
      "model_name": "IntSliderModel",
      "state": {
       "description": "Steps",
       "layout": "IPY_MODEL_bb24b954cc5f4399adbbf4472ad36ac5",
       "max": 40,
       "style": "IPY_MODEL_d1bd2082d6d44cddb2443f6bf0c9895b",
       "value": 3
      }
     },
     "6d77cdd255f5472a8a478856cc3ab784": {
      "model_module": "@jupyter-widgets/output",
      "model_module_version": "1.0.0",
      "model_name": "OutputModel",
      "state": {
       "layout": "IPY_MODEL_63b2ae9b107342d58552b036ef00085b",
       "outputs": [
        {
         "data": {
          "image/png": "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\n",
          "text/plain": "<Figure size 720x576 with 1 Axes>"
         },
         "metadata": {},
         "output_type": "display_data"
        }
       ]
      }
     },
     "6d89350d10df4e05974e63a99d2d3b91": {
      "model_module": "@jupyter-widgets/base",
      "model_module_version": "1.2.0",
      "model_name": "LayoutModel",
      "state": {}
     },
     "6d95c0385ccb4fee8a78cba677565c1a": {
      "model_module": "@jupyter-widgets/controls",
      "model_module_version": "1.5.0",
      "model_name": "SliderStyleModel",
      "state": {
       "description_width": ""
      }
     },
     "6dcbc4db566b4573be1c586832b81382": {
      "model_module": "@jupyter-widgets/base",
      "model_module_version": "1.2.0",
      "model_name": "LayoutModel",
      "state": {}
     },
     "6e00ea99088f4b69a20c935a960e8348": {
      "model_module": "@jupyter-widgets/controls",
      "model_module_version": "1.5.0",
      "model_name": "SliderStyleModel",
      "state": {
       "description_width": ""
      }
     },
     "6e40c72a40004c78ade5ce1b4bbef156": {
      "model_module": "@jupyter-widgets/base",
      "model_module_version": "1.2.0",
      "model_name": "LayoutModel",
      "state": {}
     },
     "6e5d5eeb772944d7b608a09be7bb22cc": {
      "model_module": "@jupyter-widgets/base",
      "model_module_version": "1.2.0",
      "model_name": "LayoutModel",
      "state": {}
     },
     "6efe3b7709e943f48e0073bfdbff9e52": {
      "model_module": "@jupyter-widgets/controls",
      "model_module_version": "1.5.0",
      "model_name": "IntSliderModel",
      "state": {
       "description": "figsize_y",
       "layout": "IPY_MODEL_033a6eccaa9c4795ab76ab0d07f4fe59",
       "max": 36,
       "min": -12,
       "style": "IPY_MODEL_027eb3477c5949c18926db18596b8e4c",
       "value": 12
      }
     },
     "6f7693b01868490c854211fbe267b763": {
      "model_module": "@jupyter-widgets/controls",
      "model_module_version": "1.5.0",
      "model_name": "HBoxModel",
      "state": {
       "children": [
        "IPY_MODEL_1effebdf30144f8b87356eab624dad8c",
        "IPY_MODEL_93a81b261e93405e8b5f8d559370944e",
        "IPY_MODEL_2bf685cb301842639dcb58fbb7c3dfe8",
        "IPY_MODEL_40cb396e7f4145c4bcc6b6efc9942b76",
        "IPY_MODEL_909bc332e79d42db801366d8da5759aa",
        "IPY_MODEL_eb54fd999c6a4b8a981978af5c2b9159",
        "IPY_MODEL_84321f1bbc4546abaef9eb2566e4ed9a",
        "IPY_MODEL_8f9c315b791c4fe8897c99ad7afb5589",
        "IPY_MODEL_95f5f3d4efa74ccf8a0c969c16bd0954",
        "IPY_MODEL_b7a22f0900e74434adb8414f4ae1abd3"
       ],
       "layout": "IPY_MODEL_e357c27f333343e19401f3e9f756c90c"
      }
     },
     "6ff9b4a4f3774b3296dce8d528095d25": {
      "model_module": "@jupyter-widgets/controls",
      "model_module_version": "1.5.0",
      "model_name": "DropdownModel",
      "state": {
       "_options_labels": [
        "normal",
        "biased",
        "broken"
       ],
       "description": "dumbell type",
       "index": 2,
       "layout": "IPY_MODEL_f8baa0f6b2aa4cb9ba18c9ac5e20e0f6",
       "style": "IPY_MODEL_c079f6a7a12e40c891fafb6f327308de"
      }
     },
     "709a16b6d85a45be8f7e31fb36b1e75b": {
      "model_module": "@jupyter-widgets/base",
      "model_module_version": "1.2.0",
      "model_name": "LayoutModel",
      "state": {}
     },
     "7118322c5473428098ccaa0e9e8d398c": {
      "model_module": "@jupyter-widgets/controls",
      "model_module_version": "1.5.0",
      "model_name": "IntSliderModel",
      "state": {
       "description": "figsize_x",
       "layout": "IPY_MODEL_9510509158174d91963c1768492a84d1",
       "max": 48,
       "min": -16,
       "style": "IPY_MODEL_e346b9daf1a3461b96924f713b8ddc88",
       "value": 16
      }
     },
     "71d5cd624401467aa1977843e2a69b4e": {
      "model_module": "@jupyter-widgets/base",
      "model_module_version": "1.2.0",
      "model_name": "LayoutModel",
      "state": {}
     },
     "71dbc21230eb4385b0878cd06f979e3d": {
      "model_module": "@jupyter-widgets/controls",
      "model_module_version": "1.5.0",
      "model_name": "IntSliderModel",
      "state": {
       "description": "fig_xlim_right",
       "layout": "IPY_MODEL_80b3cf9dc53c4e17b2a12e80b4b49fb2",
       "max": 24,
       "min": -8,
       "style": "IPY_MODEL_3bcee686c27a4d2989413fb985bf0e71",
       "value": 8
      }
     },
     "7228ed69b6a14a99ade6fbec1cbcf03e": {
      "model_module": "@jupyter-widgets/base",
      "model_module_version": "1.2.0",
      "model_name": "LayoutModel",
      "state": {}
     },
     "74a13b5c2cb6457eb103c4ebd08f7f3a": {
      "model_module": "@jupyter-widgets/controls",
      "model_module_version": "1.5.0",
      "model_name": "HBoxModel",
      "state": {
       "children": [
        "IPY_MODEL_2cf1f23c8e7343b48748266dffbc441a",
        "IPY_MODEL_088d9f42b1384165891573d90b4e928f",
        "IPY_MODEL_35c86d61ea21471cb9141fab96ff3a94",
        "IPY_MODEL_ef9a5df8a93047ab9ba24d8a18e4362f",
        "IPY_MODEL_6be3374372bc468c9bde1f4168db7d35",
        "IPY_MODEL_12fd9d3abc3e4bc49a561e3865c6fe36",
        "IPY_MODEL_7118322c5473428098ccaa0e9e8d398c",
        "IPY_MODEL_6efe3b7709e943f48e0073bfdbff9e52",
        "IPY_MODEL_25c5b16c0d374f34b742dfc9fc2f3a86",
        "IPY_MODEL_823d144090914584a51333e5d406c32c",
        "IPY_MODEL_71dbc21230eb4385b0878cd06f979e3d",
        "IPY_MODEL_d4bf1fa0e2d145c78d52f0084d2368c4",
        "IPY_MODEL_d403f3007913471194bbb46d5c31585a",
        "IPY_MODEL_ecc4ec3df9234b6099783ece012ddcf6"
       ],
       "layout": "IPY_MODEL_e88a87eb5b544bf98601f8da395b5003"
      }
     },
     "751c5f6255d140439e546668c0ef995c": {
      "model_module": "@jupyter-widgets/controls",
      "model_module_version": "1.5.0",
      "model_name": "IntSliderModel",
      "state": {
       "description": "b",
       "layout": "IPY_MODEL_9b0f0c3a64ee446588a3f7d07400ed92",
       "max": 15,
       "min": 3,
       "style": "IPY_MODEL_62ec0634680347b19efe8a009f81603c",
       "value": 4
      }
     },
     "7596ff03699a41809a9a0d2f1c9a3631": {
      "model_module": "@jupyter-widgets/controls",
      "model_module_version": "1.5.0",
      "model_name": "SliderStyleModel",
      "state": {
       "description_width": ""
      }
     },
     "7638a1dd53b0466c9ca57364caab3a2f": {
      "model_module": "@jupyter-widgets/controls",
      "model_module_version": "1.5.0",
      "model_name": "IntSliderModel",
      "state": {
       "description": "fig_xlim_right",
       "layout": "IPY_MODEL_445f74c35ec04121803b1118e7b49ad5",
       "max": 24,
       "min": -8,
       "style": "IPY_MODEL_37f018f045474a8facad719e70685d9b",
       "value": 8
      }
     },
     "77c9723de64440ad95885828914fd3fa": {
      "model_module": "@jupyter-widgets/controls",
      "model_module_version": "1.5.0",
      "model_name": "IntSliderModel",
      "state": {
       "description": "number of node in-between",
       "layout": "IPY_MODEL_f157b9d30992494bb75af781b746917c",
       "max": 5,
       "min": -1,
       "style": "IPY_MODEL_3022281dfea64783b68252fef798bf99"
      }
     },
     "79c240e9a0d0437e9b464d67080d361b": {
      "model_module": "@jupyter-widgets/controls",
      "model_module_version": "1.5.0",
      "model_name": "IntSliderModel",
      "state": {
       "description": "b",
       "layout": "IPY_MODEL_9df959b3a639418c946a315f3e290455",
       "max": 15,
       "min": 3,
       "style": "IPY_MODEL_e088197c209e4fa4b1c3d3529f5fa899",
       "value": 4
      }
     },
     "7a9adea1caee4d7eb27c06471f2f2060": {
      "model_module": "@jupyter-widgets/controls",
      "model_module_version": "1.5.0",
      "model_name": "DropdownModel",
      "state": {
       "_options_labels": [
        "normal",
        "biased",
        "broken"
       ],
       "description": "dumbell type",
       "index": 0,
       "layout": "IPY_MODEL_5c63d1cf308349c885fba3482e09b2ee",
       "style": "IPY_MODEL_e719b6e1df154b32b2db5dd7272e7911"
      }
     },
     "7af809673f2e4765be13f77e30d126af": {
      "model_module": "@jupyter-widgets/base",
      "model_module_version": "1.2.0",
      "model_name": "LayoutModel",
      "state": {}
     },
     "7bbc5c6ad9004827b0a11cb1877188b3": {
      "model_module": "@jupyter-widgets/controls",
      "model_module_version": "1.5.0",
      "model_name": "SliderStyleModel",
      "state": {
       "description_width": ""
      }
     },
     "7d129a059fe1466e9a477860474156bc": {
      "model_module": "@jupyter-widgets/base",
      "model_module_version": "1.2.0",
      "model_name": "LayoutModel",
      "state": {}
     },
     "7d4c373ca1f045b3b68384c89237dc15": {
      "model_module": "@jupyter-widgets/controls",
      "model_module_version": "1.5.0",
      "model_name": "DropdownModel",
      "state": {
       "_options_labels": [
        "normal",
        "biased",
        "broken"
       ],
       "description": "dumbell type",
       "index": 0,
       "layout": "IPY_MODEL_9d7a29c95f38496fb9a9e19f63bab23b",
       "style": "IPY_MODEL_ac857db5a3c14714a78580c91ba185c9"
      }
     },
     "7e4d8fb0423d4d6a853dea818609c189": {
      "model_module": "@jupyter-widgets/base",
      "model_module_version": "1.2.0",
      "model_name": "LayoutModel",
      "state": {}
     },
     "7e5e4eff25c64ad3a6ebd31da7adea39": {
      "model_module": "@jupyter-widgets/base",
      "model_module_version": "1.2.0",
      "model_name": "LayoutModel",
      "state": {}
     },
     "7e9a2ddde26c46cabc22c880008616bc": {
      "model_module": "@jupyter-widgets/controls",
      "model_module_version": "1.5.0",
      "model_name": "IntSliderModel",
      "state": {
       "description": "b",
       "layout": "IPY_MODEL_2369d5029eab4a8e9bb4313b119b91a8",
       "max": 15,
       "min": 3,
       "style": "IPY_MODEL_6e00ea99088f4b69a20c935a960e8348",
       "value": 3
      }
     },
     "7f5305e2c4324eb5bfb5e494447b6d2d": {
      "model_module": "@jupyter-widgets/output",
      "model_module_version": "1.0.0",
      "model_name": "OutputModel",
      "state": {
       "layout": "IPY_MODEL_fb19969cff274ecf87b8041ea5650f69",
       "outputs": [
        {
         "data": {
          "image/png": "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\n",
          "text/plain": "<Figure size 720x576 with 1 Axes>"
         },
         "metadata": {},
         "output_type": "display_data"
        }
       ]
      }
     },
     "806837a61c8d408b87f0e1bd83fe5259": {
      "model_module": "@jupyter-widgets/controls",
      "model_module_version": "1.5.0",
      "model_name": "IntSliderModel",
      "state": {
       "description": "figsize_y",
       "layout": "IPY_MODEL_b4c7b6c1183e4864819b3aa59c7e86aa",
       "max": 36,
       "min": -12,
       "style": "IPY_MODEL_024923efcf984350890a81420a612d78",
       "value": 12
      }
     },
     "80b3cf9dc53c4e17b2a12e80b4b49fb2": {
      "model_module": "@jupyter-widgets/base",
      "model_module_version": "1.2.0",
      "model_name": "LayoutModel",
      "state": {}
     },
     "8183cc8bb645483b923b4ff0a8898504": {
      "model_module": "@jupyter-widgets/controls",
      "model_module_version": "1.5.0",
      "model_name": "VBoxModel",
      "state": {
       "_dom_classes": [
        "widget-interact"
       ],
       "children": [
        "IPY_MODEL_1effebdf30144f8b87356eab624dad8c",
        "IPY_MODEL_93a81b261e93405e8b5f8d559370944e",
        "IPY_MODEL_2bf685cb301842639dcb58fbb7c3dfe8",
        "IPY_MODEL_40cb396e7f4145c4bcc6b6efc9942b76",
        "IPY_MODEL_909bc332e79d42db801366d8da5759aa",
        "IPY_MODEL_eb54fd999c6a4b8a981978af5c2b9159",
        "IPY_MODEL_84321f1bbc4546abaef9eb2566e4ed9a",
        "IPY_MODEL_8f9c315b791c4fe8897c99ad7afb5589",
        "IPY_MODEL_95f5f3d4efa74ccf8a0c969c16bd0954",
        "IPY_MODEL_b7a22f0900e74434adb8414f4ae1abd3",
        "IPY_MODEL_c1c2a429566649a2a65ff2bf2e3dc467"
       ],
       "layout": "IPY_MODEL_709a16b6d85a45be8f7e31fb36b1e75b"
      }
     },
     "81a09a5bb49c4afa84d9567f15426599": {
      "model_module": "@jupyter-widgets/controls",
      "model_module_version": "1.5.0",
      "model_name": "SliderStyleModel",
      "state": {
       "description_width": ""
      }
     },
     "823d144090914584a51333e5d406c32c": {
      "model_module": "@jupyter-widgets/controls",
      "model_module_version": "1.5.0",
      "model_name": "FloatSliderModel",
      "state": {
       "description": "fig_aspect",
       "layout": "IPY_MODEL_235b563b729e467baeaec45efe3d847c",
       "max": 1.5,
       "min": -0.5,
       "step": 0.1,
       "style": "IPY_MODEL_ceb084b4934e440e870879268ff029f1",
       "value": 0.5
      }
     },
     "8315f6bffaa24c28bc18ac96ae0e0e94": {
      "model_module": "@jupyter-widgets/controls",
      "model_module_version": "1.5.0",
      "model_name": "IntSliderModel",
      "state": {
       "description": "fig_ylim_bottom",
       "layout": "IPY_MODEL_d5ffa9eb442a495b80f6245465fbd9b9",
       "max": 18,
       "min": -54,
       "style": "IPY_MODEL_d57643ed57f24424a0c57e4bd20e64b5",
       "value": -18
      }
     },
     "8339d9e99f684fe1bb29425208e12560": {
      "model_module": "@jupyter-widgets/controls",
      "model_module_version": "1.5.0",
      "model_name": "IntSliderModel",
      "state": {
       "description": "Steps",
       "layout": "IPY_MODEL_e82898184c55479cb142816fff62fa0d",
       "max": 40,
       "style": "IPY_MODEL_ccc7d03c9dda438c9a31938f277e2653",
       "value": 3
      }
     },
     "83589293d3cc4730abb2b5caf104ae80": {
      "model_module": "@jupyter-widgets/controls",
      "model_module_version": "1.5.0",
      "model_name": "IntSliderModel",
      "state": {
       "description": "b",
       "layout": "IPY_MODEL_8c2b50bf892e4b0584a339b6b83358de",
       "max": 15,
       "min": 3,
       "style": "IPY_MODEL_cdc8bfa5eb334806bca76288f5b454a9",
       "value": 3
      }
     },
     "83c14c38ad0f4d649ab5773cdb4a7597": {
      "model_module": "@jupyter-widgets/controls",
      "model_module_version": "1.5.0",
      "model_name": "SliderStyleModel",
      "state": {
       "description_width": ""
      }
     },
     "84321f1bbc4546abaef9eb2566e4ed9a": {
      "model_module": "@jupyter-widgets/controls",
      "model_module_version": "1.5.0",
      "model_name": "IntSliderModel",
      "state": {
       "description": "fig_xlim_right",
       "layout": "IPY_MODEL_077a60d22cf14345bf4c2d23662d5a27",
       "max": 24,
       "min": -8,
       "style": "IPY_MODEL_04a8ec2f38864da38f9480de80519086",
       "value": 8
      }
     },
     "84c683f04aae438a9eb027385bc5d773": {
      "model_module": "@jupyter-widgets/controls",
      "model_module_version": "1.5.0",
      "model_name": "SliderStyleModel",
      "state": {
       "description_width": ""
      }
     },
     "855b8ebb451542c2a6fed1e552bc4d37": {
      "model_module": "@jupyter-widgets/controls",
      "model_module_version": "1.5.0",
      "model_name": "IntSliderModel",
      "state": {
       "description": "k",
       "layout": "IPY_MODEL_e9b7f0133c694bb091ae42d17bf11464",
       "max": 5,
       "style": "IPY_MODEL_51dc4b355f564661939dde36d0f2eb2f",
       "value": 1
      }
     },
     "8664488c41724c6282d85dc37e208082": {
      "model_module": "@jupyter-widgets/controls",
      "model_module_version": "1.5.0",
      "model_name": "SliderStyleModel",
      "state": {
       "description_width": ""
      }
     },
     "8696673ae2ef414f851422e24afb74be": {
      "model_module": "@jupyter-widgets/base",
      "model_module_version": "1.2.0",
      "model_name": "LayoutModel",
      "state": {}
     },
     "870819f1b16749429210db211a0ae428": {
      "model_module": "@jupyter-widgets/controls",
      "model_module_version": "1.5.0",
      "model_name": "SliderStyleModel",
      "state": {
       "description_width": ""
      }
     },
     "87da9106756d41699bcdbf8602f81e67": {
      "model_module": "@jupyter-widgets/controls",
      "model_module_version": "1.5.0",
      "model_name": "DescriptionStyleModel",
      "state": {
       "description_width": ""
      }
     },
     "886d59e74b99470d8a11557821d5808c": {
      "model_module": "@jupyter-widgets/controls",
      "model_module_version": "1.5.0",
      "model_name": "VBoxModel",
      "state": {
       "_dom_classes": [
        "widget-interact"
       ],
       "children": [
        "IPY_MODEL_d89f051569404ebe89dbd612b4d88e3a",
        "IPY_MODEL_e9a2954e2a2e45fba36b1b18b9db4a03",
        "IPY_MODEL_62d6e983714b4345b6c78beaef17172b",
        "IPY_MODEL_6a8c8bba351d42728e7644d3646020f5"
       ],
       "layout": "IPY_MODEL_71d5cd624401467aa1977843e2a69b4e"
      }
     },
     "88c1f43fd0714d4ba381f0b768ad44af": {
      "model_module": "@jupyter-widgets/controls",
      "model_module_version": "1.5.0",
      "model_name": "SliderStyleModel",
      "state": {
       "description_width": ""
      }
     },
     "89f0bd04313349d093fd1a9bd518ea53": {
      "model_module": "@jupyter-widgets/base",
      "model_module_version": "1.2.0",
      "model_name": "LayoutModel",
      "state": {}
     },
     "8aca43bccc0d4ab7815be3fc9fc83ce2": {
      "model_module": "@jupyter-widgets/controls",
      "model_module_version": "1.5.0",
      "model_name": "SliderStyleModel",
      "state": {
       "description_width": ""
      }
     },
     "8c2b50bf892e4b0584a339b6b83358de": {
      "model_module": "@jupyter-widgets/base",
      "model_module_version": "1.2.0",
      "model_name": "LayoutModel",
      "state": {}
     },
     "8caf9ff9fb3542099fc8dc490e73c878": {
      "model_module": "@jupyter-widgets/base",
      "model_module_version": "1.2.0",
      "model_name": "LayoutModel",
      "state": {}
     },
     "8ccaf4a37f0a455da41c5bb75a7f8238": {
      "model_module": "@jupyter-widgets/controls",
      "model_module_version": "1.5.0",
      "model_name": "HBoxModel",
      "state": {
       "children": [
        "IPY_MODEL_52dd8a52be6a4ac09bc3642e0e944d51",
        "IPY_MODEL_68c0be4f66a1408488dc25373a1188ee",
        "IPY_MODEL_2a58487d865544928770a501b628d125",
        "IPY_MODEL_e9f7f28bbd574bfeae82462de911f14b",
        "IPY_MODEL_95198996d15b4ce0bad474c4dd961df5",
        "IPY_MODEL_2eaaadc9d61b4804926de018e06a0226",
        "IPY_MODEL_7638a1dd53b0466c9ca57364caab3a2f",
        "IPY_MODEL_8315f6bffaa24c28bc18ac96ae0e0e94",
        "IPY_MODEL_f42e631880e341b9b61cf47571e744a3",
        "IPY_MODEL_6421dff5e692424b9805b23d8d2ffb84"
       ],
       "layout": "IPY_MODEL_e24b841003f24ca7af33ff5e7fb3598c"
      }
     },
     "8f6e7de081664854bb6375a80b787397": {
      "model_module": "@jupyter-widgets/base",
      "model_module_version": "1.2.0",
      "model_name": "LayoutModel",
      "state": {}
     },
     "8f9c315b791c4fe8897c99ad7afb5589": {
      "model_module": "@jupyter-widgets/controls",
      "model_module_version": "1.5.0",
      "model_name": "IntSliderModel",
      "state": {
       "description": "fig_ylim_bottom",
       "layout": "IPY_MODEL_3fa21f54808242b3a59d797554401c58",
       "max": 18,
       "min": -54,
       "style": "IPY_MODEL_2af7dfceaebf45d18cec2dac64a4f7b0",
       "value": -18
      }
     },
     "909bc332e79d42db801366d8da5759aa": {
      "model_module": "@jupyter-widgets/controls",
      "model_module_version": "1.5.0",
      "model_name": "IntSliderModel",
      "state": {
       "description": "font_size",
       "layout": "IPY_MODEL_b7247a4321d84611ba80e95be660ae64",
       "max": 36,
       "min": -12,
       "style": "IPY_MODEL_0f4dc1ba02844f0ca761d9377265a2a7",
       "value": 12
      }
     },
     "93a81b261e93405e8b5f8d559370944e": {
      "model_module": "@jupyter-widgets/controls",
      "model_module_version": "1.5.0",
      "model_name": "FloatSliderModel",
      "state": {
       "description": "text_x_pos",
       "layout": "IPY_MODEL_28e58c1501d8442187ce0023ba26d307",
       "max": 10.5,
       "min": -3.5,
       "step": 0.1,
       "style": "IPY_MODEL_dd5aba715f8f46a0a4b3ffeab402edba",
       "value": 3.5
      }
     },
     "9501e4b0021340e49bbebe72dcc0c7ae": {
      "model_module": "@jupyter-widgets/base",
      "model_module_version": "1.2.0",
      "model_name": "LayoutModel",
      "state": {}
     },
     "9510509158174d91963c1768492a84d1": {
      "model_module": "@jupyter-widgets/base",
      "model_module_version": "1.2.0",
      "model_name": "LayoutModel",
      "state": {}
     },
     "95198996d15b4ce0bad474c4dd961df5": {
      "model_module": "@jupyter-widgets/controls",
      "model_module_version": "1.5.0",
      "model_name": "IntSliderModel",
      "state": {
       "description": "font_size",
       "layout": "IPY_MODEL_3c2c2f2a83c74878b82b3cc8b0cd644c",
       "max": 36,
       "min": -12,
       "style": "IPY_MODEL_c642c08c148342acb273fd252deaf5a9",
       "value": 12
      }
     },
     "956e22d15a384f38b20ca8c6dc9793b2": {
      "model_module": "@jupyter-widgets/base",
      "model_module_version": "1.2.0",
      "model_name": "LayoutModel",
      "state": {}
     },
     "95f5f3d4efa74ccf8a0c969c16bd0954": {
      "model_module": "@jupyter-widgets/controls",
      "model_module_version": "1.5.0",
      "model_name": "IntSliderModel",
      "state": {
       "description": "fig_ylim_top",
       "layout": "IPY_MODEL_31693e23b49445698f46f538a2d7ee48",
       "max": 39,
       "min": -13,
       "style": "IPY_MODEL_68cdad840e784705b12b684160a55545",
       "value": 13
      }
     },
     "982932a59da345228b71317b1a6e1715": {
      "model_module": "@jupyter-widgets/controls",
      "model_module_version": "1.5.0",
      "model_name": "DescriptionStyleModel",
      "state": {
       "description_width": ""
      }
     },
     "98a8bcf2157946149ff412dcdaa07dee": {
      "model_module": "@jupyter-widgets/output",
      "model_module_version": "1.0.0",
      "model_name": "OutputModel",
      "state": {
       "layout": "IPY_MODEL_956e22d15a384f38b20ca8c6dc9793b2"
      }
     },
     "9b0f0c3a64ee446588a3f7d07400ed92": {
      "model_module": "@jupyter-widgets/base",
      "model_module_version": "1.2.0",
      "model_name": "LayoutModel",
      "state": {}
     },
     "9bbc8023d4b64877ae85139fe8a02309": {
      "model_module": "@jupyter-widgets/base",
      "model_module_version": "1.2.0",
      "model_name": "LayoutModel",
      "state": {}
     },
     "9ca8fdbfe1cd40e09b878459e1928722": {
      "model_module": "@jupyter-widgets/output",
      "model_module_version": "1.0.0",
      "model_name": "OutputModel",
      "state": {
       "layout": "IPY_MODEL_3bd23fd742ac4befadb4570395e17093",
       "outputs": [
        {
         "data": {
          "image/png": "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\n",
          "text/plain": "<Figure size 720x576 with 1 Axes>"
         },
         "metadata": {},
         "output_type": "display_data"
        }
       ]
      }
     },
     "9cd9a67e68074004b20cfda3bcd212cc": {
      "model_module": "@jupyter-widgets/controls",
      "model_module_version": "1.5.0",
      "model_name": "SliderStyleModel",
      "state": {
       "description_width": ""
      }
     },
     "9d144e599e10433bbda392bd749f4b51": {
      "model_module": "@jupyter-widgets/controls",
      "model_module_version": "1.5.0",
      "model_name": "IntSliderModel",
      "state": {
       "description": "b",
       "layout": "IPY_MODEL_afebf477029b4c0f9dbd4d7f7c946a63",
       "max": 15,
       "min": 3,
       "style": "IPY_MODEL_fcc3dcc505c74ecdae72ee311b7d7e83",
       "value": 4
      }
     },
     "9d7a29c95f38496fb9a9e19f63bab23b": {
      "model_module": "@jupyter-widgets/base",
      "model_module_version": "1.2.0",
      "model_name": "LayoutModel",
      "state": {}
     },
     "9df959b3a639418c946a315f3e290455": {
      "model_module": "@jupyter-widgets/base",
      "model_module_version": "1.2.0",
      "model_name": "LayoutModel",
      "state": {}
     },
     "a0edd254e1ed40ac8b3cf9d758c4ef0f": {
      "model_module": "@jupyter-widgets/controls",
      "model_module_version": "1.5.0",
      "model_name": "SliderStyleModel",
      "state": {
       "description_width": ""
      }
     },
     "a214fbaef22e4bc8a18d104ca0559c56": {
      "model_module": "@jupyter-widgets/controls",
      "model_module_version": "1.5.0",
      "model_name": "DescriptionStyleModel",
      "state": {
       "description_width": ""
      }
     },
     "a37189c4f5dc448da5dba287fda96265": {
      "model_module": "@jupyter-widgets/controls",
      "model_module_version": "1.5.0",
      "model_name": "SliderStyleModel",
      "state": {
       "description_width": ""
      }
     },
     "a4bb4e13efff45b8a309c2b3d1743d2d": {
      "model_module": "@jupyter-widgets/base",
      "model_module_version": "1.2.0",
      "model_name": "LayoutModel",
      "state": {}
     },
     "a5cb2fe6c8634572b74278541288ed4f": {
      "model_module": "@jupyter-widgets/controls",
      "model_module_version": "1.5.0",
      "model_name": "SliderStyleModel",
      "state": {
       "description_width": ""
      }
     },
     "a95e98e825ab4704a91563751427cca7": {
      "model_module": "@jupyter-widgets/base",
      "model_module_version": "1.2.0",
      "model_name": "LayoutModel",
      "state": {}
     },
     "aa07f9e8380e423a9b77ab39a9d01b46": {
      "model_module": "@jupyter-widgets/output",
      "model_module_version": "1.0.0",
      "model_name": "OutputModel",
      "state": {
       "layout": "IPY_MODEL_01bb071ef83341529408a31aa69643f7",
       "outputs": [
        {
         "data": {
          "image/png": "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\n",
          "text/plain": "<Figure size 720x576 with 1 Axes>"
         },
         "metadata": {},
         "output_type": "display_data"
        }
       ]
      }
     },
     "ab4bd89a98c54d748f218539749f8bec": {
      "model_module": "@jupyter-widgets/controls",
      "model_module_version": "1.5.0",
      "model_name": "SliderStyleModel",
      "state": {
       "description_width": ""
      }
     },
     "aba7f4d007db44a6ab76573409343d97": {
      "model_module": "@jupyter-widgets/controls",
      "model_module_version": "1.5.0",
      "model_name": "DropdownModel",
      "state": {
       "_options_labels": [
        "normal",
        "biased",
        "broken"
       ],
       "description": "dumbell type",
       "index": 2,
       "layout": "IPY_MODEL_8696673ae2ef414f851422e24afb74be",
       "style": "IPY_MODEL_982932a59da345228b71317b1a6e1715"
      }
     },
     "ac857db5a3c14714a78580c91ba185c9": {
      "model_module": "@jupyter-widgets/controls",
      "model_module_version": "1.5.0",
      "model_name": "DescriptionStyleModel",
      "state": {
       "description_width": ""
      }
     },
     "ac9b08a7b1eb42009d5040741caa8458": {
      "model_module": "@jupyter-widgets/controls",
      "model_module_version": "1.5.0",
      "model_name": "HBoxModel",
      "state": {
       "children": [
        "IPY_MODEL_ff47501559844d51a7e17f62332a7b2c",
        "IPY_MODEL_42562e2d062f46df9c6ad9458de7d7e6",
        "IPY_MODEL_2c00071c465448d29f9b4e57a223c0d1",
        "IPY_MODEL_855b8ebb451542c2a6fed1e552bc4d37",
        "IPY_MODEL_8339d9e99f684fe1bb29425208e12560",
        "IPY_MODEL_d8b0de6ffd504606bdfa422b7bfecfbe",
        "IPY_MODEL_0738881042bc4043af2a215ae605b155",
        "IPY_MODEL_806837a61c8d408b87f0e1bd83fe5259",
        "IPY_MODEL_1e30c6d6a1274d9eac416421eecb539d",
        "IPY_MODEL_0064fdb3f9cc46bc83a1db91fa690f87",
        "IPY_MODEL_4dc3c0f7cf2e46638d99b9d8d7416e33",
        "IPY_MODEL_e76e136f0b6848b1888ad9377b31e0c9",
        "IPY_MODEL_16bfada60be54ba2b8800c715c812f04",
        "IPY_MODEL_d7aacf62ce214c5ca394d1884f1e0d0c"
       ],
       "layout": "IPY_MODEL_1c32ccce7d45488886999f25b7da74f3"
      }
     },
     "af70b51ffb7b47f99e19574721256193": {
      "model_module": "@jupyter-widgets/controls",
      "model_module_version": "1.5.0",
      "model_name": "SliderStyleModel",
      "state": {
       "description_width": ""
      }
     },
     "afebf477029b4c0f9dbd4d7f7c946a63": {
      "model_module": "@jupyter-widgets/base",
      "model_module_version": "1.2.0",
      "model_name": "LayoutModel",
      "state": {}
     },
     "b012a78dea3345d88216d5c338e0b485": {
      "model_module": "@jupyter-widgets/output",
      "model_module_version": "1.0.0",
      "model_name": "OutputModel",
      "state": {
       "layout": "IPY_MODEL_3cdf7bdaa794439684a62d4008f44c3e"
      }
     },
     "b2b0f8edb11443c7a79ac8000151883f": {
      "model_module": "@jupyter-widgets/controls",
      "model_module_version": "1.5.0",
      "model_name": "SliderStyleModel",
      "state": {
       "description_width": ""
      }
     },
     "b33e0f39e9774b8ab0341c50dfcf4824": {
      "model_module": "@jupyter-widgets/controls",
      "model_module_version": "1.5.0",
      "model_name": "SliderStyleModel",
      "state": {
       "description_width": ""
      }
     },
     "b4c7b6c1183e4864819b3aa59c7e86aa": {
      "model_module": "@jupyter-widgets/base",
      "model_module_version": "1.2.0",
      "model_name": "LayoutModel",
      "state": {}
     },
     "b5a8eb16802c477e9c9d4fe4b932fbbc": {
      "model_module": "@jupyter-widgets/base",
      "model_module_version": "1.2.0",
      "model_name": "LayoutModel",
      "state": {}
     },
     "b5ec9c4f6c1943599bc5d11fdae44411": {
      "model_module": "@jupyter-widgets/base",
      "model_module_version": "1.2.0",
      "model_name": "LayoutModel",
      "state": {}
     },
     "b63e23300df84376929bae51c2bc7e79": {
      "model_module": "@jupyter-widgets/controls",
      "model_module_version": "1.5.0",
      "model_name": "DescriptionStyleModel",
      "state": {
       "description_width": ""
      }
     },
     "b7247a4321d84611ba80e95be660ae64": {
      "model_module": "@jupyter-widgets/base",
      "model_module_version": "1.2.0",
      "model_name": "LayoutModel",
      "state": {}
     },
     "b7a22f0900e74434adb8414f4ae1abd3": {
      "model_module": "@jupyter-widgets/controls",
      "model_module_version": "1.5.0",
      "model_name": "IntSliderModel",
      "state": {
       "description": "xx_right",
       "layout": "IPY_MODEL_e34de3bb41b444fd88edbebdb7e0c9a3",
       "max": 24,
       "min": -8,
       "style": "IPY_MODEL_4068a9941afc4e7ba300065ec9016d30",
       "value": 8
      }
     },
     "b9c3fdfd69b64d47a7312429bb92b0ec": {
      "model_module": "@jupyter-widgets/controls",
      "model_module_version": "1.5.0",
      "model_name": "IntSliderModel",
      "state": {
       "description": "b",
       "layout": "IPY_MODEL_1c387db153264fd7a864757ef4545a58",
       "max": 15,
       "min": 3,
       "style": "IPY_MODEL_fbcc154bc9e847baab509df73e89d69f",
       "value": 3
      }
     },
     "b9c8b555815d44b39e688e5331d98d6e": {
      "model_module": "@jupyter-widgets/base",
      "model_module_version": "1.2.0",
      "model_name": "LayoutModel",
      "state": {}
     },
     "bae1426e64f346c3a3b0fb55ece77333": {
      "model_module": "@jupyter-widgets/base",
      "model_module_version": "1.2.0",
      "model_name": "LayoutModel",
      "state": {}
     },
     "bb24b954cc5f4399adbbf4472ad36ac5": {
      "model_module": "@jupyter-widgets/base",
      "model_module_version": "1.2.0",
      "model_name": "LayoutModel",
      "state": {}
     },
     "bcceb2c0edd4430292cd8322f72b867c": {
      "model_module": "@jupyter-widgets/base",
      "model_module_version": "1.2.0",
      "model_name": "LayoutModel",
      "state": {}
     },
     "bd267d1911a64eba872df92b2cf9af7a": {
      "model_module": "@jupyter-widgets/controls",
      "model_module_version": "1.5.0",
      "model_name": "VBoxModel",
      "state": {
       "_dom_classes": [
        "widget-interact"
       ],
       "children": [
        "IPY_MODEL_9d144e599e10433bbda392bd749f4b51",
        "IPY_MODEL_de9e9fa0218b480b8fc68f502366a186",
        "IPY_MODEL_aba7f4d007db44a6ab76573409343d97",
        "IPY_MODEL_3c5083bc8b664e659d56055e146201c7"
       ],
       "layout": "IPY_MODEL_f1db3256aa3d4cb9a57e72c0ff826970"
      }
     },
     "bea7704de794493d917f39393a6764e1": {
      "model_module": "@jupyter-widgets/controls",
      "model_module_version": "1.5.0",
      "model_name": "IntSliderModel",
      "state": {
       "description": "number of node in-between",
       "layout": "IPY_MODEL_d899ced5fddb4cc7a9001067df910407",
       "max": 5,
       "min": -1,
       "style": "IPY_MODEL_81a09a5bb49c4afa84d9567f15426599"
      }
     },
     "c062bf8b60be448e89005e961e841329": {
      "model_module": "@jupyter-widgets/controls",
      "model_module_version": "1.5.0",
      "model_name": "VBoxModel",
      "state": {
       "_dom_classes": [
        "widget-interact"
       ],
       "children": [
        "IPY_MODEL_83589293d3cc4730abb2b5caf104ae80",
        "IPY_MODEL_3a242f905bac4e08985c6d9a97609b65",
        "IPY_MODEL_7a9adea1caee4d7eb27c06471f2f2060",
        "IPY_MODEL_9ca8fdbfe1cd40e09b878459e1928722"
       ],
       "layout": "IPY_MODEL_1aeeb0d2975949c0aecfab67e23b4307"
      }
     },
     "c079f6a7a12e40c891fafb6f327308de": {
      "model_module": "@jupyter-widgets/controls",
      "model_module_version": "1.5.0",
      "model_name": "DescriptionStyleModel",
      "state": {
       "description_width": ""
      }
     },
     "c1c2a429566649a2a65ff2bf2e3dc467": {
      "model_module": "@jupyter-widgets/output",
      "model_module_version": "1.0.0",
      "model_name": "OutputModel",
      "state": {
       "layout": "IPY_MODEL_523c0146f0fa488ba3bcaba9a1e743cb"
      }
     },
     "c240930541ac436e87584e8c52b4f1ff": {
      "model_module": "@jupyter-widgets/base",
      "model_module_version": "1.2.0",
      "model_name": "LayoutModel",
      "state": {}
     },
     "c642c08c148342acb273fd252deaf5a9": {
      "model_module": "@jupyter-widgets/controls",
      "model_module_version": "1.5.0",
      "model_name": "SliderStyleModel",
      "state": {
       "description_width": ""
      }
     },
     "c7f66d36b5084f7794e9f93703b91a50": {
      "model_module": "@jupyter-widgets/controls",
      "model_module_version": "1.5.0",
      "model_name": "SliderStyleModel",
      "state": {
       "description_width": ""
      }
     },
     "cb0779139422444289276b66d89f04de": {
      "model_module": "@jupyter-widgets/base",
      "model_module_version": "1.2.0",
      "model_name": "LayoutModel",
      "state": {}
     },
     "cc505e65e7ad44eb9a546e93032339e7": {
      "model_module": "@jupyter-widgets/controls",
      "model_module_version": "1.5.0",
      "model_name": "DescriptionStyleModel",
      "state": {
       "description_width": ""
      }
     },
     "cc8c7b16be0440d3a90d205fbad986ee": {
      "model_module": "@jupyter-widgets/controls",
      "model_module_version": "1.5.0",
      "model_name": "SliderStyleModel",
      "state": {
       "description_width": ""
      }
     },
     "ccc7d03c9dda438c9a31938f277e2653": {
      "model_module": "@jupyter-widgets/controls",
      "model_module_version": "1.5.0",
      "model_name": "SliderStyleModel",
      "state": {
       "description_width": ""
      }
     },
     "ccece7a0a1bf41c48b91cff3f1f5ffc9": {
      "model_module": "@jupyter-widgets/base",
      "model_module_version": "1.2.0",
      "model_name": "LayoutModel",
      "state": {}
     },
     "cdc8bfa5eb334806bca76288f5b454a9": {
      "model_module": "@jupyter-widgets/controls",
      "model_module_version": "1.5.0",
      "model_name": "SliderStyleModel",
      "state": {
       "description_width": ""
      }
     },
     "ceb084b4934e440e870879268ff029f1": {
      "model_module": "@jupyter-widgets/controls",
      "model_module_version": "1.5.0",
      "model_name": "SliderStyleModel",
      "state": {
       "description_width": ""
      }
     },
     "cf6532cfbd8647b68b5cdb3ad9b15fd0": {
      "model_module": "@jupyter-widgets/controls",
      "model_module_version": "1.5.0",
      "model_name": "DescriptionStyleModel",
      "state": {
       "description_width": ""
      }
     },
     "d114f20378ae474182424a41954cf83d": {
      "model_module": "@jupyter-widgets/output",
      "model_module_version": "1.0.0",
      "model_name": "OutputModel",
      "state": {
       "layout": "IPY_MODEL_0b80753178254704a7b04d25d84b4370"
      }
     },
     "d1bd2082d6d44cddb2443f6bf0c9895b": {
      "model_module": "@jupyter-widgets/controls",
      "model_module_version": "1.5.0",
      "model_name": "SliderStyleModel",
      "state": {
       "description_width": ""
      }
     },
     "d2029a0de8d74e10b22680a3c8f7144f": {
      "model_module": "@jupyter-widgets/base",
      "model_module_version": "1.2.0",
      "model_name": "LayoutModel",
      "state": {}
     },
     "d403f3007913471194bbb46d5c31585a": {
      "model_module": "@jupyter-widgets/controls",
      "model_module_version": "1.5.0",
      "model_name": "IntSliderModel",
      "state": {
       "description": "fig_ylim_top",
       "layout": "IPY_MODEL_000a1a64edc14eb2a43fff4c08d8daea",
       "max": 39,
       "min": -13,
       "style": "IPY_MODEL_a0edd254e1ed40ac8b3cf9d758c4ef0f",
       "value": 13
      }
     },
     "d44287fcf93348d095a64ace24534ce7": {
      "model_module": "@jupyter-widgets/base",
      "model_module_version": "1.2.0",
      "model_name": "LayoutModel",
      "state": {}
     },
     "d4bf1fa0e2d145c78d52f0084d2368c4": {
      "model_module": "@jupyter-widgets/controls",
      "model_module_version": "1.5.0",
      "model_name": "IntSliderModel",
      "state": {
       "description": "fig_ylim_bottom",
       "layout": "IPY_MODEL_bcceb2c0edd4430292cd8322f72b867c",
       "max": 18,
       "min": -54,
       "style": "IPY_MODEL_7bbc5c6ad9004827b0a11cb1877188b3",
       "value": -18
      }
     },
     "d57643ed57f24424a0c57e4bd20e64b5": {
      "model_module": "@jupyter-widgets/controls",
      "model_module_version": "1.5.0",
      "model_name": "SliderStyleModel",
      "state": {
       "description_width": ""
      }
     },
     "d5ffa9eb442a495b80f6245465fbd9b9": {
      "model_module": "@jupyter-widgets/base",
      "model_module_version": "1.2.0",
      "model_name": "LayoutModel",
      "state": {}
     },
     "d685678de1734fb78185023cfa03f4f3": {
      "model_module": "@jupyter-widgets/base",
      "model_module_version": "1.2.0",
      "model_name": "LayoutModel",
      "state": {}
     },
     "d72311585194474d9c6d8a5a6599cd57": {
      "model_module": "@jupyter-widgets/base",
      "model_module_version": "1.2.0",
      "model_name": "LayoutModel",
      "state": {}
     },
     "d7aacf62ce214c5ca394d1884f1e0d0c": {
      "model_module": "@jupyter-widgets/controls",
      "model_module_version": "1.5.0",
      "model_name": "IntSliderModel",
      "state": {
       "description": "xx_right",
       "layout": "IPY_MODEL_7e5e4eff25c64ad3a6ebd31da7adea39",
       "max": 24,
       "min": -8,
       "style": "IPY_MODEL_af70b51ffb7b47f99e19574721256193",
       "value": 8
      }
     },
     "d899ced5fddb4cc7a9001067df910407": {
      "model_module": "@jupyter-widgets/base",
      "model_module_version": "1.2.0",
      "model_name": "LayoutModel",
      "state": {}
     },
     "d89f051569404ebe89dbd612b4d88e3a": {
      "model_module": "@jupyter-widgets/controls",
      "model_module_version": "1.5.0",
      "model_name": "IntSliderModel",
      "state": {
       "description": "b",
       "layout": "IPY_MODEL_6e5d5eeb772944d7b608a09be7bb22cc",
       "max": 15,
       "min": 3,
       "style": "IPY_MODEL_8aca43bccc0d4ab7815be3fc9fc83ce2",
       "value": 4
      }
     },
     "d8b0de6ffd504606bdfa422b7bfecfbe": {
      "model_module": "@jupyter-widgets/controls",
      "model_module_version": "1.5.0",
      "model_name": "FloatSliderModel",
      "state": {
       "description": "text_x_pos",
       "layout": "IPY_MODEL_39931f6cf19740b7ab4fe415df9ed414",
       "max": 10.5,
       "min": -3.5,
       "step": 0.1,
       "style": "IPY_MODEL_ab4bd89a98c54d748f218539749f8bec",
       "value": 3.5
      }
     },
     "d9f549c4ceea4a7cb0c7146b7eeef6d6": {
      "model_module": "@jupyter-widgets/controls",
      "model_module_version": "1.5.0",
      "model_name": "SliderStyleModel",
      "state": {
       "description_width": ""
      }
     },
     "dd5aba715f8f46a0a4b3ffeab402edba": {
      "model_module": "@jupyter-widgets/controls",
      "model_module_version": "1.5.0",
      "model_name": "SliderStyleModel",
      "state": {
       "description_width": ""
      }
     },
     "de9e9fa0218b480b8fc68f502366a186": {
      "model_module": "@jupyter-widgets/controls",
      "model_module_version": "1.5.0",
      "model_name": "IntSliderModel",
      "state": {
       "description": "number of node in-between",
       "layout": "IPY_MODEL_eb0714b25bf24e96b35444b7606f5a77",
       "max": 5,
       "min": -1,
       "style": "IPY_MODEL_ff900c7426b341c9bc3c8281b3e5be4c"
      }
     },
     "e007f10d40ef42a3a876c06033de9d60": {
      "model_module": "@jupyter-widgets/controls",
      "model_module_version": "1.5.0",
      "model_name": "IntSliderModel",
      "state": {
       "description": "number of node in-between",
       "layout": "IPY_MODEL_6d89350d10df4e05974e63a99d2d3b91",
       "max": 5,
       "min": -1,
       "style": "IPY_MODEL_88c1f43fd0714d4ba381f0b768ad44af"
      }
     },
     "e088197c209e4fa4b1c3d3529f5fa899": {
      "model_module": "@jupyter-widgets/controls",
      "model_module_version": "1.5.0",
      "model_name": "SliderStyleModel",
      "state": {
       "description_width": ""
      }
     },
     "e24b841003f24ca7af33ff5e7fb3598c": {
      "model_module": "@jupyter-widgets/base",
      "model_module_version": "1.2.0",
      "model_name": "LayoutModel",
      "state": {
       "flex_flow": "row wrap"
      }
     },
     "e25c77f9c5bc43fca8b47b6a903861a6": {
      "model_module": "@jupyter-widgets/controls",
      "model_module_version": "1.5.0",
      "model_name": "SliderStyleModel",
      "state": {
       "description_width": ""
      }
     },
     "e322a50c37544bfda878340b1d720616": {
      "model_module": "@jupyter-widgets/base",
      "model_module_version": "1.2.0",
      "model_name": "LayoutModel",
      "state": {}
     },
     "e346b9daf1a3461b96924f713b8ddc88": {
      "model_module": "@jupyter-widgets/controls",
      "model_module_version": "1.5.0",
      "model_name": "SliderStyleModel",
      "state": {
       "description_width": ""
      }
     },
     "e34de3bb41b444fd88edbebdb7e0c9a3": {
      "model_module": "@jupyter-widgets/base",
      "model_module_version": "1.2.0",
      "model_name": "LayoutModel",
      "state": {}
     },
     "e357c27f333343e19401f3e9f756c90c": {
      "model_module": "@jupyter-widgets/base",
      "model_module_version": "1.2.0",
      "model_name": "LayoutModel",
      "state": {
       "flex_flow": "row wrap"
      }
     },
     "e3ef35416a0d4247ab5cf40b5ec6c4c3": {
      "model_module": "@jupyter-widgets/base",
      "model_module_version": "1.2.0",
      "model_name": "LayoutModel",
      "state": {}
     },
     "e606bd532ec54993a644a6a77ac0f69b": {
      "model_module": "@jupyter-widgets/base",
      "model_module_version": "1.2.0",
      "model_name": "LayoutModel",
      "state": {}
     },
     "e6bdc156803d4d9190e4ceafb98d2901": {
      "model_module": "@jupyter-widgets/base",
      "model_module_version": "1.2.0",
      "model_name": "LayoutModel",
      "state": {}
     },
     "e719b6e1df154b32b2db5dd7272e7911": {
      "model_module": "@jupyter-widgets/controls",
      "model_module_version": "1.5.0",
      "model_name": "DescriptionStyleModel",
      "state": {
       "description_width": ""
      }
     },
     "e76e136f0b6848b1888ad9377b31e0c9": {
      "model_module": "@jupyter-widgets/controls",
      "model_module_version": "1.5.0",
      "model_name": "IntSliderModel",
      "state": {
       "description": "fig_ylim_bottom",
       "layout": "IPY_MODEL_255d2f7362b245fda33f6b3497087e6c",
       "max": 18,
       "min": -54,
       "style": "IPY_MODEL_8664488c41724c6282d85dc37e208082",
       "value": -18
      }
     },
     "e82898184c55479cb142816fff62fa0d": {
      "model_module": "@jupyter-widgets/base",
      "model_module_version": "1.2.0",
      "model_name": "LayoutModel",
      "state": {}
     },
     "e86b40402d3c4d34a5f573ccb62b6312": {
      "model_module": "@jupyter-widgets/controls",
      "model_module_version": "1.5.0",
      "model_name": "VBoxModel",
      "state": {
       "_dom_classes": [
        "widget-interact"
       ],
       "children": [
        "IPY_MODEL_2cf1f23c8e7343b48748266dffbc441a",
        "IPY_MODEL_088d9f42b1384165891573d90b4e928f",
        "IPY_MODEL_35c86d61ea21471cb9141fab96ff3a94",
        "IPY_MODEL_ef9a5df8a93047ab9ba24d8a18e4362f",
        "IPY_MODEL_6be3374372bc468c9bde1f4168db7d35",
        "IPY_MODEL_12fd9d3abc3e4bc49a561e3865c6fe36",
        "IPY_MODEL_7118322c5473428098ccaa0e9e8d398c",
        "IPY_MODEL_6efe3b7709e943f48e0073bfdbff9e52",
        "IPY_MODEL_25c5b16c0d374f34b742dfc9fc2f3a86",
        "IPY_MODEL_823d144090914584a51333e5d406c32c",
        "IPY_MODEL_71dbc21230eb4385b0878cd06f979e3d",
        "IPY_MODEL_d4bf1fa0e2d145c78d52f0084d2368c4",
        "IPY_MODEL_d403f3007913471194bbb46d5c31585a",
        "IPY_MODEL_ecc4ec3df9234b6099783ece012ddcf6",
        "IPY_MODEL_98a8bcf2157946149ff412dcdaa07dee"
       ],
       "layout": "IPY_MODEL_fcb11b5f33cb495fafb85282c13be87f"
      }
     },
     "e88a87eb5b544bf98601f8da395b5003": {
      "model_module": "@jupyter-widgets/base",
      "model_module_version": "1.2.0",
      "model_name": "LayoutModel",
      "state": {
       "flex_flow": "row wrap"
      }
     },
     "e9a2954e2a2e45fba36b1b18b9db4a03": {
      "model_module": "@jupyter-widgets/controls",
      "model_module_version": "1.5.0",
      "model_name": "IntSliderModel",
      "state": {
       "description": "number of node in-between",
       "layout": "IPY_MODEL_9501e4b0021340e49bbebe72dcc0c7ae",
       "max": 5,
       "min": -1,
       "style": "IPY_MODEL_56b909a391314118b2e758b1e97cae65"
      }
     },
     "e9b7f0133c694bb091ae42d17bf11464": {
      "model_module": "@jupyter-widgets/base",
      "model_module_version": "1.2.0",
      "model_name": "LayoutModel",
      "state": {}
     },
     "e9f7f28bbd574bfeae82462de911f14b": {
      "model_module": "@jupyter-widgets/controls",
      "model_module_version": "1.5.0",
      "model_name": "IntSliderModel",
      "state": {
       "description": "figsize_y",
       "layout": "IPY_MODEL_d2029a0de8d74e10b22680a3c8f7144f",
       "max": 36,
       "min": -12,
       "style": "IPY_MODEL_4a8ec5cca8df47e59436efc0c76617e3",
       "value": 12
      }
     },
     "ea2f12ec930d4beb9f50eb7f808972f3": {
      "model_module": "@jupyter-widgets/controls",
      "model_module_version": "1.5.0",
      "model_name": "SliderStyleModel",
      "state": {
       "description_width": ""
      }
     },
     "eb0714b25bf24e96b35444b7606f5a77": {
      "model_module": "@jupyter-widgets/base",
      "model_module_version": "1.2.0",
      "model_name": "LayoutModel",
      "state": {}
     },
     "eb54fd999c6a4b8a981978af5c2b9159": {
      "model_module": "@jupyter-widgets/controls",
      "model_module_version": "1.5.0",
      "model_name": "FloatSliderModel",
      "state": {
       "description": "fig_aspect",
       "layout": "IPY_MODEL_d685678de1734fb78185023cfa03f4f3",
       "max": 1.5,
       "min": -0.5,
       "step": 0.1,
       "style": "IPY_MODEL_c7f66d36b5084f7794e9f93703b91a50",
       "value": 0.5
      }
     },
     "ecc4ec3df9234b6099783ece012ddcf6": {
      "model_module": "@jupyter-widgets/controls",
      "model_module_version": "1.5.0",
      "model_name": "IntSliderModel",
      "state": {
       "description": "xx_right",
       "layout": "IPY_MODEL_0dfd780398614a059fdf24c26eb763ce",
       "max": 24,
       "min": -8,
       "style": "IPY_MODEL_6d95c0385ccb4fee8a78cba677565c1a",
       "value": 8
      }
     },
     "ee8dfe20731d4006a48ef3144deca6f9": {
      "model_module": "@jupyter-widgets/base",
      "model_module_version": "1.2.0",
      "model_name": "LayoutModel",
      "state": {}
     },
     "ef9a5df8a93047ab9ba24d8a18e4362f": {
      "model_module": "@jupyter-widgets/controls",
      "model_module_version": "1.5.0",
      "model_name": "IntSliderModel",
      "state": {
       "description": "k",
       "layout": "IPY_MODEL_7228ed69b6a14a99ade6fbec1cbcf03e",
       "max": 5,
       "style": "IPY_MODEL_392ed65282154695818508eef408b1b3",
       "value": 1
      }
     },
     "f157b9d30992494bb75af781b746917c": {
      "model_module": "@jupyter-widgets/base",
      "model_module_version": "1.2.0",
      "model_name": "LayoutModel",
      "state": {}
     },
     "f1db3256aa3d4cb9a57e72c0ff826970": {
      "model_module": "@jupyter-widgets/base",
      "model_module_version": "1.2.0",
      "model_name": "LayoutModel",
      "state": {}
     },
     "f42e631880e341b9b61cf47571e744a3": {
      "model_module": "@jupyter-widgets/controls",
      "model_module_version": "1.5.0",
      "model_name": "IntSliderModel",
      "state": {
       "description": "fig_ylim_top",
       "layout": "IPY_MODEL_e3ef35416a0d4247ab5cf40b5ec6c4c3",
       "max": 39,
       "min": -13,
       "style": "IPY_MODEL_6637c6f702e34833b4c591405657dd62",
       "value": 13
      }
     },
     "f8baa0f6b2aa4cb9ba18c9ac5e20e0f6": {
      "model_module": "@jupyter-widgets/base",
      "model_module_version": "1.2.0",
      "model_name": "LayoutModel",
      "state": {}
     },
     "fb19969cff274ecf87b8041ea5650f69": {
      "model_module": "@jupyter-widgets/base",
      "model_module_version": "1.2.0",
      "model_name": "LayoutModel",
      "state": {}
     },
     "fbcc154bc9e847baab509df73e89d69f": {
      "model_module": "@jupyter-widgets/controls",
      "model_module_version": "1.5.0",
      "model_name": "SliderStyleModel",
      "state": {
       "description_width": ""
      }
     },
     "fc97f0c00b764c9d8a78d6948dbcc920": {
      "model_module": "@jupyter-widgets/controls",
      "model_module_version": "1.5.0",
      "model_name": "VBoxModel",
      "state": {
       "_dom_classes": [
        "widget-interact"
       ],
       "children": [
        "IPY_MODEL_751c5f6255d140439e546668c0ef995c",
        "IPY_MODEL_501aee25d7c145029d4d5c0203a9dbdf",
        "IPY_MODEL_6ff9b4a4f3774b3296dce8d528095d25",
        "IPY_MODEL_7f5305e2c4324eb5bfb5e494447b6d2d"
       ],
       "layout": "IPY_MODEL_3e09de8e02924d6c8e462e55b2c9bfc9"
      }
     },
     "fcb11b5f33cb495fafb85282c13be87f": {
      "model_module": "@jupyter-widgets/base",
      "model_module_version": "1.2.0",
      "model_name": "LayoutModel",
      "state": {}
     },
     "fcc3dcc505c74ecdae72ee311b7d7e83": {
      "model_module": "@jupyter-widgets/controls",
      "model_module_version": "1.5.0",
      "model_name": "SliderStyleModel",
      "state": {
       "description_width": ""
      }
     },
     "fd7969bbb17f40e3a12efc78352a42e2": {
      "model_module": "@jupyter-widgets/controls",
      "model_module_version": "1.5.0",
      "model_name": "SliderStyleModel",
      "state": {
       "description_width": ""
      }
     },
     "fe5ac35afcd54f0fb208d1d79fee946d": {
      "model_module": "@jupyter-widgets/controls",
      "model_module_version": "1.5.0",
      "model_name": "DropdownModel",
      "state": {
       "_options_labels": [
        "normal",
        "biased",
        "broken"
       ],
       "description": "dumbell type",
       "index": 0,
       "layout": "IPY_MODEL_6181869c36354b81b30ed82c63bbaa67",
       "style": "IPY_MODEL_cf6532cfbd8647b68b5cdb3ad9b15fd0"
      }
     },
     "feaae36bfd5e4523b79fd9f2d69b74c8": {
      "model_module": "@jupyter-widgets/base",
      "model_module_version": "1.2.0",
      "model_name": "LayoutModel",
      "state": {}
     },
     "ff47501559844d51a7e17f62332a7b2c": {
      "model_module": "@jupyter-widgets/controls",
      "model_module_version": "1.5.0",
      "model_name": "IntSliderModel",
      "state": {
       "description": "b",
       "layout": "IPY_MODEL_6dcbc4db566b4573be1c586832b81382",
       "max": 8,
       "min": 3,
       "style": "IPY_MODEL_cc8c7b16be0440d3a90d205fbad986ee",
       "value": 4
      }
     },
     "ff900c7426b341c9bc3c8281b3e5be4c": {
      "model_module": "@jupyter-widgets/controls",
      "model_module_version": "1.5.0",
      "model_name": "SliderStyleModel",
      "state": {
       "description_width": ""
      }
     }
    },
    "version_major": 2,
    "version_minor": 0
   }
  }
 },
 "nbformat": 4,
 "nbformat_minor": 5
}
