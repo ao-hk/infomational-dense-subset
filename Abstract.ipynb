{
 "cells": [
  {
   "cell_type": "markdown",
   "id": "04891d62-6d08-4a18-88d8-3dba71dfbc4c",
   "metadata": {},
   "source": [
    "# Beyond Maximal Densest Subgraphs: <br>A General Framework for Information Density\n",
    "\n",
    "*Chung Chan* and *Chao Zhao*  \n",
    "*Department of Computer Science*  \n",
    "*City University of Hong Kong*"
   ]
  },
  {
   "cell_type": "markdown",
   "id": "a2b626e4",
   "metadata": {},
   "source": [
    "#### Acknowledgements\n",
    "\n",
    "This a joint work with Ali Al-Bashabsheh (School of General Engineering, Beijing, China)."
   ]
  },
  {
   "cell_type": "markdown",
   "id": "3e464e1f-c8a3-4afb-b7d1-67ea0b29787e",
   "metadata": {
    "tags": []
   },
   "source": [
    "## Abstract"
   ]
  },
  {
   "cell_type": "markdown",
   "id": "d65e6323-fae5-4e5c-b85a-043d73ca3f36",
   "metadata": {},
   "source": [
    "[![Binder](https://mybinder.org/badge_logo.svg)](https://mybinder.org/v2/git/https%3A%2F%2Fgitlab1.cs.cityu.edu.hk%2Fccha23%2Fcs5483jupyter/main?urlpath=git-pull?repo%3Dhttps%3A%2F%2Fgitlab1.cs.cityu.edu.hk%2Fccha23%2Fcs5483jupyter%26branch%3Dmain%26urlpath%3Dlab%2Ftree%2Fcs5483jupyter%2Fdocs%2FAbstract.ipynb)\n",
    "[![CS5483](badge.dio.svg)](https://cs5483.cs.cityu.edu.hk/hub/user-redirect/git-pull?repo=https://gitlab1.cs.cityu.edu.hk/ccha23/cs5483jupyter&urlpath=lab/tree/cs5483jupyter/docs/Abstract.ipynb&branch=main)"
   ]
  },
  {
   "cell_type": "markdown",
   "id": "4722500d-b852-420a-a8aa-a973a202b6d5",
   "metadata": {
    "jp-MarkdownHeadingCollapsed": true,
    "tags": []
   },
   "source": [
    "Finding densest $k$-subgraphs is a well-known NP-hard problem, but it is useful to identify clusters that are tightly connected subsets. Existing work cannot find the densest $k$-subgraphs that are non-maximal. We defined a new notion of strength for the subsets in the network with a higher-order dependency structure modeled by a supermodular function. By using the notion of strength, we proposed a framework for finding maximal strong communities, which enables us to identify more densest $k$-subgraphs in polynomial time than existing work. In particular, many existing works are confined to finding maximal densest $k$-subgraphs. There are also compact dense subgraphs that are not the densest $k$-subgraphs, and our framework for finding maximal strong communities can identify them. Unlike existing work that defines locally densest subgraphs with no natural extensions to weighted graphs, our framework covers weighted/unweighted directed/undirected graphs/hypergraph as special cases. It also applies to a general notion of the density of information well beyond weighted graphs."
   ]
  },
  {
   "cell_type": "code",
   "execution_count": null,
   "id": "637e6e68-50aa-45b8-9e9d-3d2e320791a3",
   "metadata": {},
   "outputs": [],
   "source": []
  }
 ],
 "metadata": {
  "jupytext": {
   "formats": "ipynb,md:myst"
  },
  "kernelspec": {
   "display_name": "Python 3 (ipykernel)",
   "language": "python",
   "name": "python3"
  },
  "language_info": {
   "codemirror_mode": {
    "name": "ipython",
    "version": 3
   },
   "file_extension": ".py",
   "mimetype": "text/x-python",
   "name": "python",
   "nbconvert_exporter": "python",
   "pygments_lexer": "ipython3",
   "version": "3.9.10"
  },
  "widgets": {
   "application/vnd.jupyter.widget-state+json": {
    "state": {},
    "version_major": 2,
    "version_minor": 0
   }
  }
 },
 "nbformat": 4,
 "nbformat_minor": 5
}
