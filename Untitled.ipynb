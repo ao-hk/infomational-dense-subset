{
 "cells": [
  {
   "cell_type": "code",
   "execution_count": 1,
   "id": "193a2003-d052-4799-b312-337d193de351",
   "metadata": {
    "execution": {
     "iopub.execute_input": "2023-04-01T07:12:01.328855Z",
     "iopub.status.busy": "2023-04-01T07:12:01.328193Z",
     "iopub.status.idle": "2023-04-01T07:12:01.339149Z",
     "shell.execute_reply": "2023-04-01T07:12:01.338722Z",
     "shell.execute_reply.started": "2023-04-01T07:12:01.328785Z"
    }
   },
   "outputs": [
    {
     "data": {
      "text/plain": [
       "{'Canon', 'Fujifilm', 'Leica', 'Nikon'}"
      ]
     },
     "execution_count": 1,
     "metadata": {},
     "output_type": "execute_result"
    }
   ],
   "source": [
    "            {\"Canon\",\"Fujifilm\",\"Sony\",\"Leica\"},\n",
    "            {\"Canon\",\"Fujifilm\",\"Sony\"},\n",
    "            {\"Canon\",\"Fujifilm\",\"Leica\"},\n",
    "            {\"Canon\",\"Fujifilm\",\"Nikon\",\"Leica\"}"
   ]
  },
  {
   "cell_type": "code",
   "execution_count": 2,
   "id": "285abaf2-e863-4057-ae4e-1b94e9954de1",
   "metadata": {
    "execution": {
     "iopub.execute_input": "2023-04-01T07:12:04.075805Z",
     "iopub.status.busy": "2023-04-01T07:12:04.075334Z",
     "iopub.status.idle": "2023-04-01T07:12:04.078724Z",
     "shell.execute_reply": "2023-04-01T07:12:04.078233Z",
     "shell.execute_reply.started": "2023-04-01T07:12:04.075782Z"
    },
    "tags": []
   },
   "outputs": [],
   "source": [
    "s='[{A,B,D},{B,E},{A,B,D,E},{B,D},{C},{A,E},{B,E},{A,B,D},{B,D,E}]'"
   ]
  },
  {
   "cell_type": "code",
   "execution_count": 3,
   "id": "62ee574e-f248-4ff5-9e6d-a47ed17a2b49",
   "metadata": {
    "execution": {
     "iopub.execute_input": "2023-04-01T07:12:16.963864Z",
     "iopub.status.busy": "2023-04-01T07:12:16.963381Z",
     "iopub.status.idle": "2023-04-01T07:12:16.966978Z",
     "shell.execute_reply": "2023-04-01T07:12:16.966492Z",
     "shell.execute_reply.started": "2023-04-01T07:12:16.963834Z"
    },
    "tags": []
   },
   "outputs": [],
   "source": [
    "s=s.replace('A','AA').replace('B','BB').replace('C','CC').replace('D','DD').replace('E','EE')"
   ]
  },
  {
   "cell_type": "code",
   "execution_count": 4,
   "id": "25458efe-0c01-4b93-8611-7730d98816be",
   "metadata": {
    "execution": {
     "iopub.execute_input": "2023-04-01T07:12:17.611041Z",
     "iopub.status.busy": "2023-04-01T07:12:17.610834Z",
     "iopub.status.idle": "2023-04-01T07:12:17.615570Z",
     "shell.execute_reply": "2023-04-01T07:12:17.615008Z",
     "shell.execute_reply.started": "2023-04-01T07:12:17.611021Z"
    },
    "tags": []
   },
   "outputs": [
    {
     "data": {
      "text/plain": [
       "'[{\"Canon\",\"Fujifilm\",\"Nikon\"},{\"Fujifilm\",\"Sony\"},{\"Canon\",\"Fujifilm\",\"Nikon\",\"Sony\"},{\"Fujifilm\",\"Nikon\"},{\"Leica\"},{\"Canon\",\"Sony\"},{\"Fujifilm\",\"Sony\"},{\"Canon\",\"Fujifilm\",\"Nikon\"},{\"Fujifilm\",\"Nikon\",\"Sony\"}]'"
      ]
     },
     "execution_count": 4,
     "metadata": {},
     "output_type": "execute_result"
    }
   ],
   "source": [
    "#s.replace('A','\"Canon\"').replace('B','\"Fujifilm\"').replace('C','\"Leica\"').replace('D','\"Nikon\"').replace('E','\"Sony\"')\n",
    "\n",
    "s.replace('AA','\"Canon\"').replace('BB','\"Fujifilm\"').replace('CC','\"Leica\"').replace('DD','\"Nikon\"').replace('EE','\"Sony\"')"
   ]
  },
  {
   "cell_type": "code",
   "execution_count": null,
   "id": "55baa9bd-71a0-4323-b647-92e05ad82d83",
   "metadata": {},
   "outputs": [],
   "source": []
  },
  {
   "cell_type": "code",
   "execution_count": null,
   "id": "a98f2c0b-0486-4363-b870-bcc7527bb2d7",
   "metadata": {
    "execution": {
     "iopub.execute_input": "2023-03-31T18:36:33.800079Z",
     "iopub.status.busy": "2023-03-31T18:36:33.799551Z",
     "iopub.status.idle": "2023-03-31T18:36:33.803662Z",
     "shell.execute_reply": "2023-03-31T18:36:33.803140Z",
     "shell.execute_reply.started": "2023-03-31T18:36:33.800057Z"
    },
    "tags": []
   },
   "outputs": [],
   "source": [
    "r=\"\\[\\left[ \\left[ \\left \\{{\\it AA} , {\\it BB} , {\\it DD} , {\\it EE} \\right \\} , \\left \\{{\\it BB} , {\\it CC} \\right \\} , \\left \\{{\\it AA} \\right \\} , \\left \\{{\\it AA} , {\\it BB} , {\\it EE} \\right \\} , \\left \\{{\\it AA} , {\\it DD} \\right \\} , \\left \\{{\\it AA} , {\\it DD} \\right \\} , \\left \\{{\\it DD} \\right \\} , \\left \\{{\\it AA} , {\\it BB} , {\\it DD} \\right \\} , \\left \\{{\\it AA} , {\\it BB} , {\\it DD} \\right \\} \\right]  , \\left[ 0.4 , 0.5 \\right]  , \\left[ \\left \\{{\\it BB} , {\\it CC} , {\\it EE} \\right \\} , \\left \\{{\\it BB} , {\\it CC} , {\\it DD} \\right \\} , \\left \\{{\\it BB} , {\\it CC} , {\\it DD} \\right \\} , \\left \\{{\\it AA} , {\\it CC} , {\\it DD} \\right \\} , \\left \\{{\\it BB} , {\\it CC} \\right \\} , \\left \\{{\\it BB} , {\\it EE} \\right \\} , \\left \\{{\\it BB} \\right \\} , \\left \\{{\\it BB} , {\\it CC} , {\\it DD} , {\\it EE} \\right \\} , \\left \\{{\\it BB} \\right \\} \\right]  , \\left[ 0.4 , 0.5 \\right]  \\right] \\]"
   ]
  },
  {
   "cell_type": "code",
   "execution_count": null,
   "id": "4df87649-cd1a-4886-9384-ca20f297027b",
   "metadata": {
    "execution": {
     "iopub.execute_input": "2023-03-31T18:37:41.123775Z",
     "iopub.status.busy": "2023-03-31T18:37:41.123470Z",
     "iopub.status.idle": "2023-03-31T18:37:41.126844Z",
     "shell.execute_reply": "2023-03-31T18:37:41.126381Z",
     "shell.execute_reply.started": "2023-03-31T18:37:41.123752Z"
    },
    "tags": []
   },
   "outputs": [],
   "source": [
    "r=r.replace('\\{','{').replace('\\}','}')"
   ]
  },
  {
   "cell_type": "code",
   "execution_count": null,
   "id": "957f9aca-0903-4db3-a542-d886db0f1b57",
   "metadata": {
    "execution": {
     "iopub.execute_input": "2023-03-31T18:37:43.906315Z",
     "iopub.status.busy": "2023-03-31T18:37:43.905991Z",
     "iopub.status.idle": "2023-03-31T18:37:43.910176Z",
     "shell.execute_reply": "2023-03-31T18:37:43.909706Z",
     "shell.execute_reply.started": "2023-03-31T18:37:43.906292Z"
    },
    "tags": []
   },
   "outputs": [
    {
     "data": {
      "text/plain": [
       "'\\\\[\\\\left[ \\\\left[ \\\\left {{\\\\it AA} , {\\\\it BB} , {\\\\it DD} , {\\\\it EE} \\right } , \\\\left {{\\\\it BB} , {\\\\it CC} \\right } , \\\\left {{\\\\it AA} \\right } , \\\\left {{\\\\it AA} , {\\\\it BB} , {\\\\it EE} \\right } , \\\\left {{\\\\it AA} , {\\\\it DD} \\right } , \\\\left {{\\\\it AA} , {\\\\it DD} \\right } , \\\\left {{\\\\it DD} \\right } , \\\\left {{\\\\it AA} , {\\\\it BB} , {\\\\it DD} \\right } , \\\\left {{\\\\it AA} , {\\\\it BB} , {\\\\it DD} \\right } \\right]  , \\\\left[ 0.4 , 0.5 \\right]  , \\\\left[ \\\\left {{\\\\it BB} , {\\\\it CC} , {\\\\it EE} \\right } , \\\\left {{\\\\it BB} , {\\\\it CC} , {\\\\it DD} \\right } , \\\\left {{\\\\it BB} , {\\\\it CC} , {\\\\it DD} \\right } , \\\\left {{\\\\it AA} , {\\\\it CC} , {\\\\it DD} \\right } , \\\\left {{\\\\it BB} , {\\\\it CC} \\right } , \\\\left {{\\\\it BB} , {\\\\it EE} \\right } , \\\\left {{\\\\it BB} \\right } , \\\\left {{\\\\it BB} , {\\\\it CC} , {\\\\it DD} , {\\\\it EE} \\right } , \\\\left {{\\\\it BB} \\right } \\right]  , \\\\left[ 0.4 , 0.5 \\right]  \\right] \\\\]'"
      ]
     },
     "execution_count": 3,
     "metadata": {},
     "output_type": "execute_result"
    }
   ],
   "source": [
    "r"
   ]
  },
  {
   "cell_type": "code",
   "execution_count": null,
   "id": "aaac4a32-61b2-4119-9615-92ca1efdd2c5",
   "metadata": {
    "execution": {
     "iopub.execute_input": "2023-03-31T18:38:23.724976Z",
     "iopub.status.busy": "2023-03-31T18:38:23.724399Z",
     "iopub.status.idle": "2023-03-31T18:38:23.729052Z",
     "shell.execute_reply": "2023-03-31T18:38:23.728601Z",
     "shell.execute_reply.started": "2023-03-31T18:38:23.724953Z"
    },
    "tags": []
   },
   "outputs": [
    {
     "data": {
      "text/plain": [
       "'\\\\[\\\\left[ \\\\left[ \\\\left {{\\\\it AA} , {\\\\it BB} , {\\\\it DD} , {\\\\it EE} \\right } , \\\\left {{\\\\it BB} , {\\\\it CC} \\right } , \\\\left {{\\\\it AA} \\right } , \\\\left {{\\\\it AA} , {\\\\it BB} , {\\\\it EE} \\right } , \\\\left {{\\\\it AA} , {\\\\it DD} \\right } , \\\\left {{\\\\it AA} , {\\\\it DD} \\right } , \\\\left {{\\\\it DD} \\right } , \\\\left {{\\\\it AA} , {\\\\it BB} , {\\\\it DD} \\right } , \\\\left {{\\\\it AA} , {\\\\it BB} , {\\\\it DD} \\right } \\right]  , \\\\left[ 0.4 , 0.5 \\right]  , \\\\left[ \\\\left {{\\\\it BB} , {\\\\it CC} , {\\\\it EE} \\right } , \\\\left {{\\\\it BB} , {\\\\it CC} , {\\\\it DD} \\right } , \\\\left {{\\\\it BB} , {\\\\it CC} , {\\\\it DD} \\right } , \\\\left {{\\\\it AA} , {\\\\it CC} , {\\\\it DD} \\right } , \\\\left {{\\\\it BB} , {\\\\it CC} \\right } , \\\\left {{\\\\it BB} , {\\\\it EE} \\right } , \\\\left {{\\\\it BB} \\right } , \\\\left {{\\\\it BB} , {\\\\it CC} , {\\\\it DD} , {\\\\it EE} \\right } , \\\\left {{\\\\it BB} \\right } \\right]  , \\\\left[ 0.4 , 0.5 \\right]  \\right] \\\\]'"
      ]
     },
     "execution_count": 4,
     "metadata": {},
     "output_type": "execute_result"
    }
   ],
   "source": [
    "r.replace('{AA}','\"Canon\"').replace('{BB}','\"Fujifilm\"').replace('{CC}','\"Leica\"').replace('{DD}','\"Nikon\"').replace('{EE}','\"Sony\"')"
   ]
  },
  {
   "cell_type": "code",
   "execution_count": null,
   "id": "252ec82b-1dfb-4b8a-891b-4d582cb4a2b1",
   "metadata": {},
   "outputs": [],
   "source": []
  },
  {
   "cell_type": "code",
   "execution_count": null,
   "id": "d7f137de-ca47-44ca-bdcc-ebff66a21eb6",
   "metadata": {
    "execution": {
     "iopub.execute_input": "2023-03-31T18:39:39.242546Z",
     "iopub.status.busy": "2023-03-31T18:39:39.242008Z",
     "iopub.status.idle": "2023-03-31T18:39:39.250292Z",
     "shell.execute_reply": "2023-03-31T18:39:39.249770Z",
     "shell.execute_reply.started": "2023-03-31T18:39:39.242524Z"
    }
   },
   "outputs": [],
   "source": [
    "r=[ {\"Fujifilm\", \"Leica\", \"Sony\" }, { \"Leica\" }, {\"Fujifilm\", \"Nikon\", \"Sony\" }, {\"Fujifilm\", \"Leica\", \"Nikon\" },  {\"Fujifilm\", \"Leica\", \"Nikon\" }, {\"Leica\" }, {\"Fujifilm\", \"Leica\", \"Nikon\" },  {\"Canon\", \"Fujifilm\", \"Leica\", \"Sony\" },  {\"Nikon\" }, {\"Fujifilm\", \"Nikon\", \"Sony\" }, {\"Leica\", \"Sony\" }, { \"Fujifilm\" }, {\"Fujifilm\", \"Nikon\", \"Sony\" }, {\"Sony\" }, {\"Fujifilm\", \"Nikon\", \"Sony\" }, {\"Leica\", \"Sony\" }, {\"Canon\", \"Leica\", \"Nikon\", \"Sony\" }, {\"Leica\", \"Nikon\", \"Sony\" },  {\"Canon\", \"Leica\", \"Sony\" }, {\"Canon\", \"Fujifilm\", \"Leica\", \"Sony\" }, {\"Canon\", \"Sony\" }, {\"Leica\", \"Sony\" },  {\"Leica\", \"Sony\" }, {\"Sony\" }, {\"Canon\", \"Fujifilm\", \"Nikon\", \"Sony\" },  {\"Leica\", \"Sony\" }, {\"Canon\", \"Leica\", \"Sony\" }, {\"Canon\", \"Fujifilm\", \"Sony\" }, {\"Canon\", \"Leica\" }, { \"Fujifilm\" }, {\"Fujifilm\", \"Nikon\", \"Sony\" }, {\"Canon\", \"Fujifilm\", \"Nikon\" },  {\"Canon\", \"Fujifilm\", \"Nikon\" }, {\"Fujifilm\" }, {\"Canon\", \"Fujifilm\", \"Nikon\" },  {\"Canon\", \"Fujifilm\", \"Sony\" }, {\"Fujifilm\", \"Nikon\" }, {\"Canon\", \"Fujifilm\", \"Leica\" }, {\"Canon\", \"Fujifilm\", \"Nikon\" },  {\"Canon\", \"Nikon\" }, {\"Sony\" }, {\"Fujifilm\", \"Leica\" }, {\"Fujifilm\", \"Leica\", \"Nikon\" }, {\"Fujifilm\", \"Leica\", \"Nikon\" }, {\"Canon\", \"Fujifilm\", \"Nikon\" }, {\"Canon\", \"Leica\", \"Sony\" },  {\"Canon\", \"Fujifilm\" }, {\"Leica\", \"Sony\" }, {\"Fujifilm\", \"Sony\" }, { \"Sony\" }, {\"Fujifilm\", \"Leica\", \"Sony\" }, {\"Fujifilm\", \"Leica\", \"Sony\" },  {\"Fujifilm\", \"Sony\" }, {\"Canon\", \"Leica\", \"Nikon\", \"Sony\" }, {\"Fujifilm\", \"Sony\" }, {\"Canon\", \"Leica\", \"Sony\" },  {\"Canon\", \"Sony\" }, {\"Canon\", \"Fujifilm\", \"Sony\" }, {\"Fujifilm\" }, { \"Fujifilm\", \"Sony\" }, {\"Canon\" },  {\"Canon\", \"Fujifilm\", \"Leica\", \"Sony\" },  {\"Fujifilm\", \"Nikon\", \"Sony\" }, {\"Fujifilm\", \"Leica\", \"Nikon\", \"Sony\" }, {\"Fujifilm\", \"Nikon\", \"Sony\" }, {\"Fujifilm\", \"Nikon\" }, {\"Leica\", \"Nikon\" }, { \"Leica\", \"Nikon\", \"Sony\" }, {\"Sony\" }, {\"Fujifilm\", \"Nikon\", \"Sony\" },  {\"Canon\", \"Sony\" }, {\"Fujifilm\", \"Nikon\" }, {\"Canon\", \"Nikon\", \"Sony\" },  {\"Canon\", \"Leica\", \"Sony\" }, {\"Canon\" }, {\"Fujifilm\", \"Sony\" }, { \"Canon\", \"Fujifilm\", \"Sony\" }, {\"Canon\", \"Nikon\" }, {\"Canon\", \"Nikon\" },  {\"Canon\", \"Sony\" }, {\"Canon\", \"Fujifilm\", \"Nikon\", \"Sony\" }, {\"Fujifilm\", \"Sony\" }, {\"Fujifilm\", \"Nikon\", \"Sony\" },  {\"Fujifilm\", \"Leica\", \"Sony\" }, {\"Leica\" }, {\"Nikon\", \"Sony\" }, { \"Canon\", \"Nikon\" }, {\"Fujifilm\", \"Nikon\", \"Sony\" }, {\"Leica\", \"Nikon\", \"Sony\" }, {\"Fujifilm\", \"Leica\", \"Sony\" } ]"
   ]
  },
  {
   "cell_type": "code",
   "execution_count": null,
   "id": "ee8bcf62-6f0d-4375-b1a3-ec436c9297a6",
   "metadata": {
    "execution": {
     "iopub.execute_input": "2023-03-31T18:39:44.643788Z",
     "iopub.status.busy": "2023-03-31T18:39:44.643482Z",
     "iopub.status.idle": "2023-03-31T18:39:44.647592Z",
     "shell.execute_reply": "2023-03-31T18:39:44.647153Z",
     "shell.execute_reply.started": "2023-03-31T18:39:44.643765Z"
    }
   },
   "outputs": [
    {
     "data": {
      "text/plain": [
       "90"
      ]
     },
     "execution_count": 21,
     "metadata": {},
     "output_type": "execute_result"
    }
   ],
   "source": [
    "len(r)"
   ]
  },
  {
   "cell_type": "code",
   "execution_count": null,
   "id": "4bac1586-b9f1-4b91-89ff-98e8a738600e",
   "metadata": {},
   "outputs": [],
   "source": [
    "r"
   ]
  },
  {
   "cell_type": "code",
   "execution_count": 5,
   "id": "9a45ed8a-2295-4f77-87c2-9d344b713d30",
   "metadata": {
    "execution": {
     "iopub.execute_input": "2023-04-01T07:58:56.020742Z",
     "iopub.status.busy": "2023-04-01T07:58:56.020349Z",
     "iopub.status.idle": "2023-04-01T07:58:56.023672Z",
     "shell.execute_reply": "2023-04-01T07:58:56.023182Z",
     "shell.execute_reply.started": "2023-04-01T07:58:56.020720Z"
    },
    "tags": []
   },
   "outputs": [],
   "source": [
    "s='\\[\\left[ \\left[ \\left \\{{\\it AA} , {\\it BB} , {\\it DD} , {\\it EE} \\right \\} , \\left \\{{\\it BB} , {\\it CC} \\right \\} , \\left \\{{\\it AA} \\right \\} , \\left \\{{\\it AA} , {\\it BB} , {\\it EE} \\right \\} , \\left \\{{\\it AA} , {\\it DD} \\right \\} , \\left \\{{\\it AA} , {\\it DD} \\right \\} , \\left \\{{\\it DD} \\right \\} , \\left \\{{\\it AA} , {\\it BB} , {\\it DD} \\right \\} , \\left \\{{\\it AA} , {\\it BB} , {\\it DD} \\right \\} \\right]  , \\left[ 0.4 , 0.5 \\right]  , \\left[ \\left \\{{\\it BB} , {\\it CC} , {\\it EE} \\right \\} , \\left \\{{\\it BB} , {\\it CC} , {\\it DD} \\right \\} , \\left \\{{\\it BB} , {\\it CC} , {\\it DD} \\right \\} , \\left \\{{\\it AA} , {\\it CC} , {\\it DD} \\right \\} , \\left \\{{\\it BB} , {\\it CC} \\right \\} , \\left \\{{\\it BB} , {\\it EE} \\right \\} , \\left \\{{\\it BB} \\right \\} , \\left \\{{\\it BB} , {\\it CC} , {\\it DD} , {\\it EE} \\right \\} , \\left \\{{\\it BB} \\right \\} \\right]  , \\left[ 0.4 , 0.5 \\right]  \\right] \\]'"
   ]
  },
  {
   "cell_type": "code",
   "execution_count": 6,
   "id": "0881e9fa-cc6b-475f-ba89-ea5e86676efe",
   "metadata": {
    "execution": {
     "iopub.execute_input": "2023-04-01T07:58:57.200250Z",
     "iopub.status.busy": "2023-04-01T07:58:57.199888Z",
     "iopub.status.idle": "2023-04-01T07:58:57.204431Z",
     "shell.execute_reply": "2023-04-01T07:58:57.203942Z",
     "shell.execute_reply.started": "2023-04-01T07:58:57.200229Z"
    },
    "tags": []
   },
   "outputs": [
    {
     "data": {
      "text/plain": [
       "'\\\\[\\\\left[ \\\\left[ {{AA}, {BB}, {DD}, {EE}}, {{BB}, {CC}}, {{AA}}, {{AA}, {BB}, {EE}}, {{AA}, {DD}}, {{AA}, {DD}}, {{DD}}, {{AA}, {BB}, {DD}}, {{AA}, {BB}, {DD}} \\right] , \\\\left[ 0.4, 0.5 \\right] , \\\\left[ {{BB}, {CC}, {EE}}, {{BB}, {CC}, {DD}}, {{BB}, {CC}, {DD}}, {{AA}, {CC}, {DD}}, {{BB}, {CC}}, {{BB}, {EE}}, {{BB}}, {{BB}, {CC}, {DD}, {EE}}, {{BB}} \\right] , \\\\left[ 0.4, 0.5 \\right] \\right] \\\\]'"
      ]
     },
     "execution_count": 6,
     "metadata": {},
     "output_type": "execute_result"
    }
   ],
   "source": [
    "s.replace('\\left \\{','{').replace('\\right \\}','}').replace('\\it ','').replace(' ,',',').replace('  ',' ').replace(' }','}')"
   ]
  },
  {
   "cell_type": "code",
   "execution_count": null,
   "id": "d288ff7e-4592-45a5-89e2-2a0b078a7d88",
   "metadata": {},
   "outputs": [],
   "source": []
  },
  {
   "cell_type": "code",
   "execution_count": null,
   "id": "16a57819-1d11-4642-8769-3c15a1519dd0",
   "metadata": {},
   "outputs": [],
   "source": []
  },
  {
   "cell_type": "code",
   "execution_count": null,
   "id": "00bf2007-78fc-4c36-abe0-ce2540221bed",
   "metadata": {},
   "outputs": [],
   "source": []
  },
  {
   "cell_type": "code",
   "execution_count": null,
   "id": "abd90310-4271-4b7f-a324-a4708d1e9b28",
   "metadata": {},
   "outputs": [],
   "source": []
  },
  {
   "cell_type": "code",
   "execution_count": null,
   "id": "a4347193-2f52-42ab-bb5d-def1334c31b5",
   "metadata": {},
   "outputs": [],
   "source": []
  },
  {
   "cell_type": "code",
   "execution_count": null,
   "id": "54d34e75-b33e-4d80-90ff-b951daf7dedd",
   "metadata": {},
   "outputs": [],
   "source": []
  },
  {
   "cell_type": "code",
   "execution_count": null,
   "id": "442af4d8",
   "metadata": {},
   "outputs": [],
   "source": []
  }
 ],
 "metadata": {
  "kernelspec": {
   "display_name": "Python 3 (ipykernel)",
   "language": "python",
   "name": "python3"
  },
  "language_info": {
   "codemirror_mode": {
    "name": "ipython",
    "version": 3
   },
   "file_extension": ".py",
   "mimetype": "text/x-python",
   "name": "python",
   "nbconvert_exporter": "python",
   "pygments_lexer": "ipython3",
   "version": "3.10.8"
  },
  "widgets": {
   "application/vnd.jupyter.widget-state+json": {
    "state": {},
    "version_major": 2,
    "version_minor": 0
   }
  }
 },
 "nbformat": 4,
 "nbformat_minor": 5
}
