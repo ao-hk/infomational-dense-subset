{
 "cells": [
  {
   "cell_type": "markdown",
   "id": "458a18ba-724a-4c63-a536-4e068282a089",
   "metadata": {
    "tags": []
   },
   "source": [
    "# Dense Subsets"
   ]
  },
  {
   "cell_type": "code",
   "execution_count": 1,
   "id": "290bd594-499a-462c-ac33-d58d08ddeacf",
   "metadata": {
    "tags": []
   },
   "outputs": [],
   "source": [
    "from visualization import playground"
   ]
  },
  {
   "cell_type": "markdown",
   "id": "b520ecb4-3990-40e0-b20a-d16dc5c3e8b4",
   "metadata": {},
   "source": [
    "```{important}\n",
    "How to identify dense subsets that are meaningful clusters?\n",
    "```"
   ]
  },
  {
   "cell_type": "markdown",
   "id": "0a7fe12e-d952-44c9-ac91-dfec4dadba69",
   "metadata": {
    "tags": []
   },
   "source": [
    "## Densest at-least-$k$-subsets"
   ]
  },
  {
   "cell_type": "markdown",
   "id": "81e48532-022f-4172-907e-c7032a0fe627",
   "metadata": {},
   "source": [
    "Consider the following extension of the densest $k$-subsets problem in {eq}`densest`:"
   ]
  },
  {
   "cell_type": "markdown",
   "id": "4c908392-14fe-4e59-9668-bc461b142f65",
   "metadata": {},
   "source": [
    "---\n",
    "\n",
    "**Definition** (densest at-least-$k$ {cite}`andersen2009finding, khuller2009finding`)  \n",
    ":label: def:densest-at-least-k\n",
    "\n",
    "For order $k\\in \\Set{1,\\dots, n}$, define\n",
    "\n",
    "$$\n",
    "\\begin{align}\n",
    "\\mc{D}_{\\geq k} &:= \\arg \\overbrace{\\max_{\\substack{B \\subseteq V:\\\\ \\abs{B}\\geq k}}\\rho(B)}^{\\rho_{\\geq k}:=},\n",
    "\\end{align}\n",
    "$$ (densest-at-least-k)\n",
    "\n",
    "which is the set of densest subsets with at least $k$ nodes.\n",
    "\n",
    "---"
   ]
  },
  {
   "cell_type": "markdown",
   "id": "a5919c8f-8006-4e63-b549-e6bc4d3360bd",
   "metadata": {},
   "source": [
    "$\\mc{D}_{\\geq k}$ is meaningful because\n",
    "- $\\mc{D}_{\\geq 1}=\\mc{D}_*$ is the set of non-empty densest subsets and\n",
    "- $\\mc{D}_{\\geq k} \\subseteq \\bigcup_{\\ell=k}^n \\mc{D}_k$ even though $\\mc{D}_k\\subseteq \\mc{D}_{\\geq k}$ may not hold."
   ]
  },
  {
   "cell_type": "markdown",
   "id": "732d26b8-de9b-4654-b7d4-f30659ef99fc",
   "metadata": {},
   "source": [
    "```{important}\n",
    "- Is it enough to look at $\\mc{D}_{\\geq k}$?\n",
    "- How to compute $\\mc{D}_{\\geq k}$?\n",
    "```"
   ]
  },
  {
   "cell_type": "markdown",
   "id": "5ee5bf89-6579-4955-903f-80ed79db74e7",
   "metadata": {},
   "source": [
    "For $k\\in \\Set{1,\\dots, n}$,\n",
    "$$\n",
    "\\begin{alignat}{2}\n",
    "&&x &= \\rho_k\\\\\n",
    "&\\stackrel{\\text{(a)}}\\iff& x &= \\max_{\\substack{B \\subseteq V:\\\\ \\abs{B}\\geq k}} \\rho(B)\\\\\n",
    "&\\stackrel{\\text{(b)}}\\iff& 0 &= \\max_{\\substack{B \\subseteq V:\\\\ \\abs{B}\\geq k}} \\frac{\\mu(B)}{\\nu(B)} - x\\\\\n",
    "&\\stackrel{\\text{(c)}}\\iff& 0 &= \\max_{\\substack{B \\subseteq V:\\\\ \\abs{B}\\geq k}} \\left[\\mu(B) - x\\nu(B)\\right]\\\\\n",
    "\\end{alignat}\n",
    "$$\n",
    "\n",
    "and the set of optimal subsets $B$ remain unchanged.\n",
    "\n",
    "- (a) is by the definition {eq}`densest-at-least-k` of $\\rho_k$;\n",
    "- (b) is by subtracting $x$ from both sides; and\n",
    "- &#40;c) is by multiplying both sides by $\\nu(B)\\geq 0$."
   ]
  },
  {
   "cell_type": "markdown",
   "id": "bbc56ead-7a71-4224-8f37-81095cd05baa",
   "metadata": {},
   "source": [
    "```{important}\n",
    "A supermodular function can be maximized over a lattice of subsets of order $n$ in a polynomial number $\\text{SFM}(n)$ of oracle calls to evaluate the function {cite}`iwata2001combinatorial`.\n",
    "\n",
    "Since\n",
    "- $\\mu(B) - x\\nu(B)$ is supermodular in $B$ for $x\\geq 0$ and\n",
    "- the root is non-negative, i.e., $x=\\rho_k\\geq 0$,\n",
    "\n",
    "can the root $\\rho_k$ be computed in polynomial time?\n",
    "```"
   ]
  },
  {
   "cell_type": "markdown",
   "id": "0d968e8a-c57d-494e-a22b-1b263bfc1b9a",
   "metadata": {},
   "source": [
    "```{caution}\n",
    "The maximization is over $\\Set{B\\subseteq V\\mid \\abs{B}\\geq k}$, which is not a lattice family unless $k=0$.\n",
    "```"
   ]
  },
  {
   "cell_type": "markdown",
   "id": "de80ed57-cf7e-4a8b-b841-9f33370bc4cd",
   "metadata": {
    "tags": []
   },
   "source": [
    "## $k$-intersecting dense subsets"
   ]
  },
  {
   "cell_type": "markdown",
   "id": "03507c2c-2b82-4baa-bc67-1592f9b90cb4",
   "metadata": {},
   "source": [
    "$\\Set{B\\subseteq V \\mid \\abs{B}\\geq k}$ is the so-called *$k$-intersecting family* {cite}`schrijver2002combinatorial`:"
   ]
  },
  {
   "cell_type": "markdown",
   "id": "d8ce88d0-134f-415a-ba81-2b234461448c",
   "metadata": {},
   "source": [
    "A family $\\mc{F}$ is *$k$-intersecting* if\n",
    "\n",
    "$$\n",
    "\\begin{align}\n",
    "B_1\\cap B_2, B_1 \\cup B_2 \\in  \\mc{F} \\qquad \\forall B_1, B_2 \\in \\mc{F}: \\abs{B_1\\cap B_2}\\geq k.\n",
    "\\end{align}\n",
    "$$ (k-intersecting)\n",
    "\n",
    "If the above holds for $k=0$, $\\mc{F}$ is called a *lattice family*."
   ]
  },
  {
   "cell_type": "markdown",
   "id": "3a2b3bcc-5528-498b-bccb-ac6f865db6c0",
   "metadata": {},
   "source": [
    "```{important}\n",
    "Maximizing $\\mu(B)-x\\nu(B)$ over a $k$-intersecting family can be reduced to multiple maximizations over different lattice families.\n",
    "```"
   ]
  },
  {
   "cell_type": "markdown",
   "id": "745b8f16-8b87-436e-8c53-fd96af1ebc85",
   "metadata": {},
   "source": [
    "---\n",
    "\n",
    "**Definition** ($k$-intersecting dense)  \n",
    ":label: def:k-intersecting-dense\n",
    "\n",
    "For order $k\\in \\Set{0,\\dots, n}$, define\n",
    "\n",
    "$$\n",
    "\\begin{align}\n",
    "\\mc{U}_k(x) &:= \\arg \\underbrace{\\overbrace{\\max_{\\substack{B\\subseteq V:\\\\ \\abs{B}\\geq k}} \\underbrace{\\left[\\mu(B) - x\\nu(B)\\right]}_{f[B](x):=}}^{f_k(x):=}}_{\\displaystyle =\\max_{\\substack{A\\subseteq V:\\\\ \\abs{A}= k}} \\underbrace{\\max_{\\substack{B\\subseteq V:\\\\ B\\supseteq A}} f[B](x)}_{f_A(x):=}},\n",
    "\\end{align}\n",
    "$$ (k-intersecting-dense)\n",
    "\n",
    "where $\\mu$ and $\\nu$ are respectively the mass and volume function for the density defined in {prf:ref}`def:density`.\n",
    "\n",
    "---"
   ]
  },
  {
   "cell_type": "code",
   "execution_count": 3,
   "id": "23903a49-9d0c-42d4-b7a8-c46c4eae5e11",
   "metadata": {
    "tags": []
   },
   "outputs": [
    {
     "data": {
      "application/vnd.jupyter.widget-view+json": {
       "model_id": "133b98e530984519973c3d2309a023bc",
       "version_major": 2,
       "version_minor": 0
      },
      "text/plain": [
       "VBox(children=(HBox(children=(IntSlider(value=4, description='b', max=8, min=3), IntSlider(value=1, descriptio…"
      ]
     },
     "metadata": {},
     "output_type": "display_data"
    }
   ],
   "source": [
    "playground(b=4, k=1, m=1)"
   ]
  },
  {
   "cell_type": "markdown",
   "id": "1bd49211-2203-45a3-9d4e-99be5d7f59e7",
   "metadata": {},
   "source": [
    "It follows that \n",
    "- $\\rho_k$ is a root of $f_k(x)=0$ and \n",
    "- $\\mc{D}_{\\geq k}$ is the corresponding set $\\mc{U}_k(x)$ of maximizing subsets $B$ at the root."
   ]
  },
  {
   "cell_type": "markdown",
   "id": "80660ad4-a697-487e-8d19-6153037dd753",
   "metadata": {},
   "source": [
    "---\n",
    "\n",
    "**Theorem** (root of $f_k$)   \n",
    ":label: thm:root-of-f-k\n",
    "\n",
    "The set of roots of $f_k$ defined in {eq}`k-intersecting-dense` is\n",
    "\n",
    "$$\n",
    "\\begin{align}\n",
    "\\Set{x \\in \\mathbb{R} |f_k(x)= 0} &= \n",
    "\\begin{cases}\n",
    "\\Set{\\rho_k} & k\\in \\Set{1,\\dots,n}\\\\\n",
    "[\\rho_1,\\infty) & k=0\n",
    "\\end{cases}\n",
    "\\end{align}\n",
    "$$ (sol:rho-k)\n",
    "\n",
    "and the corresponding set $\\mc{U}_k(x)$ of maximizing subsets gives\n",
    "\n",
    "$$\n",
    "\\begin{align}\n",
    "\\mc{U}_k(\\rho_k) &= \n",
    "\\begin{cases}\n",
    "\\mc{D}_{\\geq k} & k\\in \\Set{1,\\dots,n}\\\\\n",
    "\\mc{D}_{\\geq 1} \\cup \\Set{\\emptyset} & k=0.\n",
    "\\end{cases}\n",
    "\\end{align}\n",
    "$$ (sol:U-k-at-rho-k)\n",
    "\n",
    "---"
   ]
  },
  {
   "cell_type": "markdown",
   "id": "7da0f09d-b8ac-4802-846c-c208cb8143db",
   "metadata": {},
   "source": [
    "For any $x\\geq 0$, \n",
    "\n",
    "$$f_A(x):=\\max_{\\substack{B\\subseteq V:\\\\ B\\supseteq A}} f[B](x)$$ \n",
    "\n",
    "in {eq}`k-intersecting-dense` can be solve in $\\text{SFM}(n-k)$ oracle calls because\n",
    "\n",
    "- $f[B](x):=\\mu(B) - x\\nu(B)$ is supermodular for $x\\geq 0$ and\n",
    "- $\\Set{B\\subseteq V\\mid B\\supseteq A}$ is a lattice family."
   ]
  },
  {
   "cell_type": "markdown",
   "id": "de2c3549-094b-4ab8-bf5e-f23047607b16",
   "metadata": {},
   "source": [
    "Furthermore:\n",
    "- The maximization can be solved for all $x$ with an additional factor $(n-k)$ of oracle calls.\n",
    "- The set of maximizing subsets $B$ form a lattice family, which can be computed with an addition factor $(n-k)$ of oracle calls."
   ]
  },
  {
   "cell_type": "markdown",
   "id": "c5ce550b-d10c-4da4-b9a1-79fe003ab4b9",
   "metadata": {},
   "source": [
    "---\n",
    "\n",
    "**Theorem** (parametric SFM)  \n",
    ":label: thm:parametric-SFM\n",
    "\n",
    "\n",
    "For $x\\in \\mathbb{R}$, $\\mc{U}_k(x)$ is a $k$-intersecting family {eq}`k-intersecting` satisfying\n",
    "\n",
    "$$\n",
    "\\begin{align}\n",
    "\\mc{U}_k(x) &\\supseteq \n",
    "\\begin{cases}\n",
    "V & x < 0\\\\\n",
    "\\emptyset & k=0, x> \\xi_0 \\\\\n",
    "\\mc{D}_k & k\\in \\Set{1,\\dots,n}, x> \\xi_k \n",
    "\\end{cases}\n",
    "\\end{align}\n",
    "$$\n",
    "\n",
    "for some $\\xi_k\\geq 0$ possibly dependent on $k\\in \\Set{0,\\dots, n}$, where equality holds if $h$ is strictly increasing. \n",
    "\n",
    "Furthermore, the function $\\mc{U}_k$ of $x$ can be computed in $\\mc{O}\\left({n \\choose k} (n-k)^2 \\right)$ submodular function minimizations of order $n-k$.\n",
    "\n",
    "---"
   ]
  },
  {
   "cell_type": "markdown",
   "id": "9c1ae55c-26fe-46f6-853c-1642398c6984",
   "metadata": {},
   "source": [
    "```{important}\n",
    "The number of oracle calls to compute $\\mc{U}_k(x)$ is polynomial for sufficiently small order $k\\in \\mc{O}(\\log n)$.\n",
    "- Is it enough to consider small orders?\n",
    "- Is it enough to consider $\\mc{U}_k(\\rho_k)$? \n",
    "```"
   ]
  },
  {
   "cell_type": "markdown",
   "id": "6be0627d-bfd0-417a-b0e5-38b5380f0d51",
   "metadata": {
    "tags": []
   },
   "source": [
    "## Beyond maximal dense subsets"
   ]
  },
  {
   "cell_type": "markdown",
   "id": "80221c95-b23e-413e-8742-e2cc6e176807",
   "metadata": {},
   "source": [
    "As an example, consider the usual graph density in {eq}`rho:graph`."
   ]
  },
  {
   "cell_type": "markdown",
   "id": "5327b0e7-8275-4fa7-a7cb-a445e45d9c4c",
   "metadata": {},
   "source": [
    "For the dumbbell graph in {prf:ref}`eg:dumbbell`, it can be shown that $V$ is the unique densest subset and so\n",
    "\n",
    "$$\n",
    "\\begin{align}\n",
    "\\mc{D}_{\\geq k} &=\n",
    "\\Set{V} \\qquad \\forall k\\in \\Set{1,\\dots,n},\n",
    "\\end{align}\n",
    "$$\n",
    "\n",
    "which fails to identify the $b$-cliques as clusters."
   ]
  },
  {
   "cell_type": "markdown",
   "id": "a17fb80f-889a-4cb3-8b9a-7bbfc67f25c8",
   "metadata": {},
   "source": [
    "$\\mc{U}_k(\\rho_k)$ fails as well because it is essentially $\\mc{D}_{\\geq k}$ by {prf:ref}`thm:root-of-f-k`."
   ]
  },
  {
   "cell_type": "markdown",
   "id": "4e32ec04-1553-45f7-ad38-4c6195d90e9d",
   "metadata": {},
   "source": [
    "```{important}\n",
    "Is it enough to consider $\\mc{U}_0(x)$ for different $x$?\n",
    "```"
   ]
  },
  {
   "cell_type": "code",
   "execution_count": 4,
   "id": "a4579128-5efc-4f34-a0bc-0823013016dc",
   "metadata": {
    "tags": []
   },
   "outputs": [
    {
     "data": {
      "application/vnd.jupyter.widget-view+json": {
       "model_id": "70ee5777cf1e47e0b6647caf998d73d2",
       "version_major": 2,
       "version_minor": 0
      },
      "text/plain": [
       "VBox(children=(HBox(children=(IntSlider(value=4, description='b', max=8, min=3), IntSlider(value=0, descriptio…"
      ]
     },
     "metadata": {},
     "output_type": "display_data"
    }
   ],
   "source": [
    "playground(b=4, k=0, m=0, t=\"broken\")"
   ]
  },
  {
   "cell_type": "markdown",
   "id": "d0933d67-d197-4a5f-8afd-6306c473b40b",
   "metadata": {},
   "source": [
    "Note that $$f[B](x):=\\mu(B) - x\\nu(B)$$\n",
    "\n",
    "- $y$-intercept: $\\mu(B)\\geq 0$\n",
    "- slope: $-\\nu(B)$.\n",
    "- $x$-intercept: $\\rho(B)=\\frac{\\mu(B)}{\\nu(B)}\\geq 0$\n",
    "\n",
    "\n",
    "$$f_0(x):=\\max_{B\\subseteq V} f[B](x)$$ is\n",
    "\n",
    "- non-negative because $f[\\emptyset](x)=0$ for all $x$; \n",
    "- non-increasing because $f[B](x)$ has non-positive slope $-\\nu(B)\\leq 0$; and \n",
    "- concave because of the maximization over linear $f[B]$.\n",
    "\n",
    "This implies the following structure of $\\mc{U}_0(x)$."
   ]
  },
  {
   "cell_type": "markdown",
   "id": "49e13811-9dc0-4b9c-bc87-7656208640d1",
   "metadata": {},
   "source": [
    "---\n",
    "\n",
    "**Theorem** ($\\nu$-maximally-dense)  \n",
    ":label: thm:nu-maximally-dense\n",
    "\n",
    "For $x\\in \\mathbb{R}$, $\\mc{U}_0(x)$ is *$\\nu$-maximally dense* in the sense that for all $B\\in \\mc{U}_0(x)\\setminus\\Set{\\emptyset}$,\n",
    "\n",
    "$$\n",
    "\\begin{align}\n",
    "\\rho(B)> \\rho(C) \\qquad \\forall C\\subseteq V: \\nu(C)>\\nu(B)\\\\\n",
    "\\rho(B)\\geq \\rho(C) \\qquad \\forall C\\subseteq V: \\nu(C)=\\nu(B).\n",
    "\\end{align}\n",
    "$$ (nu-maximally-dense)\n",
    "\n",
    "---"
   ]
  },
  {
   "cell_type": "markdown",
   "id": "7f3646f6-7fba-465a-a17e-c94cfe50580e",
   "metadata": {},
   "source": [
    "For the dumbbell graph in {prf:ref}`eg:dumbbell`, since $V$ has the largest volume as well, {eq}`nu-maximally-dense` implies\n",
    "\n",
    "$$\n",
    "\\begin{align}\n",
    "\\bigcup_{x\\in \\mathbb{R}} \\mc{U}_{0}(x) &=\n",
    "\\Set{V},\n",
    "\\end{align}\n",
    "$$\n",
    "\n",
    "which again fails to identify the $b$-cliques as clusters."
   ]
  },
  {
   "cell_type": "markdown",
   "id": "93393555-172c-4149-b728-d92c383abe52",
   "metadata": {},
   "source": [
    "For the dumbbell graph in {prf:ref}`eg:dumbbell` with $b=3$,\n",
    "\n",
    "$$\n",
    "\\begin{align}\n",
    "\\mc{U}_{1}(x) &=\n",
    "\\begin{cases}\n",
    "\\Set{V} && x\\leq \\frac43\\\\\n",
    "\\Set{C_1,C_2} && x\\in [\\frac43,\\frac32]\\\\\n",
    "\\Set{i} && i\\in V, x\\geq \\frac32\n",
    "\\end{cases}\n",
    "\\end{align}\n",
    "$$\n",
    "\n",
    "which successfully identifies the $b$-cliques on $C_1$ and $C_2$."
   ]
  },
  {
   "cell_type": "code",
   "execution_count": 2,
   "id": "36a9eff9-491b-4653-9338-be279f5860df",
   "metadata": {
    "tags": []
   },
   "outputs": [
    {
     "data": {
      "application/vnd.jupyter.widget-view+json": {
       "model_id": "10a6b66e451548bdb1bac50190f44a21",
       "version_major": 2,
       "version_minor": 0
      },
      "text/plain": [
       "VBox(children=(HBox(children=(IntSlider(value=3, description='b', max=8, min=3), IntSlider(value=0, descriptio…"
      ]
     },
     "metadata": {},
     "output_type": "display_data"
    }
   ],
   "source": [
    "playground(b=3, k=1, m=0, t=\"normal\")"
   ]
  },
  {
   "cell_type": "code",
   "execution_count": null,
   "id": "aee8f5fd-9404-4c55-9083-c5fa68e4af92",
   "metadata": {},
   "outputs": [],
   "source": []
  }
 ],
 "metadata": {
  "jupytext": {
   "formats": "ipynb,md:myst"
  },
  "kernelspec": {
   "display_name": "Python 3 (ipykernel)",
   "language": "python",
   "name": "python3"
  },
  "language_info": {
   "codemirror_mode": {
    "name": "ipython",
    "version": 3
   },
   "file_extension": ".py",
   "mimetype": "text/x-python",
   "name": "python",
   "nbconvert_exporter": "python",
   "pygments_lexer": "ipython3",
   "version": "3.10.8"
  },
  "widgets": {
   "application/vnd.jupyter.widget-state+json": {
    "state": {
     "043de09392f54e6f98618ac6ed21a4aa": {
      "model_module": "@jupyter-widgets/base",
      "model_module_version": "1.2.0",
      "model_name": "LayoutModel",
      "state": {}
     },
     "06bb201aed6442018919f15c32d5d608": {
      "model_module": "@jupyter-widgets/base",
      "model_module_version": "1.2.0",
      "model_name": "LayoutModel",
      "state": {}
     },
     "074ad97377f64e7f9107386d2f72b240": {
      "model_module": "@jupyter-widgets/base",
      "model_module_version": "1.2.0",
      "model_name": "LayoutModel",
      "state": {}
     },
     "081f41eb4eb140ed8bed6cf8de44afc1": {
      "model_module": "@jupyter-widgets/controls",
      "model_module_version": "1.5.0",
      "model_name": "FloatSliderModel",
      "state": {
       "description": "fig_aspect",
       "layout": "IPY_MODEL_c06505f382194e4a8aface5aeeb55ae9",
       "max": 1.5,
       "min": -0.5,
       "step": 0.1,
       "style": "IPY_MODEL_1847b1701018410aa21cd277f89491ec",
       "value": 0.5
      }
     },
     "0a952ea694b14eeca50a57a945e7d42d": {
      "model_module": "@jupyter-widgets/base",
      "model_module_version": "1.2.0",
      "model_name": "LayoutModel",
      "state": {}
     },
     "0dbe0cb5358c4c7d924f5f42affdbc47": {
      "model_module": "@jupyter-widgets/controls",
      "model_module_version": "1.5.0",
      "model_name": "IntSliderModel",
      "state": {
       "description": "Steps",
       "layout": "IPY_MODEL_a43ffa2d74614bc2b16fcabf296e9b3c",
       "max": 40,
       "style": "IPY_MODEL_be336cf251384723ac0e5b6d8d90bc20",
       "value": 3
      }
     },
     "0f78e12c7c064b6286dfa41f0328bd04": {
      "model_module": "@jupyter-widgets/controls",
      "model_module_version": "1.5.0",
      "model_name": "SliderStyleModel",
      "state": {
       "description_width": ""
      }
     },
     "0fc5a98e952643df9f90a409bab9958c": {
      "model_module": "@jupyter-widgets/base",
      "model_module_version": "1.2.0",
      "model_name": "LayoutModel",
      "state": {}
     },
     "13e264ae5a604cfbbc5a816d54d46e2c": {
      "model_module": "@jupyter-widgets/controls",
      "model_module_version": "1.5.0",
      "model_name": "VBoxModel",
      "state": {
       "_dom_classes": [
        "widget-interact"
       ],
       "children": [
        "IPY_MODEL_2f106a5dcf45451cb03e68308e022c8f",
        "IPY_MODEL_578c5502383a4d90b11220dd4c76e211",
        "IPY_MODEL_53161c90028042e28a170cb610063c2a",
        "IPY_MODEL_fe819bd27a624f0fafed65143a2c8975",
        "IPY_MODEL_0dbe0cb5358c4c7d924f5f42affdbc47",
        "IPY_MODEL_b2edb255421d4b20bbbe4b6f09462233",
        "IPY_MODEL_723b1f0a9082438988f93da01d0ed2e2",
        "IPY_MODEL_ef1a182edd654314bd78ada9c2ede37a",
        "IPY_MODEL_5aac2c8d13fd4699b1eaa0d76679838d",
        "IPY_MODEL_db43ce009ef74ac5ba1ca88b17294b3e",
        "IPY_MODEL_b3452a4ac5134d6a8fda3f3beedb9e95",
        "IPY_MODEL_b67d052aee924eb7a964e8958b7983fe",
        "IPY_MODEL_8bfa324e93ba493d8d76a0a3284cd14e",
        "IPY_MODEL_b89c714526fa41b7bcb3689052f5e01d",
        "IPY_MODEL_cb28f604a76445ab824f23b9a88ef0d1"
       ],
       "layout": "IPY_MODEL_cb6d012afdcf492bbc8f1d3baead4374"
      }
     },
     "14c530943d634565afa700e064a18353": {
      "model_module": "@jupyter-widgets/controls",
      "model_module_version": "1.5.0",
      "model_name": "SliderStyleModel",
      "state": {
       "description_width": ""
      }
     },
     "1774c2e7e97f425cadd0c17fef9ae366": {
      "model_module": "@jupyter-widgets/base",
      "model_module_version": "1.2.0",
      "model_name": "LayoutModel",
      "state": {}
     },
     "1847b1701018410aa21cd277f89491ec": {
      "model_module": "@jupyter-widgets/controls",
      "model_module_version": "1.5.0",
      "model_name": "SliderStyleModel",
      "state": {
       "description_width": ""
      }
     },
     "195b54109c2546dd88f27798fff93d7b": {
      "model_module": "@jupyter-widgets/base",
      "model_module_version": "1.2.0",
      "model_name": "LayoutModel",
      "state": {}
     },
     "1a942971938546bbb9acb8241c15a3a4": {
      "model_module": "@jupyter-widgets/controls",
      "model_module_version": "1.5.0",
      "model_name": "DescriptionStyleModel",
      "state": {
       "description_width": ""
      }
     },
     "1d590287d362481cb9d881e12d8ecfce": {
      "model_module": "@jupyter-widgets/base",
      "model_module_version": "1.2.0",
      "model_name": "LayoutModel",
      "state": {
       "flex_flow": "row wrap"
      }
     },
     "1e1fb9cc1dff4c7bba15001919ec9765": {
      "model_module": "@jupyter-widgets/base",
      "model_module_version": "1.2.0",
      "model_name": "LayoutModel",
      "state": {}
     },
     "1e2d429631a34c27adf9fea2fcf8bec9": {
      "model_module": "@jupyter-widgets/base",
      "model_module_version": "1.2.0",
      "model_name": "LayoutModel",
      "state": {}
     },
     "1e3fd7404d98457f87f648d47320ce0f": {
      "model_module": "@jupyter-widgets/output",
      "model_module_version": "1.0.0",
      "model_name": "OutputModel",
      "state": {
       "layout": "IPY_MODEL_a50595c2bf5c4d3c935e57925f88140f"
      }
     },
     "218c4c9c38c04b8e86b987b87f4d815d": {
      "model_module": "@jupyter-widgets/base",
      "model_module_version": "1.2.0",
      "model_name": "LayoutModel",
      "state": {}
     },
     "26bc207b31044bf98d741106e970fb21": {
      "model_module": "@jupyter-widgets/controls",
      "model_module_version": "1.5.0",
      "model_name": "IntSliderModel",
      "state": {
       "description": "k",
       "layout": "IPY_MODEL_b27e3914883f4a09ae3f98a88517a098",
       "max": 5,
       "style": "IPY_MODEL_ed8d9d61650f4ce1b9282e9e26bac226",
       "value": 1
      }
     },
     "2731a02636ad46bba7c162736a1fadf9": {
      "model_module": "@jupyter-widgets/controls",
      "model_module_version": "1.5.0",
      "model_name": "VBoxModel",
      "state": {
       "_dom_classes": [
        "widget-interact"
       ],
       "children": [
        "IPY_MODEL_5e602582e13b498ea402b6d29532c1a4",
        "IPY_MODEL_4d167e1df4ec40178021fe0c69730f6e",
        "IPY_MODEL_b60d201b896744c7ac8fbae3823909f5",
        "IPY_MODEL_26bc207b31044bf98d741106e970fb21",
        "IPY_MODEL_88d2801cba4044939637d5c293b04451",
        "IPY_MODEL_dbe43717621140ed86012f84406543d2",
        "IPY_MODEL_5ac6786be4ff42e19dbd3628f3f8a24f",
        "IPY_MODEL_b7adf0355dc344e89abfbaa34aed13c8",
        "IPY_MODEL_a17fbc1052e8405fa3c81aa61c77a0f6",
        "IPY_MODEL_081f41eb4eb140ed8bed6cf8de44afc1",
        "IPY_MODEL_b7bdc9ddfd624d0f812c443a3f1b96b7",
        "IPY_MODEL_e3c2db8ba67e4c6fa5ac982ab2d7dfce",
        "IPY_MODEL_ff8a05293303435ca3a2bd59ebf54248",
        "IPY_MODEL_d6621df621b344a9b90483ddbeafe1fd",
        "IPY_MODEL_5b6486594dad46cd8896f3058aa18ff6"
       ],
       "layout": "IPY_MODEL_a2095740b0b34c9188288639c91e3bb3"
      }
     },
     "27e2811c95ce4603a3b501df36b98c4a": {
      "model_module": "@jupyter-widgets/base",
      "model_module_version": "1.2.0",
      "model_name": "LayoutModel",
      "state": {}
     },
     "2819efd1eab34efa98487f4e16cf7c56": {
      "model_module": "@jupyter-widgets/base",
      "model_module_version": "1.2.0",
      "model_name": "LayoutModel",
      "state": {}
     },
     "2b60d4d183414135927b5551a2dc5a8d": {
      "model_module": "@jupyter-widgets/controls",
      "model_module_version": "1.5.0",
      "model_name": "SliderStyleModel",
      "state": {
       "description_width": ""
      }
     },
     "2c261fb6f1394e709975a71ba16e29ea": {
      "model_module": "@jupyter-widgets/controls",
      "model_module_version": "1.5.0",
      "model_name": "IntSliderModel",
      "state": {
       "description": "fig_ylim_top",
       "layout": "IPY_MODEL_dce0e788ad79453e87ec82e999d102cb",
       "max": 39,
       "min": -13,
       "style": "IPY_MODEL_97ebfc145ac54469925689d0802b70d9",
       "value": 13
      }
     },
     "2d382c3a34424f3aa7980ffd31941d3f": {
      "model_module": "@jupyter-widgets/base",
      "model_module_version": "1.2.0",
      "model_name": "LayoutModel",
      "state": {}
     },
     "2ed873a78ccf471fb6051b52a8106284": {
      "model_module": "@jupyter-widgets/base",
      "model_module_version": "1.2.0",
      "model_name": "LayoutModel",
      "state": {}
     },
     "2f106a5dcf45451cb03e68308e022c8f": {
      "model_module": "@jupyter-widgets/controls",
      "model_module_version": "1.5.0",
      "model_name": "IntSliderModel",
      "state": {
       "description": "b",
       "layout": "IPY_MODEL_410ff03725a34ac3b3df686c42b7be67",
       "max": 8,
       "min": 3,
       "style": "IPY_MODEL_d479de9dc5594bf08479ecf128789ca9",
       "value": 4
      }
     },
     "2fa981fb5b234474855b58b20da80f14": {
      "model_module": "@jupyter-widgets/controls",
      "model_module_version": "1.5.0",
      "model_name": "SliderStyleModel",
      "state": {
       "description_width": ""
      }
     },
     "2fadde9ba60644f3af242d9ec7082388": {
      "model_module": "@jupyter-widgets/base",
      "model_module_version": "1.2.0",
      "model_name": "LayoutModel",
      "state": {}
     },
     "331f05a184b8433db201fb54f3848aec": {
      "model_module": "@jupyter-widgets/controls",
      "model_module_version": "1.5.0",
      "model_name": "FloatSliderModel",
      "state": {
       "description": "fig_aspect",
       "layout": "IPY_MODEL_2819efd1eab34efa98487f4e16cf7c56",
       "max": 1.5,
       "min": -0.5,
       "step": 0.1,
       "style": "IPY_MODEL_2fa981fb5b234474855b58b20da80f14",
       "value": 0.5
      }
     },
     "351cd00c2a894409afa12f6a2e7d4aa9": {
      "model_module": "@jupyter-widgets/base",
      "model_module_version": "1.2.0",
      "model_name": "LayoutModel",
      "state": {}
     },
     "363adfae360f4352842269ad6c6df083": {
      "model_module": "@jupyter-widgets/controls",
      "model_module_version": "1.5.0",
      "model_name": "SliderStyleModel",
      "state": {
       "description_width": ""
      }
     },
     "37fe31d9e4ab412ca1a5627f1ab71284": {
      "model_module": "@jupyter-widgets/controls",
      "model_module_version": "1.5.0",
      "model_name": "SliderStyleModel",
      "state": {
       "description_width": ""
      }
     },
     "3bbd13f343644a14b10049db1a399379": {
      "model_module": "@jupyter-widgets/base",
      "model_module_version": "1.2.0",
      "model_name": "LayoutModel",
      "state": {
       "flex_flow": "row wrap"
      }
     },
     "401e967286c545fe87c6b243ab4e81aa": {
      "model_module": "@jupyter-widgets/controls",
      "model_module_version": "1.5.0",
      "model_name": "DescriptionStyleModel",
      "state": {
       "description_width": ""
      }
     },
     "4089183b4f2a434d979925293b0f04c9": {
      "model_module": "@jupyter-widgets/base",
      "model_module_version": "1.2.0",
      "model_name": "LayoutModel",
      "state": {}
     },
     "410ff03725a34ac3b3df686c42b7be67": {
      "model_module": "@jupyter-widgets/base",
      "model_module_version": "1.2.0",
      "model_name": "LayoutModel",
      "state": {}
     },
     "427ac4a1d58b42cf8ef3f56967f684fb": {
      "model_module": "@jupyter-widgets/base",
      "model_module_version": "1.2.0",
      "model_name": "LayoutModel",
      "state": {}
     },
     "42fb211f071a4aef887325ede8a3d129": {
      "model_module": "@jupyter-widgets/controls",
      "model_module_version": "1.5.0",
      "model_name": "SliderStyleModel",
      "state": {
       "description_width": ""
      }
     },
     "430b7a8446f94738a7f0f4cd0e7a2ba6": {
      "model_module": "@jupyter-widgets/controls",
      "model_module_version": "1.5.0",
      "model_name": "IntSliderModel",
      "state": {
       "description": "number of node in-between",
       "layout": "IPY_MODEL_1e1fb9cc1dff4c7bba15001919ec9765",
       "max": 5,
       "min": -1,
       "style": "IPY_MODEL_83b4164e71094522aa317f9e20f3bb07"
      }
     },
     "4549736d5eb547a8872f98bfdc0f1689": {
      "model_module": "@jupyter-widgets/controls",
      "model_module_version": "1.5.0",
      "model_name": "SliderStyleModel",
      "state": {
       "description_width": ""
      }
     },
     "45e6760c24244d6eaa2bbbfd19a417c3": {
      "model_module": "@jupyter-widgets/controls",
      "model_module_version": "1.5.0",
      "model_name": "SliderStyleModel",
      "state": {
       "description_width": ""
      }
     },
     "462f5df0c54c4615a66992c3d2464bd0": {
      "model_module": "@jupyter-widgets/base",
      "model_module_version": "1.2.0",
      "model_name": "LayoutModel",
      "state": {}
     },
     "46bc87887f224159bb73ccdea845898c": {
      "model_module": "@jupyter-widgets/base",
      "model_module_version": "1.2.0",
      "model_name": "LayoutModel",
      "state": {}
     },
     "4a892128be4a44b6aee6dc9e1c8e1f8c": {
      "model_module": "@jupyter-widgets/base",
      "model_module_version": "1.2.0",
      "model_name": "LayoutModel",
      "state": {}
     },
     "4b2f832be0b1473ba5340c8ac043c669": {
      "model_module": "@jupyter-widgets/controls",
      "model_module_version": "1.5.0",
      "model_name": "VBoxModel",
      "state": {
       "_dom_classes": [
        "widget-interact"
       ],
       "children": [
        "IPY_MODEL_ec4fd33098254b068ade4a81ea924872",
        "IPY_MODEL_430b7a8446f94738a7f0f4cd0e7a2ba6",
        "IPY_MODEL_baf6b90a775a47d2a6bdb36d6b827f58",
        "IPY_MODEL_69c5033c4d09432fa6e08e802655c8d4"
       ],
       "layout": "IPY_MODEL_462f5df0c54c4615a66992c3d2464bd0"
      }
     },
     "4d167e1df4ec40178021fe0c69730f6e": {
      "model_module": "@jupyter-widgets/controls",
      "model_module_version": "1.5.0",
      "model_name": "IntSliderModel",
      "state": {
       "description": "Node in-between",
       "layout": "IPY_MODEL_2fadde9ba60644f3af242d9ec7082388",
       "max": 6,
       "min": -1,
       "style": "IPY_MODEL_afdcb0b0f892411d89f4f96dcb1dc8e6",
       "value": -1
      }
     },
     "50c44ce8224e4646b9bd4f0237a41100": {
      "model_module": "@jupyter-widgets/controls",
      "model_module_version": "1.5.0",
      "model_name": "HBoxModel",
      "state": {
       "children": [
        "IPY_MODEL_dcec335679ac4982aada790eb40f1572",
        "IPY_MODEL_ac37761b67d34d339178637a1037e45b",
        "IPY_MODEL_641dc62461064733902422729d2e5c91",
        "IPY_MODEL_73e5f9b7a169454badd20a28230a84c9",
        "IPY_MODEL_ade99b4567b84c9faeb823c8e337147c",
        "IPY_MODEL_331f05a184b8433db201fb54f3848aec",
        "IPY_MODEL_b78bbd4df4af4a878429eafe9bf468e3",
        "IPY_MODEL_7a909bb3a3ee408c9b21d3f1ceefd76a",
        "IPY_MODEL_2c261fb6f1394e709975a71ba16e29ea",
        "IPY_MODEL_f76f1c97f3de4406bc8b150a7ca9973a"
       ],
       "layout": "IPY_MODEL_3bbd13f343644a14b10049db1a399379"
      }
     },
     "53161c90028042e28a170cb610063c2a": {
      "model_module": "@jupyter-widgets/controls",
      "model_module_version": "1.5.0",
      "model_name": "DropdownModel",
      "state": {
       "_options_labels": [
        "normal",
        "biased",
        "broken"
       ],
       "description": "dumbell type",
       "index": 0,
       "layout": "IPY_MODEL_b97caa174ba14fcc9bbdd2b18c3c4df2",
       "style": "IPY_MODEL_536f27328a764bcb90731fd8fe2a12ea"
      }
     },
     "536f27328a764bcb90731fd8fe2a12ea": {
      "model_module": "@jupyter-widgets/controls",
      "model_module_version": "1.5.0",
      "model_name": "DescriptionStyleModel",
      "state": {
       "description_width": ""
      }
     },
     "55d58cbddc404b5ca3462c61ce6c8465": {
      "model_module": "@jupyter-widgets/base",
      "model_module_version": "1.2.0",
      "model_name": "LayoutModel",
      "state": {}
     },
     "578c5502383a4d90b11220dd4c76e211": {
      "model_module": "@jupyter-widgets/controls",
      "model_module_version": "1.5.0",
      "model_name": "IntSliderModel",
      "state": {
       "description": "Node in-between",
       "layout": "IPY_MODEL_9070f253462f460dbeeed51d843948b2",
       "max": 6,
       "min": -1,
       "style": "IPY_MODEL_37fe31d9e4ab412ca1a5627f1ab71284"
      }
     },
     "599e0bae86d64eaa9f0d572477567120": {
      "model_module": "@jupyter-widgets/controls",
      "model_module_version": "1.5.0",
      "model_name": "HBoxModel",
      "state": {
       "children": [
        "IPY_MODEL_5e602582e13b498ea402b6d29532c1a4",
        "IPY_MODEL_4d167e1df4ec40178021fe0c69730f6e",
        "IPY_MODEL_b60d201b896744c7ac8fbae3823909f5",
        "IPY_MODEL_26bc207b31044bf98d741106e970fb21",
        "IPY_MODEL_88d2801cba4044939637d5c293b04451",
        "IPY_MODEL_dbe43717621140ed86012f84406543d2",
        "IPY_MODEL_5ac6786be4ff42e19dbd3628f3f8a24f",
        "IPY_MODEL_b7adf0355dc344e89abfbaa34aed13c8",
        "IPY_MODEL_a17fbc1052e8405fa3c81aa61c77a0f6",
        "IPY_MODEL_081f41eb4eb140ed8bed6cf8de44afc1",
        "IPY_MODEL_b7bdc9ddfd624d0f812c443a3f1b96b7",
        "IPY_MODEL_e3c2db8ba67e4c6fa5ac982ab2d7dfce",
        "IPY_MODEL_ff8a05293303435ca3a2bd59ebf54248",
        "IPY_MODEL_d6621df621b344a9b90483ddbeafe1fd"
       ],
       "layout": "IPY_MODEL_1d590287d362481cb9d881e12d8ecfce"
      }
     },
     "5aac2c8d13fd4699b1eaa0d76679838d": {
      "model_module": "@jupyter-widgets/controls",
      "model_module_version": "1.5.0",
      "model_name": "IntSliderModel",
      "state": {
       "description": "font_size",
       "layout": "IPY_MODEL_dd8c9046da4a449684dab8d204ea2f67",
       "max": 36,
       "min": -12,
       "style": "IPY_MODEL_a71d0948c2ab4de2bf847a0771686197",
       "value": 12
      }
     },
     "5ac6786be4ff42e19dbd3628f3f8a24f": {
      "model_module": "@jupyter-widgets/controls",
      "model_module_version": "1.5.0",
      "model_name": "IntSliderModel",
      "state": {
       "description": "figsize_x",
       "layout": "IPY_MODEL_6da2815a2a8c4902a8513c51667de9bb",
       "max": 48,
       "min": -16,
       "style": "IPY_MODEL_14c530943d634565afa700e064a18353",
       "value": 16
      }
     },
     "5b6486594dad46cd8896f3058aa18ff6": {
      "model_module": "@jupyter-widgets/output",
      "model_module_version": "1.0.0",
      "model_name": "OutputModel",
      "state": {
       "layout": "IPY_MODEL_351cd00c2a894409afa12f6a2e7d4aa9",
       "outputs": [
        {
         "name": "stdout",
         "output_type": "stream",
         "text": "If there are multiple solutions, a random solution is indicated on the right hand side.\n"
        },
        {
         "data": {
          "image/png": "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\n",
          "text/plain": "<Figure size 1152x864 with 2 Axes>"
         },
         "metadata": {
          "needs_background": "light"
         },
         "output_type": "display_data"
        }
       ]
      }
     },
     "5e602582e13b498ea402b6d29532c1a4": {
      "model_module": "@jupyter-widgets/controls",
      "model_module_version": "1.5.0",
      "model_name": "IntSliderModel",
      "state": {
       "description": "b",
       "layout": "IPY_MODEL_218c4c9c38c04b8e86b987b87f4d815d",
       "max": 8,
       "min": 3,
       "style": "IPY_MODEL_c1975b092e394ffe8b8a47c347a05a4a",
       "value": 4
      }
     },
     "605542a049e64c9691bb8bdc36f087bc": {
      "model_module": "@jupyter-widgets/base",
      "model_module_version": "1.2.0",
      "model_name": "LayoutModel",
      "state": {}
     },
     "60940e21ae904636a4a62600cb30a860": {
      "model_module": "@jupyter-widgets/controls",
      "model_module_version": "1.5.0",
      "model_name": "SliderStyleModel",
      "state": {
       "description_width": ""
      }
     },
     "641dc62461064733902422729d2e5c91": {
      "model_module": "@jupyter-widgets/controls",
      "model_module_version": "1.5.0",
      "model_name": "IntSliderModel",
      "state": {
       "description": "figsize_x",
       "layout": "IPY_MODEL_4a892128be4a44b6aee6dc9e1c8e1f8c",
       "max": 48,
       "min": -16,
       "style": "IPY_MODEL_76b4035d896b4f2bb5072579dcb2bdab",
       "value": 16
      }
     },
     "69c5033c4d09432fa6e08e802655c8d4": {
      "model_module": "@jupyter-widgets/output",
      "model_module_version": "1.0.0",
      "model_name": "OutputModel",
      "state": {
       "layout": "IPY_MODEL_605542a049e64c9691bb8bdc36f087bc"
      }
     },
     "6a5e0a130ea846a7b5f91f416fcb5216": {
      "model_module": "@jupyter-widgets/base",
      "model_module_version": "1.2.0",
      "model_name": "LayoutModel",
      "state": {}
     },
     "6da2815a2a8c4902a8513c51667de9bb": {
      "model_module": "@jupyter-widgets/base",
      "model_module_version": "1.2.0",
      "model_name": "LayoutModel",
      "state": {}
     },
     "6f4c5c8ba46d4612ad3c0ac91c63ad3e": {
      "model_module": "@jupyter-widgets/base",
      "model_module_version": "1.2.0",
      "model_name": "LayoutModel",
      "state": {}
     },
     "70bb92c07afe4f909d7796a1e8e97211": {
      "model_module": "@jupyter-widgets/base",
      "model_module_version": "1.2.0",
      "model_name": "LayoutModel",
      "state": {}
     },
     "71bdc1dee60842a2a9357b18ec744c8a": {
      "model_module": "@jupyter-widgets/base",
      "model_module_version": "1.2.0",
      "model_name": "LayoutModel",
      "state": {}
     },
     "723b1f0a9082438988f93da01d0ed2e2": {
      "model_module": "@jupyter-widgets/controls",
      "model_module_version": "1.5.0",
      "model_name": "IntSliderModel",
      "state": {
       "description": "figsize_x",
       "layout": "IPY_MODEL_71bdc1dee60842a2a9357b18ec744c8a",
       "max": 48,
       "min": -16,
       "style": "IPY_MODEL_42fb211f071a4aef887325ede8a3d129",
       "value": 16
      }
     },
     "73e5f9b7a169454badd20a28230a84c9": {
      "model_module": "@jupyter-widgets/controls",
      "model_module_version": "1.5.0",
      "model_name": "IntSliderModel",
      "state": {
       "description": "figsize_y",
       "layout": "IPY_MODEL_75cbc6c642de4f7d9dacda6e22fb22af",
       "max": 36,
       "min": -12,
       "style": "IPY_MODEL_0f78e12c7c064b6286dfa41f0328bd04",
       "value": 12
      }
     },
     "75cbc6c642de4f7d9dacda6e22fb22af": {
      "model_module": "@jupyter-widgets/base",
      "model_module_version": "1.2.0",
      "model_name": "LayoutModel",
      "state": {}
     },
     "76b4035d896b4f2bb5072579dcb2bdab": {
      "model_module": "@jupyter-widgets/controls",
      "model_module_version": "1.5.0",
      "model_name": "SliderStyleModel",
      "state": {
       "description_width": ""
      }
     },
     "783a66a6768d4adcb14284648e945375": {
      "model_module": "@jupyter-widgets/controls",
      "model_module_version": "1.5.0",
      "model_name": "SliderStyleModel",
      "state": {
       "description_width": ""
      }
     },
     "7a909bb3a3ee408c9b21d3f1ceefd76a": {
      "model_module": "@jupyter-widgets/controls",
      "model_module_version": "1.5.0",
      "model_name": "IntSliderModel",
      "state": {
       "description": "fig_ylim_bottom",
       "layout": "IPY_MODEL_27e2811c95ce4603a3b501df36b98c4a",
       "max": 18,
       "min": -54,
       "style": "IPY_MODEL_d8080a72da32426397b4f12d1467a752",
       "value": -18
      }
     },
     "7d835077fda347b6abcd268e8b8f46c1": {
      "model_module": "@jupyter-widgets/controls",
      "model_module_version": "1.5.0",
      "model_name": "VBoxModel",
      "state": {
       "_dom_classes": [
        "widget-interact"
       ],
       "children": [
        "IPY_MODEL_dcec335679ac4982aada790eb40f1572",
        "IPY_MODEL_ac37761b67d34d339178637a1037e45b",
        "IPY_MODEL_641dc62461064733902422729d2e5c91",
        "IPY_MODEL_73e5f9b7a169454badd20a28230a84c9",
        "IPY_MODEL_ade99b4567b84c9faeb823c8e337147c",
        "IPY_MODEL_331f05a184b8433db201fb54f3848aec",
        "IPY_MODEL_b78bbd4df4af4a878429eafe9bf468e3",
        "IPY_MODEL_7a909bb3a3ee408c9b21d3f1ceefd76a",
        "IPY_MODEL_2c261fb6f1394e709975a71ba16e29ea",
        "IPY_MODEL_f76f1c97f3de4406bc8b150a7ca9973a",
        "IPY_MODEL_1e3fd7404d98457f87f648d47320ce0f"
       ],
       "layout": "IPY_MODEL_0a952ea694b14eeca50a57a945e7d42d"
      }
     },
     "83b4164e71094522aa317f9e20f3bb07": {
      "model_module": "@jupyter-widgets/controls",
      "model_module_version": "1.5.0",
      "model_name": "SliderStyleModel",
      "state": {
       "description_width": ""
      }
     },
     "86d97e85e8b440cf832622ff7f272b8c": {
      "model_module": "@jupyter-widgets/controls",
      "model_module_version": "1.5.0",
      "model_name": "SliderStyleModel",
      "state": {
       "description_width": ""
      }
     },
     "88d2801cba4044939637d5c293b04451": {
      "model_module": "@jupyter-widgets/controls",
      "model_module_version": "1.5.0",
      "model_name": "IntSliderModel",
      "state": {
       "description": "steps",
       "layout": "IPY_MODEL_e985cc85a0ad4012bda023a54fc3da35",
       "max": 20,
       "style": "IPY_MODEL_783a66a6768d4adcb14284648e945375",
       "value": 20
      }
     },
     "89560a7ea8354cfd9ed53824d765af3e": {
      "model_module": "@jupyter-widgets/base",
      "model_module_version": "1.2.0",
      "model_name": "LayoutModel",
      "state": {}
     },
     "8bfa324e93ba493d8d76a0a3284cd14e": {
      "model_module": "@jupyter-widgets/controls",
      "model_module_version": "1.5.0",
      "model_name": "IntSliderModel",
      "state": {
       "description": "fig_ylim_top",
       "layout": "IPY_MODEL_0fc5a98e952643df9f90a409bab9958c",
       "max": 39,
       "min": -13,
       "style": "IPY_MODEL_915d61b64350412294dccd147f27bc22",
       "value": 13
      }
     },
     "9070f253462f460dbeeed51d843948b2": {
      "model_module": "@jupyter-widgets/base",
      "model_module_version": "1.2.0",
      "model_name": "LayoutModel",
      "state": {}
     },
     "915d61b64350412294dccd147f27bc22": {
      "model_module": "@jupyter-widgets/controls",
      "model_module_version": "1.5.0",
      "model_name": "SliderStyleModel",
      "state": {
       "description_width": ""
      }
     },
     "97ebfc145ac54469925689d0802b70d9": {
      "model_module": "@jupyter-widgets/controls",
      "model_module_version": "1.5.0",
      "model_name": "SliderStyleModel",
      "state": {
       "description_width": ""
      }
     },
     "99c5d53df26d4e7aa0a2219bf94d163d": {
      "model_module": "@jupyter-widgets/controls",
      "model_module_version": "1.5.0",
      "model_name": "SliderStyleModel",
      "state": {
       "description_width": ""
      }
     },
     "9a0c025de1af42e397a2bf8682d2bcca": {
      "model_module": "@jupyter-widgets/base",
      "model_module_version": "1.2.0",
      "model_name": "LayoutModel",
      "state": {}
     },
     "9a66be5348b14fd2ae4f2341356ac9e4": {
      "model_module": "@jupyter-widgets/controls",
      "model_module_version": "1.5.0",
      "model_name": "SliderStyleModel",
      "state": {
       "description_width": ""
      }
     },
     "9c75d50aaf2945fd982119b6dec604bf": {
      "model_module": "@jupyter-widgets/base",
      "model_module_version": "1.2.0",
      "model_name": "LayoutModel",
      "state": {}
     },
     "9ff39547c5604b0b8f5e6efd4e1a3f66": {
      "model_module": "@jupyter-widgets/controls",
      "model_module_version": "1.5.0",
      "model_name": "VBoxModel",
      "state": {
       "children": [
        "IPY_MODEL_599e0bae86d64eaa9f0d572477567120",
        "IPY_MODEL_5b6486594dad46cd8896f3058aa18ff6"
       ],
       "layout": "IPY_MODEL_1774c2e7e97f425cadd0c17fef9ae366"
      }
     },
     "a1410ac1ba1b4079b51a1801b0b76105": {
      "model_module": "@jupyter-widgets/controls",
      "model_module_version": "1.5.0",
      "model_name": "SliderStyleModel",
      "state": {
       "description_width": ""
      }
     },
     "a17fbc1052e8405fa3c81aa61c77a0f6": {
      "model_module": "@jupyter-widgets/controls",
      "model_module_version": "1.5.0",
      "model_name": "IntSliderModel",
      "state": {
       "description": "font_size",
       "layout": "IPY_MODEL_55d58cbddc404b5ca3462c61ce6c8465",
       "max": 36,
       "min": -12,
       "style": "IPY_MODEL_60940e21ae904636a4a62600cb30a860",
       "value": 12
      }
     },
     "a2095740b0b34c9188288639c91e3bb3": {
      "model_module": "@jupyter-widgets/base",
      "model_module_version": "1.2.0",
      "model_name": "LayoutModel",
      "state": {}
     },
     "a43ffa2d74614bc2b16fcabf296e9b3c": {
      "model_module": "@jupyter-widgets/base",
      "model_module_version": "1.2.0",
      "model_name": "LayoutModel",
      "state": {}
     },
     "a50595c2bf5c4d3c935e57925f88140f": {
      "model_module": "@jupyter-widgets/base",
      "model_module_version": "1.2.0",
      "model_name": "LayoutModel",
      "state": {}
     },
     "a71d0948c2ab4de2bf847a0771686197": {
      "model_module": "@jupyter-widgets/controls",
      "model_module_version": "1.5.0",
      "model_name": "SliderStyleModel",
      "state": {
       "description_width": ""
      }
     },
     "ac37761b67d34d339178637a1037e45b": {
      "model_module": "@jupyter-widgets/controls",
      "model_module_version": "1.5.0",
      "model_name": "FloatSliderModel",
      "state": {
       "description": "text_x_pos",
       "layout": "IPY_MODEL_043de09392f54e6f98618ac6ed21a4aa",
       "max": 10.5,
       "min": -3.5,
       "step": 0.1,
       "style": "IPY_MODEL_d8851c595bbc4f138a11cd103a0d3fa6",
       "value": 3.5
      }
     },
     "ade99b4567b84c9faeb823c8e337147c": {
      "model_module": "@jupyter-widgets/controls",
      "model_module_version": "1.5.0",
      "model_name": "IntSliderModel",
      "state": {
       "description": "font_size",
       "layout": "IPY_MODEL_46bc87887f224159bb73ccdea845898c",
       "max": 36,
       "min": -12,
       "style": "IPY_MODEL_fd9e3d6c2a3f4bcaa77f164b3bf292d9",
       "value": 12
      }
     },
     "af3a14b73fc9439abbb24bf792c813e1": {
      "model_module": "@jupyter-widgets/controls",
      "model_module_version": "1.5.0",
      "model_name": "SliderStyleModel",
      "state": {
       "description_width": ""
      }
     },
     "afdcb0b0f892411d89f4f96dcb1dc8e6": {
      "model_module": "@jupyter-widgets/controls",
      "model_module_version": "1.5.0",
      "model_name": "SliderStyleModel",
      "state": {
       "description_width": ""
      }
     },
     "b27e3914883f4a09ae3f98a88517a098": {
      "model_module": "@jupyter-widgets/base",
      "model_module_version": "1.2.0",
      "model_name": "LayoutModel",
      "state": {}
     },
     "b2edb255421d4b20bbbe4b6f09462233": {
      "model_module": "@jupyter-widgets/controls",
      "model_module_version": "1.5.0",
      "model_name": "FloatSliderModel",
      "state": {
       "description": "text_x_pos",
       "layout": "IPY_MODEL_e171a31b127043b2a55eec3670fd626d",
       "max": 10.5,
       "min": -3.5,
       "step": 0.1,
       "style": "IPY_MODEL_fda6291305ae42c7864e4214d150b8f9",
       "value": 3.5
      }
     },
     "b327c07f05264012b0cb8f1adea8b3bf": {
      "model_module": "@jupyter-widgets/base",
      "model_module_version": "1.2.0",
      "model_name": "LayoutModel",
      "state": {
       "flex_flow": "row wrap"
      }
     },
     "b3452a4ac5134d6a8fda3f3beedb9e95": {
      "model_module": "@jupyter-widgets/controls",
      "model_module_version": "1.5.0",
      "model_name": "IntSliderModel",
      "state": {
       "description": "fig_xlim_right",
       "layout": "IPY_MODEL_cb7590fb847e4be1bcb042f9fbb1a9a3",
       "max": 24,
       "min": -8,
       "style": "IPY_MODEL_4549736d5eb547a8872f98bfdc0f1689",
       "value": 8
      }
     },
     "b60d201b896744c7ac8fbae3823909f5": {
      "model_module": "@jupyter-widgets/controls",
      "model_module_version": "1.5.0",
      "model_name": "DropdownModel",
      "state": {
       "_options_labels": [
        "normal",
        "biased",
        "broken"
       ],
       "description": "dumbell type",
       "index": 1,
       "layout": "IPY_MODEL_1e2d429631a34c27adf9fea2fcf8bec9",
       "style": "IPY_MODEL_401e967286c545fe87c6b243ab4e81aa"
      }
     },
     "b67d052aee924eb7a964e8958b7983fe": {
      "model_module": "@jupyter-widgets/controls",
      "model_module_version": "1.5.0",
      "model_name": "IntSliderModel",
      "state": {
       "description": "fig_ylim_bottom",
       "layout": "IPY_MODEL_bc2cf8e71d0a4969b61bb33227acdf51",
       "max": 18,
       "min": -54,
       "style": "IPY_MODEL_e1946c8eaac74ea69e671bd7328824bd",
       "value": -18
      }
     },
     "b78bbd4df4af4a878429eafe9bf468e3": {
      "model_module": "@jupyter-widgets/controls",
      "model_module_version": "1.5.0",
      "model_name": "IntSliderModel",
      "state": {
       "description": "fig_xlim_right",
       "layout": "IPY_MODEL_427ac4a1d58b42cf8ef3f56967f684fb",
       "max": 24,
       "min": -8,
       "style": "IPY_MODEL_2b60d4d183414135927b5551a2dc5a8d",
       "value": 8
      }
     },
     "b7adf0355dc344e89abfbaa34aed13c8": {
      "model_module": "@jupyter-widgets/controls",
      "model_module_version": "1.5.0",
      "model_name": "IntSliderModel",
      "state": {
       "description": "figsize_y",
       "layout": "IPY_MODEL_2d382c3a34424f3aa7980ffd31941d3f",
       "max": 36,
       "min": -12,
       "style": "IPY_MODEL_45e6760c24244d6eaa2bbbfd19a417c3",
       "value": 12
      }
     },
     "b7bdc9ddfd624d0f812c443a3f1b96b7": {
      "model_module": "@jupyter-widgets/controls",
      "model_module_version": "1.5.0",
      "model_name": "IntSliderModel",
      "state": {
       "description": "fig_xlim_right",
       "layout": "IPY_MODEL_6a5e0a130ea846a7b5f91f416fcb5216",
       "max": 24,
       "min": -8,
       "style": "IPY_MODEL_db90f8ef8da54a0699489427d50ad102",
       "value": 8
      }
     },
     "b89c714526fa41b7bcb3689052f5e01d": {
      "model_module": "@jupyter-widgets/controls",
      "model_module_version": "1.5.0",
      "model_name": "IntSliderModel",
      "state": {
       "description": "xx_right",
       "layout": "IPY_MODEL_6f4c5c8ba46d4612ad3c0ac91c63ad3e",
       "max": 24,
       "min": -8,
       "style": "IPY_MODEL_fcebd2de7ada45dba7c00148e30dbe70",
       "value": 8
      }
     },
     "b97caa174ba14fcc9bbdd2b18c3c4df2": {
      "model_module": "@jupyter-widgets/base",
      "model_module_version": "1.2.0",
      "model_name": "LayoutModel",
      "state": {}
     },
     "baf6b90a775a47d2a6bdb36d6b827f58": {
      "model_module": "@jupyter-widgets/controls",
      "model_module_version": "1.5.0",
      "model_name": "DropdownModel",
      "state": {
       "_options_labels": [
        "normal",
        "biased",
        "broken"
       ],
       "description": "dumbell type",
       "index": 0,
       "layout": "IPY_MODEL_4089183b4f2a434d979925293b0f04c9",
       "style": "IPY_MODEL_1a942971938546bbb9acb8241c15a3a4"
      }
     },
     "bc2cf8e71d0a4969b61bb33227acdf51": {
      "model_module": "@jupyter-widgets/base",
      "model_module_version": "1.2.0",
      "model_name": "LayoutModel",
      "state": {}
     },
     "bda51bc609c14bc8b3f7ecbfcb9de5ea": {
      "model_module": "@jupyter-widgets/controls",
      "model_module_version": "1.5.0",
      "model_name": "SliderStyleModel",
      "state": {
       "description_width": ""
      }
     },
     "be336cf251384723ac0e5b6d8d90bc20": {
      "model_module": "@jupyter-widgets/controls",
      "model_module_version": "1.5.0",
      "model_name": "SliderStyleModel",
      "state": {
       "description_width": ""
      }
     },
     "c06505f382194e4a8aface5aeeb55ae9": {
      "model_module": "@jupyter-widgets/base",
      "model_module_version": "1.2.0",
      "model_name": "LayoutModel",
      "state": {}
     },
     "c1975b092e394ffe8b8a47c347a05a4a": {
      "model_module": "@jupyter-widgets/controls",
      "model_module_version": "1.5.0",
      "model_name": "SliderStyleModel",
      "state": {
       "description_width": ""
      }
     },
     "c2963d5cc24e4b76bccf23d44429dfd9": {
      "model_module": "@jupyter-widgets/base",
      "model_module_version": "1.2.0",
      "model_name": "LayoutModel",
      "state": {}
     },
     "c48eaf4457f144f7af7c9cd3bcaf1ae5": {
      "model_module": "@jupyter-widgets/controls",
      "model_module_version": "1.5.0",
      "model_name": "SliderStyleModel",
      "state": {
       "description_width": ""
      }
     },
     "cb28f604a76445ab824f23b9a88ef0d1": {
      "model_module": "@jupyter-widgets/output",
      "model_module_version": "1.0.0",
      "model_name": "OutputModel",
      "state": {
       "layout": "IPY_MODEL_195b54109c2546dd88f27798fff93d7b"
      }
     },
     "cb6d012afdcf492bbc8f1d3baead4374": {
      "model_module": "@jupyter-widgets/base",
      "model_module_version": "1.2.0",
      "model_name": "LayoutModel",
      "state": {}
     },
     "cb7590fb847e4be1bcb042f9fbb1a9a3": {
      "model_module": "@jupyter-widgets/base",
      "model_module_version": "1.2.0",
      "model_name": "LayoutModel",
      "state": {}
     },
     "d479de9dc5594bf08479ecf128789ca9": {
      "model_module": "@jupyter-widgets/controls",
      "model_module_version": "1.5.0",
      "model_name": "SliderStyleModel",
      "state": {
       "description_width": ""
      }
     },
     "d6621df621b344a9b90483ddbeafe1fd": {
      "model_module": "@jupyter-widgets/controls",
      "model_module_version": "1.5.0",
      "model_name": "IntSliderModel",
      "state": {
       "description": "xx_right",
       "layout": "IPY_MODEL_06bb201aed6442018919f15c32d5d608",
       "max": 24,
       "min": -8,
       "style": "IPY_MODEL_fc085716293b477c9b69323d5ee379a7",
       "value": 8
      }
     },
     "d8080a72da32426397b4f12d1467a752": {
      "model_module": "@jupyter-widgets/controls",
      "model_module_version": "1.5.0",
      "model_name": "SliderStyleModel",
      "state": {
       "description_width": ""
      }
     },
     "d8851c595bbc4f138a11cd103a0d3fa6": {
      "model_module": "@jupyter-widgets/controls",
      "model_module_version": "1.5.0",
      "model_name": "SliderStyleModel",
      "state": {
       "description_width": ""
      }
     },
     "db43ce009ef74ac5ba1ca88b17294b3e": {
      "model_module": "@jupyter-widgets/controls",
      "model_module_version": "1.5.0",
      "model_name": "FloatSliderModel",
      "state": {
       "description": "fig_aspect",
       "layout": "IPY_MODEL_dd671f9c9d2c4881970e759ba63c4db6",
       "max": 1.5,
       "min": -0.5,
       "step": 0.1,
       "style": "IPY_MODEL_af3a14b73fc9439abbb24bf792c813e1",
       "value": 0.5
      }
     },
     "db90f8ef8da54a0699489427d50ad102": {
      "model_module": "@jupyter-widgets/controls",
      "model_module_version": "1.5.0",
      "model_name": "SliderStyleModel",
      "state": {
       "description_width": ""
      }
     },
     "dbe43717621140ed86012f84406543d2": {
      "model_module": "@jupyter-widgets/controls",
      "model_module_version": "1.5.0",
      "model_name": "FloatSliderModel",
      "state": {
       "description": "text_x_pos",
       "layout": "IPY_MODEL_70bb92c07afe4f909d7796a1e8e97211",
       "max": 10.5,
       "min": -3.5,
       "step": 0.1,
       "style": "IPY_MODEL_bda51bc609c14bc8b3f7ecbfcb9de5ea",
       "value": 3.5
      }
     },
     "dce0e788ad79453e87ec82e999d102cb": {
      "model_module": "@jupyter-widgets/base",
      "model_module_version": "1.2.0",
      "model_name": "LayoutModel",
      "state": {}
     },
     "dcec335679ac4982aada790eb40f1572": {
      "model_module": "@jupyter-widgets/controls",
      "model_module_version": "1.5.0",
      "model_name": "IntSliderModel",
      "state": {
       "description": "Calculation steps",
       "layout": "IPY_MODEL_9c75d50aaf2945fd982119b6dec604bf",
       "max": 12,
       "style": "IPY_MODEL_99c5d53df26d4e7aa0a2219bf94d163d",
       "value": 3
      }
     },
     "dd671f9c9d2c4881970e759ba63c4db6": {
      "model_module": "@jupyter-widgets/base",
      "model_module_version": "1.2.0",
      "model_name": "LayoutModel",
      "state": {}
     },
     "dd8c9046da4a449684dab8d204ea2f67": {
      "model_module": "@jupyter-widgets/base",
      "model_module_version": "1.2.0",
      "model_name": "LayoutModel",
      "state": {}
     },
     "e171a31b127043b2a55eec3670fd626d": {
      "model_module": "@jupyter-widgets/base",
      "model_module_version": "1.2.0",
      "model_name": "LayoutModel",
      "state": {}
     },
     "e1946c8eaac74ea69e671bd7328824bd": {
      "model_module": "@jupyter-widgets/controls",
      "model_module_version": "1.5.0",
      "model_name": "SliderStyleModel",
      "state": {
       "description_width": ""
      }
     },
     "e342b92578874a33ab1a9fb3946fded4": {
      "model_module": "@jupyter-widgets/controls",
      "model_module_version": "1.5.0",
      "model_name": "SliderStyleModel",
      "state": {
       "description_width": ""
      }
     },
     "e3c2db8ba67e4c6fa5ac982ab2d7dfce": {
      "model_module": "@jupyter-widgets/controls",
      "model_module_version": "1.5.0",
      "model_name": "IntSliderModel",
      "state": {
       "description": "fig_ylim_bottom",
       "layout": "IPY_MODEL_c2963d5cc24e4b76bccf23d44429dfd9",
       "max": 18,
       "min": -54,
       "style": "IPY_MODEL_a1410ac1ba1b4079b51a1801b0b76105",
       "value": -18
      }
     },
     "e985cc85a0ad4012bda023a54fc3da35": {
      "model_module": "@jupyter-widgets/base",
      "model_module_version": "1.2.0",
      "model_name": "LayoutModel",
      "state": {}
     },
     "eba51ba0b0c048e7aadf340440a58284": {
      "model_module": "@jupyter-widgets/base",
      "model_module_version": "1.2.0",
      "model_name": "LayoutModel",
      "state": {}
     },
     "ec4fd33098254b068ade4a81ea924872": {
      "model_module": "@jupyter-widgets/controls",
      "model_module_version": "1.5.0",
      "model_name": "IntSliderModel",
      "state": {
       "description": "b",
       "layout": "IPY_MODEL_9a0c025de1af42e397a2bf8682d2bcca",
       "max": 15,
       "min": 3,
       "style": "IPY_MODEL_363adfae360f4352842269ad6c6df083",
       "value": 4
      }
     },
     "ed8d9d61650f4ce1b9282e9e26bac226": {
      "model_module": "@jupyter-widgets/controls",
      "model_module_version": "1.5.0",
      "model_name": "SliderStyleModel",
      "state": {
       "description_width": ""
      }
     },
     "ef1a182edd654314bd78ada9c2ede37a": {
      "model_module": "@jupyter-widgets/controls",
      "model_module_version": "1.5.0",
      "model_name": "IntSliderModel",
      "state": {
       "description": "figsize_y",
       "layout": "IPY_MODEL_89560a7ea8354cfd9ed53824d765af3e",
       "max": 36,
       "min": -12,
       "style": "IPY_MODEL_86d97e85e8b440cf832622ff7f272b8c",
       "value": 12
      }
     },
     "f5279c08efd240bab1a21c8a3599cc24": {
      "model_module": "@jupyter-widgets/controls",
      "model_module_version": "1.5.0",
      "model_name": "HBoxModel",
      "state": {
       "children": [
        "IPY_MODEL_2f106a5dcf45451cb03e68308e022c8f",
        "IPY_MODEL_578c5502383a4d90b11220dd4c76e211",
        "IPY_MODEL_53161c90028042e28a170cb610063c2a",
        "IPY_MODEL_fe819bd27a624f0fafed65143a2c8975",
        "IPY_MODEL_0dbe0cb5358c4c7d924f5f42affdbc47",
        "IPY_MODEL_b2edb255421d4b20bbbe4b6f09462233",
        "IPY_MODEL_723b1f0a9082438988f93da01d0ed2e2",
        "IPY_MODEL_ef1a182edd654314bd78ada9c2ede37a",
        "IPY_MODEL_5aac2c8d13fd4699b1eaa0d76679838d",
        "IPY_MODEL_db43ce009ef74ac5ba1ca88b17294b3e",
        "IPY_MODEL_b3452a4ac5134d6a8fda3f3beedb9e95",
        "IPY_MODEL_b67d052aee924eb7a964e8958b7983fe",
        "IPY_MODEL_8bfa324e93ba493d8d76a0a3284cd14e",
        "IPY_MODEL_b89c714526fa41b7bcb3689052f5e01d"
       ],
       "layout": "IPY_MODEL_b327c07f05264012b0cb8f1adea8b3bf"
      }
     },
     "f76f1c97f3de4406bc8b150a7ca9973a": {
      "model_module": "@jupyter-widgets/controls",
      "model_module_version": "1.5.0",
      "model_name": "IntSliderModel",
      "state": {
       "description": "xx_right",
       "layout": "IPY_MODEL_2ed873a78ccf471fb6051b52a8106284",
       "max": 24,
       "min": -8,
       "style": "IPY_MODEL_e342b92578874a33ab1a9fb3946fded4",
       "value": 8
      }
     },
     "fc085716293b477c9b69323d5ee379a7": {
      "model_module": "@jupyter-widgets/controls",
      "model_module_version": "1.5.0",
      "model_name": "SliderStyleModel",
      "state": {
       "description_width": ""
      }
     },
     "fcebd2de7ada45dba7c00148e30dbe70": {
      "model_module": "@jupyter-widgets/controls",
      "model_module_version": "1.5.0",
      "model_name": "SliderStyleModel",
      "state": {
       "description_width": ""
      }
     },
     "fd9e3d6c2a3f4bcaa77f164b3bf292d9": {
      "model_module": "@jupyter-widgets/controls",
      "model_module_version": "1.5.0",
      "model_name": "SliderStyleModel",
      "state": {
       "description_width": ""
      }
     },
     "fda6291305ae42c7864e4214d150b8f9": {
      "model_module": "@jupyter-widgets/controls",
      "model_module_version": "1.5.0",
      "model_name": "SliderStyleModel",
      "state": {
       "description_width": ""
      }
     },
     "fe819bd27a624f0fafed65143a2c8975": {
      "model_module": "@jupyter-widgets/controls",
      "model_module_version": "1.5.0",
      "model_name": "IntSliderModel",
      "state": {
       "description": "k",
       "layout": "IPY_MODEL_eba51ba0b0c048e7aadf340440a58284",
       "max": 5,
       "style": "IPY_MODEL_9a66be5348b14fd2ae4f2341356ac9e4",
       "value": 1
      }
     },
     "ff8a05293303435ca3a2bd59ebf54248": {
      "model_module": "@jupyter-widgets/controls",
      "model_module_version": "1.5.0",
      "model_name": "IntSliderModel",
      "state": {
       "description": "fig_ylim_top",
       "layout": "IPY_MODEL_074ad97377f64e7f9107386d2f72b240",
       "max": 39,
       "min": -13,
       "style": "IPY_MODEL_c48eaf4457f144f7af7c9cd3bcaf1ae5",
       "value": 13
      }
     }
    },
    "version_major": 2,
    "version_minor": 0
   }
  }
 },
 "nbformat": 4,
 "nbformat_minor": 5
}
