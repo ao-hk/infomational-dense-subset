{
 "cells": [
  {
   "cell_type": "markdown",
   "id": "125f50d4-b59c-4a6a-9715-1f6852674c9a",
   "metadata": {},
   "source": [
    "# Density"
   ]
  },
  {
   "cell_type": "markdown",
   "id": "783845fc-fcdb-4764-94e3-68a5b7c0f597",
   "metadata": {},
   "source": [
    "```{important}\n",
    "How to generalize the density formula beyond graphs?\n",
    "```"
   ]
  },
  {
   "cell_type": "markdown",
   "id": "2c8992d0-8bcf-463a-9551-40a814b61d43",
   "metadata": {},
   "source": [
    "Recall that, for a simple graph on $V$ with edge set $\\mc{E}\\subseteq {V\\choose 2}$,\n",
    "the density function is\n",
    "\n",
    "$$\n",
    "\\begin{align}\n",
    "\\rho(B) &= \\frac{\\overbrace{\\abs{{B\\choose 2}\\cap \\mc{E}}}^{\\mu(B)=}}{|B|} && \\text{for }B\\subseteq V:\\abs{B}\\geq 1,\n",
    "\\end{align}\n",
    "$$\n",
    "\n",
    "which is the number of edges internal to $B$ per node in $B$."
   ]
  },
  {
   "cell_type": "markdown",
   "id": "9fdb3c73-8599-4f01-980b-88bd2e65351c",
   "metadata": {},
   "source": [
    "```{important}\n",
    "What about\n",
    "- weighted hypergraphs?\n",
    "- weighted directed hypergraphs?\n",
    "- undirected/directed info-nets?\n",
    "```"
   ]
  },
  {
   "cell_type": "markdown",
   "id": "80e2d765-45e9-4c70-aa60-e34267e4ef7d",
   "metadata": {
    "tags": []
   },
   "source": [
    "## Undirected info-nets"
   ]
  },
  {
   "cell_type": "markdown",
   "id": "013c1122-1e74-4d97-a0b7-9d6ba85ae5e7",
   "metadata": {},
   "source": [
    "Consider the info-net\n",
    "\n",
    "$$\\R{Z}_V:=(\\R{Z}_i|i\\in V) \\sim P_{\\R{Z}_V}\\in \\mc{P}(Z_V),$$ (info-net)\n",
    "\n",
    "where $\\R{Z}_i$ is a discrete random variable representing node $i\\in V$.\n",
    "\n",
    "The density can be\n",
    "\n",
    "$$\n",
    "\\begin{align}\n",
    "\\rho(B) &= \\frac{\\overbrace{H(\\R{Z}_B|\\R{Z}_{V\\setminus B})}^{\\mu(B)=}}{|B|} && \\text{for }B\\subseteq V:\\abs{B}\\geq 1,\n",
    "\\end{align}\n",
    "$$ (rho:source)\n",
    "\n",
    "which measures the amount of information per node internal to $B$ not available from $V\\setminus B$."
   ]
  },
  {
   "cell_type": "markdown",
   "id": "753c20d1-9a3c-45a3-b7eb-82363406f94a",
   "metadata": {},
   "source": [
    "---\n",
    "\n",
    "**Example**  \n",
    ":label: eg:info-net:touching-triangles-C1-C3\n",
    "\n",
    "![info-net with touching triangles](images/info-net-touching-triangles-C1-C3.svg)\n",
    "\n",
    "With $C_1:=\\Set{1,2,3}$ in the info-net defined in {prf:ref}`eg:info-net:touching-triangles`,\n",
    "\n",
    "$$\n",
    "\\begin{alignat}{2}\n",
    "H(\\R{Z}_{C_1}|\\R{Z}_{V\\setminus C_1}) &= H(\\R{X}_{\\text{a}},\\R{X}_{\\text{b}},\\R{X}_{\\text{c}})&&=3~\\text{bits}\\\\\n",
    "\\rho(C_1)\n",
    "&= \\frac{H(\\R{Z}_{C_1}|\\R{Z}_{V\\setminus C_1})}{\\abs{C_1}} &&= 1~\\text{bit per node.}\n",
    "\\end{alignat}\n",
    "$$\n",
    "\n",
    "With $C_3:=\\Set{4,5}$,\n",
    "\n",
    "$$\n",
    "\\begin{alignat}{3}\n",
    "H(\\R{Z}_{C_3}|\\R{Z}_{V\\setminus C_3}) &= H(\\R{X}_{\\text{e}})&&=1~\\text{bit}\\\\\n",
    "\\rho(C_3)\n",
    "&= \\frac{H(\\R{Z}_{C_3}|\\R{Z}_{V\\setminus C_3})}{\\abs{C_1}} &&= \\frac{1}{2}~\\text{bit per node}&&<\\rho(C_1)\n",
    "\\end{alignat}\n",
    "$$\n",
    "\n",
    "---"
   ]
  },
  {
   "cell_type": "markdown",
   "id": "0b32a973-eee5-42c7-bfdc-7139f0abe85d",
   "metadata": {},
   "source": [
    "The density may be normalized to\n",
    "\n",
    "$$\n",
    "\\rho(B) = \\frac{H(\\R{Z}_B|\\R{Z}_{V\\setminus B})}{\\underbrace{H(\\R{Z}_B)}_{\\nu(B)=}},\n",
    "$$ (rho:source:normalized)\n",
    "\n",
    "which measures the amount of information internal to $B$ over the amount of information available from $B$. If the denominator is non-zero, we have $\\rho(B)\\in [0,1]$ and\n",
    "\n",
    "$$\n",
    "1-\\rho(B) = \\frac{\\overbrace{I(\\R{Z}_B\\wedge \\R{Z}_{V\\setminus B})}^{\\delta(B)=}}{H(\\R{Z}_B)},\n",
    "$$\n",
    "\n",
    "where the numerator measures the mutual information available from $B$ and from $V\\setminus B$."
   ]
  },
  {
   "cell_type": "markdown",
   "id": "45ef0517-36d5-42bc-aefc-50ccc544805f",
   "metadata": {},
   "source": [
    "---\n",
    "\n",
    "**Example**\n",
    "\n",
    "With $C_1=\\Set{1,2,3}$ as in {prf:ref}`eg:info-net:touching-triangles-C1-C3`,\n",
    "\n",
    "$$\n",
    "\\begin{alignat}{2}\n",
    "H(\\R{Z}_{C_1}|\\R{Z}_{V\\setminus C_1}) &= H(\\R{X}_{\\text{a}},\\R{X}_{\\text{b}},\\R{X}_{\\text{c}}) && =\\underline{3~\\text{bits}}\\\\\n",
    "H(\\R{Z}_{C_1}) &= H(\\R{X}_{\\text{a}},\\R{X}_{\\text{b}},\\R{X}_{\\text{c}},\\R{X}_{\\text{d}},\\R{X}_{\\text{f}})&&=\\underline{5~\\text{bits}}\\\\\n",
    "I(\\R{Z}_{C_1}\\wedge \\R{Z}_{V\\setminus C_1}) &= H(\\R{X}_{\\text{d}},\\R{X}_{\\text{f}}) && =\\underline{2~\\text{bits}}\\\\\n",
    "\\rho(C_1)\n",
    "&= \\frac{H(\\R{Z}_{C_1}|\\R{Z}_{V\\setminus C_1})}{H(\\R{Z}_{C_1})} &&= \\underline{\\frac{3}{5}}\\\\\n",
    "1-\\rho(C_1) &= \\frac{I(\\R{Z}_{C_1}\\wedge \\R{Z}_{V\\setminus C_1})}{H(\\R{Z}_{C_1})} &&= \\underline{\\frac{2}{5}}.\n",
    "\\end{alignat}\n",
    "$$\n",
    "\n",
    "With $C_3:=\\Set{4,5}$,\n",
    "\n",
    "$$\n",
    "\\begin{alignat}{3}\n",
    "H(\\R{Z}_{C_3}|\\R{Z}_{V\\setminus C_3}) &= H(\\R{X}_{\\text{e}})&&=\\underline{1~\\text{bits}}\\\\\n",
    "H(\\R{Z}_{C_3}) &= H(\\R{X}_{\\text{d}},\\R{X}_{\\text{e}},\\R{X}_{\\text{f}})&&=\\underline{3~\\text{bits}}\\\\\n",
    "I(\\R{Z}_{C_3}\\wedge \\R{Z}_{V\\setminus C_3}) &= H(\\R{X}_{\\text{d}},\\R{X}_{\\text{f}}) && =\\underline{2~\\text{bits}}\\\\\n",
    "\\rho(C_3)\n",
    "&= \\frac{H(\\R{Z}_{C_3}|\\R{Z}_{V\\setminus C_3})}{H(\\R{Z}_{C_3})} &&= \\underline{\\frac{1}{3}}&&< \\rho(C_1)\\\\\n",
    "1-\\rho(C_3) &= \\frac{I(\\R{Z}_{C_3}\\wedge \\R{Z}_{V\\setminus C_3})}{H(\\R{Z}_{C_3})}&&=\\underline{\\frac23}.\n",
    "\\end{alignat}\n",
    "$$\n",
    "\n",
    "---"
   ]
  },
  {
   "cell_type": "markdown",
   "id": "9c06e152-de0c-4af8-9a3a-f82c50c5fdf1",
   "metadata": {},
   "source": [
    "The minimum normalized cut for spectral clustering may be generalized using the normalized density as\n",
    "\n",
    "$$\n",
    "\\begin{align}\n",
    "\\min_{\\substack{B\\subsetneq V:\\\\ \\abs{B}\\geq 1}} \\left[ \\frac{\\delta(B)}{\\nu(B)} + \\frac{\\delta(V\\setminus B)}{\\nu(V\\setminus B)}\\right]\n",
    "&= \\min_{\\substack{B\\subsetneq V:\\\\ \\abs{B}\\geq 1}} \\left[\\frac{I(\\R{Z}_B\\wedge \\R{Z}_{V\\setminus B})}{H(\\R{Z}_B)} + \\frac{I(\\R{Z}_B\\wedge \\R{Z}_{V\\setminus B})}{H(\\R{Z}_{V\\setminus B})}\\right]\\\\\n",
    "&= \\min_{\\substack{B\\subseteq V\\\\ \\abs{B}\\geq 1}} \\left[1 - \\rho(B) + 1- \\rho(V\\setminus B)\\right],\n",
    "\\end{align}\n",
    "$$\n",
    "\n",
    "which is well-defined under the mild condition\n",
    "\n",
    "$$\\underbrace{H(\\R{Z}_i)}_{\\nu(\\Set{i})=}>0\\qquad \\forall i\\in V.$$"
   ]
  },
  {
   "cell_type": "markdown",
   "id": "961b5c9e-b777-4829-8d2e-6dcda0d7abef",
   "metadata": {},
   "source": [
    "```{note}\n",
    "The condition $H(\\R{Z}_i)>0$ for all $i\\in V$ can be enforced simply by removing all trivial nodes $i$ from $V$ with no information, i.e., $H(\\R{Z}_i)=0$.\n",
    "```"
   ]
  },
  {
   "cell_type": "markdown",
   "id": "e9b83e43-8ca2-4237-9a85-d255be438692",
   "metadata": {
    "tags": []
   },
   "source": [
    "### Weighted hypergraphs"
   ]
  },
  {
   "cell_type": "markdown",
   "id": "79554563-5db6-4b9f-b4d4-8ee8f679a569",
   "metadata": {},
   "source": [
    "Consider hypergraphical sources where, for $i \\in V$,\n",
    "\n",
    "$$\\R{Z}_i:=(\\R{X}_e|i\\in \\phi(e))$$ (hypergraphical)\n",
    "\n",
    "where \n",
    "- $\\phi(e)\\subseteq V$ denotes the set of incident nodes for a hyperedge $e\\in E$, and\n",
    "- $(X_e|e\\in E)$ consists of mutually independent edge random variables with $H(X_e)=w_e\\geq 0$, which can be regarded as the weight of the hyperedge $e\\in E$ incident on the nodes in $\\phi(e)\\subseteq V$."
   ]
  },
  {
   "cell_type": "markdown",
   "id": "1d1dfc78-2b78-46eb-b8da-05ea909b946a",
   "metadata": {},
   "source": [
    "The density reduces to\n",
    "\n",
    "$$\n",
    "\\rho(B) = \\frac{\\overbrace{\\sum_{e\\in E: \\phi(e)\\subseteq B} w_e}^{\\mu(B)=}}{|B|},\n",
    "$$ (rho:weighted-hypergraph)\n",
    "\n",
    "where $\\mu(B)$ is the total weight of edges internal to $B$."
   ]
  },
  {
   "cell_type": "markdown",
   "id": "7deb7353-4c15-4344-bec4-9e7ca3f57896",
   "metadata": {},
   "source": [
    "For $B$ with incident edges of non-zero weights, the density may be normalized to\n",
    "\n",
    "$$\n",
    "\\rho(B) = \\frac{\\sum_{e\\in E: \\phi(e)\\subseteq B} w_e}{\\underbrace{\\sum_{e\\in E:\\phi(e)\\cap B\\neq \\emptyset} w_e}_{\\nu(B)=}},\n",
    "$$ (rho:weighted-hypergraph:normalized)\n",
    "\n",
    "where $\\nu(B)$ is the total weight of edges incident on $B$. \n",
    "\n",
    "It follows that $\\rho(B)\\in [0,1]$ and\n",
    "\n",
    "$$\n",
    "1-\\rho(B) = \\frac{\\overbrace{\\sum_{e\\in E: \\phi(e)\\nsubseteq B, B\\nsubseteq \\phi(e)} w_e}^{\\delta(B)=}}{\\sum_{e\\in E:\\phi(e)\\cap B\\neq \\emptyset} w_e}\n",
    "$$\n",
    "\n",
    "where $\\delta(B)$ is the total weight of edges crossing $B$."
   ]
  },
  {
   "cell_type": "markdown",
   "id": "5348494c-be55-45e1-97b3-90a57300f278",
   "metadata": {},
   "source": [
    "---\n",
    "\n",
    "**Example**  \n",
    ":label: eg:weighted-hypergraph\n",
    "\n",
    "![Directed touching triangles](images/touching-triangles-C1-C3.svg)\n",
    "\n",
    "To reduce the info-net in {prf:ref}`eg:info-net:touching-triangles` to a weighted hypergraph, let $E:=\\Set{\\text{a},\\dots,\\text{g}}$ and\n",
    "\n",
    "$$\n",
    "\\begin{align}\n",
    "    w_{\\text{a}} &:=1 & \\phi(\\text{a})&:=\\Set{1,2}\\\\\n",
    "    w_{\\text{b}} &:=1 & \\phi(\\text{b})&:=\\Set{2,3}\\\\\n",
    "    w_{\\text{c}} &:=1 & \\phi(\\text{c})&:=\\Set{1,3}\\\\\n",
    "    w_{\\text{d}} &:=1 & \\phi(\\text{d})&:=\\Set{3,4}\\\\\n",
    "    w_{\\text{e}} &:=1 & \\phi(\\text{e})&:=\\Set{4,5}\\\\\n",
    "    w_{\\text{f}} &:=1 & \\phi(\\text{f})&:=\\Set{3,5}.\n",
    "\\end{align}\n",
    "$$\n",
    "\n",
    "With $C_1=\\Set{1,2,3}$, \n",
    "\n",
    "$$\n",
    "\\begin{align}\n",
    "\\sum_{e\\in E: \\phi(e)\\subseteq C_1} w_e &= \\sum_{e\\in \\Set{\\text{a},\\text{b},\\text{c}}} 1 && = \\underline{3}\\\\\n",
    "\\sum_{e\\in E: \\phi(e)\\cap C_1\\neq \\emptyset} w_e &= \\sum_{e\\in \\Set{\\text{a},\\text{b},\\text{c},\\text{d},\\text{f}}} 1 && = \\underline{5}\\\\\n",
    "\\rho(C_1) &= \\frac{\\sum_{e\\in E: \\phi(e)\\subseteq C_1} w_e}{\\sum_{e\\in E:\\phi(e)\\cap C_1\\neq \\emptyset} w_e} &&= \\underline{\\frac35}.\n",
    "\\end{align}\n",
    "$$\n",
    "\n",
    "With $C_3=\\Set{4,5}$, \n",
    "\n",
    "$$\n",
    "\\begin{align}\n",
    "\\sum_{e\\in E: \\phi(e)\\subseteq C_3} w_e &= \\sum_{e\\in \\Set{\\text{e}}} 1 && = \\underline{1}\\\\\n",
    "\\sum_{e\\in E: \\phi(e)\\cap C_3\\neq \\emptyset} w_e &= \\sum_{e\\in \\Set{\\text{d},\\text{e},\\text{f}}} 1 && = \\underline{3}\\\\\n",
    "\\rho(C_1) &= \\frac{\\sum_{e\\in E: \\phi(e)\\subseteq C_3} w_e}{\\sum_{e\\in E:\\phi(e)\\cap C_3\\neq \\emptyset} w_e} &&= \\underline{\\frac13}.\n",
    "\\end{align}\n",
    "$$\n",
    "\n",
    "---"
   ]
  },
  {
   "cell_type": "markdown",
   "id": "fc42c3c4-572e-4c7a-a80b-85b8ae1c1abc",
   "metadata": {
    "tags": []
   },
   "source": [
    "### Continuous random variables"
   ]
  },
  {
   "cell_type": "markdown",
   "id": "411ccb34-0aef-4443-bea6-3ed0257acdce",
   "metadata": {},
   "source": [
    "If $\\R{Z}_i$'s may have continuous components, one may use the discretized source $\\bar{\\R{Z}}_V$ satisfying\n",
    "\n",
    "$$H(\\bar{\\R{Z}}_B) \\approx H(\\R{Z}_B) + \\sum_{i\\in B} m_i \\qquad \\forall B\\subseteq V$$ (discretized-source)\n",
    "\n",
    "for some $m_i$ proportional to the quantization rate of $\\bar{\\R{Z}}_i$ for $i\\in V$. Then, the density is\n",
    "\n",
    "$$\n",
    "\\rho(B) = \\frac{\\overbrace{H(\\R{Z}_B|\\R{Z}_{V\\setminus B})+\\sum_{i\\in B} m_i}^{\\mu(B)=}}{\\abs{B}},\n",
    "$$ (rho:quantized-source)\n",
    "\n",
    "and the normalized version is\n",
    "\n",
    "$$\n",
    "\\rho(B) = \\frac{H(\\R{Z}_B|\\R{Z}_{V\\setminus B})+\\sum_{i\\in B} m_i}{\\underbrace{H(\\R{Z}_B) + \\sum_{i\\in B} m_i}_{\\nu(B)=}}.\n",
    "$$ (rho:quantized-source:normalized)\n",
    "\n",
    "It follows that $\\rho(B)\\in [0,1]$ and\n",
    "\n",
    "$$\n",
    "1 - \\rho(B) = \\frac{\\overbrace{I(\\R{Z}_B\\wedge \\R{Z}_{V\\setminus B})}^{\\delta(B)=}}{H(\\R{Z}_B) + \\sum_{i\\in B} m_i}.\n",
    "$$"
   ]
  },
  {
   "cell_type": "markdown",
   "id": "1b49175a-9ac4-4c76-885b-b577bf0ef130",
   "metadata": {
    "tags": []
   },
   "source": [
    "## Directed networks"
   ]
  },
  {
   "cell_type": "markdown",
   "id": "6b070b4c-0e18-4d91-844e-cd76a2dc01b7",
   "metadata": {},
   "source": [
    "To extend the formula for weighted digraphs, consider \n",
    "\n",
    "$$\n",
    "\\begin{align}\n",
    "\\R{X}_V &:=(\\R{X}_i|i\\in V) && \\text{(inputs)}\\\\\n",
    "\\R{Y}_V &:=(\\R{Y}_i|i\\in V) = t(\\R{X}_V) && \\text{(outputs)},\n",
    "\\end{align}\n",
    "$$\n",
    "\n",
    "where $t$ is a deterministic channel that \n",
    "- takes a discrete random quantity $\\R{X}_i$ as input from every $i\\in V$, with $H(\\R{X}_i)>0$,\n",
    "- generates $\\R{Y}_V$ as a deterministic function of $\\R{X}_V$, i.e., \n",
    "\n",
    "  $$H(\\R{Y}_V|\\R{X}_V)=0,$$\n",
    "  \n",
    "- and returns $\\R{Y}_i$ as an output to $i\\in V$."
   ]
  },
  {
   "cell_type": "markdown",
   "id": "d1bc3ac3-6e61-4da6-a3b2-291de1122fee",
   "metadata": {},
   "source": [
    "---\n",
    "\n",
    "**Example** (Directed info-net on touching triangles)  \n",
    ":label: eg:directed-info-net:touching-triangles\n",
    "\n",
    "![Directed info-net with touching triangles](images/directed-info-net-touching-triangles.svg)\n",
    "\n",
    "We can turn the info-net in {prf:ref}`eg:info-net:touching-triangles` into a directed info-net by defining the inputs $\\R{X}_V$ and outputs $\\R{Y}_V$ as\n",
    "\n",
    "$$\n",
    "\\begin{align}\n",
    "\\R{X}_1 &:= (\\R{X}_{\\text{a}}, \\R{X}_{\\text{c}}) & \\R{Y}_1 &:=0\\\\\n",
    "\\R{X}_2 &:= \\R{X}_{\\text{b}} & \\R{Y}_2 &:=\\R{X}_{\\text{a}}\\\\\n",
    "\\R{X}_3 &:= (\\R{X}_{\\text{d}},\\R{X}_{\\text{f}}) & \\R{Y}_3 &:= (\\R{X}_{\\text{b}},\\R{X}_{\\text{c}})\\\\\n",
    "\\R{X}_4 &:= \\R{X}_{\\text{e}} & \\R{Y}_4 &:= \\R{X}_{\\text{d}}\\\\\n",
    "\\R{X}_5 &:=0 & \\R{Y}_5 &:= (\\R{X}_{\\text{e}},\\R{X}_{\\text{f}}).\n",
    "\\end{align}\n",
    "$$\n",
    "\n",
    "For instance, $\\R{X}_a$ and $\\R{X}_c$ are\n",
    "- generated by node $1$ and\n",
    "- observed respectively by nodes $2$ and $3$.\n",
    "\n",
    "In a citation network, $\\R{X}_a$ and $\\R{X}_c$ may represent original results in articles written by scholar $1$ and cited by scholars $2$ and $3$.\n",
    "\n",
    "---"
   ]
  },
  {
   "cell_type": "markdown",
   "id": "918fcef5-ef90-4f53-bffc-818a07a31145",
   "metadata": {},
   "source": [
    "The normalized density can be defined as\n",
    "\n",
    "$$\n",
    "\\rho(B) := \\frac{\\overbrace{H(\\R{X}_B|\\R{X}_{V\\setminus B},\\R{Y}_{V\\setminus B})}^{\\mu(B):=}}{\\underbrace{H(\\R{X}_B)}_{\\nu(B):=}},\n",
    "$$ (rho:deterministic-channel:normalized)\n",
    "\n",
    "which measures the fractional amount of information in the input from $B$ not available outside $B$. Note that this reduces to {eq}`rho:source:normalized` when the outputs are trivial, i.e., $H(\\R{Y}_V)=0$.\n",
    "\n",
    "It follows that $\\rho(B)\\in [0,1]$ and\n",
    "\n",
    "$$\n",
    "1-\\rho(B) = \\frac{\\overbrace{I(\\R{X}_B\\wedge \\R{Y}_{V\\setminus B}|\\R{X}_{V\\setminus B})}^{\\delta(B):=}}{H(\\R{X}_B)}.\n",
    "$$"
   ]
  },
  {
   "cell_type": "markdown",
   "id": "f28c0a92-ed2c-4e3c-8e64-6170a61082a3",
   "metadata": {},
   "source": [
    "---\n",
    "\n",
    "**Example** (Directed info-net on touching triangles)  \n",
    ":label: eg:directed-info-net:touching-triangles-C1-C3\n",
    "\n",
    "![Directed info-net with touching triangles](images/directed-info-net-touching-triangles-C1-C3.svg) \n",
    "\n",
    "\n",
    "The normalized densities for $C_1$ and $C_3$ can be computed for the directed info-net in {prf:ref}`eg:directed-info-net:touching-triangles` as follows. \n",
    "\n",
    "With $C_1=\\Set{1,2,3}$,\n",
    "\n",
    "$$\n",
    "\\begin{alignat}{2}\n",
    "H(\\R{X}_{C_1}|\\R{X}_{V\\setminus C_1},\\R{Y}_{V\\setminus C_1}) &= H(\\R{X}_{\\text{a}},\\R{X}_{\\text{b}},\\R{X}_{\\text{c}}) && =\\underline{3~\\text{bits}}\\\\\n",
    "H(\\R{X}_{C_1}) &= H(\\R{X}_{\\text{a}},\\R{X}_{\\text{b}},\\R{X}_{\\text{c}},\\R{X}_{\\text{d}},\\R{X}_{\\text{f}})&&=\\underline{5~\\text{bits}}\\\\\n",
    "I(\\R{X}_{C_1}\\wedge \\R{Y}_{V\\setminus C_1}|\\R{X}_{V\\setminus C_1}) &= H(\\R{X}_{\\text{d}},\\R{X}_{\\text{f}}) && =\\underline{2~\\text{bits}}\\\\\n",
    "\\rho(C_1)\n",
    "&= \\frac{H(\\R{X}_{C_1}|\\R{X}_{V\\setminus C_1},\\R{Y}_{V\\setminus C_1})}{H(\\R{X}_{C_1})} &&= \\underline{\\frac{3}{5}}\\\\\n",
    "1-\\rho(C_1) &= \\frac{I(\\R{X}_{C_1}\\wedge \\R{Y}_{V\\setminus C_1}|\\R{X}_{V\\setminus C_1})}{H(\\R{X}_{C_1})} &&= \\underline{\\frac{2}{5}}.\n",
    "\\end{alignat}\n",
    "$$\n",
    "\n",
    "With $C_3:=\\Set{4,5}$,\n",
    "\n",
    "$$\n",
    "\\begin{alignat}{3}\n",
    "H(\\R{X}_{C_3}|\\R{X}_{V\\setminus C_3},\\R{Y}_{V\\setminus C_3}) &= H(\\R{X}_{\\text{e}})&&=\\underline{1~\\text{bits}}\\\\\n",
    "H(\\R{X}_{C_3}) &= H(\\R{X}_{\\text{e}})&&=1~\\text{bits}\\\\\n",
    "I(\\R{X}_{C_3}\\wedge \\R{Y}_{V\\setminus C_3}|\\R{X}_{V\\setminus C_3})& && =\\underline{0~\\text{bits}}\\\\\n",
    "\\rho(C_3)\n",
    "&= \\frac{H(\\R{X}_{C_3}|\\R{X}_{V\\setminus C_3},\\R{Y}_{V\\setminus C_3})}{H(\\R{X}_{C_3})} &&= \\underline{1}&&> \\rho(C_1)\\\\\n",
    "1-\\rho(C_3) &= \\frac{I(\\R{X}_{C_3}\\wedge \\R{Y}_{V\\setminus C_3}|\\R{X}_{V\\setminus C_3})}{H(\\R{X}_{C_3})}&&=\\underline{0}.\n",
    "\\end{alignat}\n",
    "$$\n",
    "\n",
    "For a citation network, $C_3$ can correspond to a community for a specific domain since all the articles, namely $\\R{X}_e$, generated in $C_3$ is not cited by articles outside $C_3$. Similarly, $C_2:=\\Set{3,4,5}$ has a density of $1$.\n",
    "\n",
    "---"
   ]
  },
  {
   "cell_type": "markdown",
   "id": "e7242cc9-0043-4221-97cd-c481b497970f",
   "metadata": {
    "tags": []
   },
   "source": [
    "### Weighted directed hypergraphs"
   ]
  },
  {
   "cell_type": "markdown",
   "id": "3def39e7-f295-4e80-b33b-c628aca83b18",
   "metadata": {},
   "source": [
    "Consider a directed hypergraphical source where, for $i\\in V$,\n",
    "\n",
    "$$\n",
    "\\begin{align}\n",
    "\\R{X}_i&:=(\\R{X}_e|e\\in E, i=\\theta(e))\\\\\n",
    "\\R{Y}_i&:=(\\R{X}_e|e\\in E, i\\in \\phi(e))\n",
    "\\end{align}\n",
    "$$ (directed-hypergraphical)\n",
    "\n",
    "where\n",
    "- $\\theta(e)\\in \\phi(e)$ denotes the root node of a hyperedge $e\\in E$,\n",
    "- $\\phi(e)\\subseteq V$ denotes the set of incident nodes for a hyperedge $e\\in E$, and\n",
    "- $(X_e|e\\in E)$ consists of mutually independent edge random variables with $H(X_e)=w_e$."
   ]
  },
  {
   "cell_type": "markdown",
   "id": "a255c2b6-45f5-42fd-87a1-72299c5b72d4",
   "metadata": {},
   "source": [
    "The normalized density becomes\n",
    "\n",
    "$$\n",
    "\\rho(B) = \\frac{\\sum_{e\\in E: \\phi(e)\\subseteq B} w_e}{\\sum_{e\\in E:\\theta(e)\\in B} w_e},\n",
    "$$ (rho:directed-hypergraph:normalized)\n",
    "\n",
    "which further reduces to {eq}`rho:deterministic-channel:normalized` when $\\abs{\\phi(B)}=2$ and $w_{ij}=\\sum_{e\\in E: \\theta(e)=i,\\phi(e)=\\Set{i,j}} w_e$."
   ]
  },
  {
   "cell_type": "markdown",
   "id": "aa0735a1-48af-4e73-bee7-acdac19dbc2f",
   "metadata": {},
   "source": [
    "---\n",
    "\n",
    "**Example**  \n",
    ":label: eg:weighted-directed-hypergraph\n",
    "\n",
    "![Directed touching triangles](images/directed-touching-triangles-C1-C3.svg)\n",
    "\n",
    "To reduce the directed info-net in {prf:ref}`eg:directed-info-net:touching-triangles` to a directed hypergraph, let $E:=\\Set{\\text{a},\\dots,\\text{g}}$ and\n",
    "\n",
    "$$\n",
    "\\begin{align}\n",
    "    w_{\\text{a}} &:=1 & \\phi(\\text{a})&:=\\Set{1,2} & \\theta(\\text{a})&=1\\\\\n",
    "    w_{\\text{b}} &:=1 & \\phi(\\text{b})&:=\\Set{2,3} & \\theta(\\text{b})&=2\\\\\n",
    "    w_{\\text{c}} &:=1 & \\phi(\\text{c})&:=\\Set{1,3} & \\theta(\\text{c})&=1\\\\\n",
    "    w_{\\text{d}} &:=1 & \\phi(\\text{d})&:=\\Set{3,4} & \\theta(\\text{d})&=3\\\\\n",
    "    w_{\\text{e}} &:=1 & \\phi(\\text{e})&:=\\Set{4,5} & \\theta(\\text{e})&=4\\\\\n",
    "    w_{\\text{f}} &:=1 & \\phi(\\text{f})&:=\\Set{3,5} & \\theta(\\text{f})&=3.\n",
    "\\end{align}\n",
    "$$\n",
    "\n",
    "With $C_1=\\Set{1,2,3}$, \n",
    "\n",
    "$$\n",
    "\\begin{align}\n",
    "\\sum_{e\\in E: \\phi(e)\\subseteq C_1} w_e &= \\sum_{e\\in \\Set{\\text{a},\\text{b},\\text{c}}} 1 && = \\underline{3}\\\\\n",
    "\\sum_{e\\in E:\\theta(e)\\in C_1} w_e &= \\sum_{e\\in \\Set{\\text{a},\\text{b},\\text{c},\\text{d},\\text{f}}} 1 && = \\underline{5}\\\\\n",
    "\\rho(C_1) &= \\frac{\\sum_{e\\in E: \\phi(e)\\subseteq C_1} w_e}{\\sum_{e\\in E:\\theta(e)\\in C_1} w_e} &&= \\underline{\\frac35}.\n",
    "\\end{align}\n",
    "$$\n",
    "\n",
    "With $C_3=\\Set{4,5}$, \n",
    "\n",
    "$$\n",
    "\\begin{align}\n",
    "\\sum_{e\\in E: \\phi(e)\\subseteq C_3} w_e &= \\sum_{e\\in \\Set{\\text{e}}} 1 && = \\underline{1}\\\\\n",
    "\\sum_{e\\in E:\\theta(e)\\in C_3} w_e &= \\sum_{e\\in \\Set{\\text{e}}} 1 && = \\underline{1}\\\\\n",
    "\\rho(C_3) &= \\frac{\\sum_{e\\in E: \\phi(e)\\subseteq C_3} w_e}{\\sum_{e\\in E:\\theta(e)\\in C_3} w_e} &&= \\underline{1}.\n",
    "\\end{align}\n",
    "$$\n",
    "\n",
    "---"
   ]
  },
  {
   "cell_type": "markdown",
   "id": "7a764602-7848-4805-a482-44448d13d244",
   "metadata": {
    "tags": []
   },
   "source": [
    "## Generalization with super/sub-modular functions"
   ]
  },
  {
   "cell_type": "markdown",
   "id": "8ea5d900-a828-49d1-a523-493753435e21",
   "metadata": {},
   "source": [
    "```{important}\n",
    "Is there a unifying formula of density? \n",
    "```"
   ]
  },
  {
   "cell_type": "markdown",
   "id": "8a2b47e1-87f0-492e-9a83-b8edaa3f234e",
   "metadata": {},
   "source": [
    "The answer is affirmative by modeling the dependency using a *submodular/supermodular* function {cite}`fujishige05submodular,schrijver2002combinatorial`."
   ]
  },
  {
   "cell_type": "markdown",
   "id": "64e5c500-19c2-420e-9b0e-eabd19389415",
   "metadata": {
    "tags": []
   },
   "source": [
    "### Dependency model"
   ]
  },
  {
   "cell_type": "markdown",
   "id": "12961a9f-d562-4f95-8512-4b4aa98e213f",
   "metadata": {},
   "source": [
    "A set function $f:2^V\\to \\mathbb{R}$ is said to be \n",
    "- normalized if    \n",
    "    \n",
    "    $$f(\\emptyset)=0$$ (normalized)\n",
    "- non-decreasing if\n",
    "\n",
    "    $$f(B')\\leq f(B) \\qquad \\forall B'\\subseteq B\\subseteq V$$ (non-decreasing)\n",
    "\n",
    "- submodular if\n",
    "    $$\n",
    "    f(B_1)+f(B_2) \\geq f(B_1\\cap B_2) + f(B_1\\cup B_2) \\qquad \\forall B_1, B_2\\subseteq V.\n",
    "    $$ (submodular)"
   ]
  },
  {
   "cell_type": "markdown",
   "id": "32e3b66c-306b-4944-a6df-d79ae3dcca6a",
   "metadata": {},
   "source": [
    "---\n",
    "\n",
    "**Example**\n",
    "\n",
    "The followings are normalized non-decreasing submodular functions:\n",
    "- $\\nu(B):=H(\\R{Z}_B)$, the entropy function for discrete random variables.\n",
    "- $\\nu(B):=\\abs{B}$, the cardinality function. \n",
    "\n",
    "---"
   ]
  },
  {
   "cell_type": "markdown",
   "id": "be90c80d-a118-4648-a637-03037e998f28",
   "metadata": {},
   "source": [
    "Alternatively, the conditions may also be stated concisely as\n",
    "\n",
    "$$f(\\emptyset)=0\\leq f(B|B')\\leq f(B|B'') \\qquad \\forall B''\\subseteq B'\\subseteq B\\subseteq V$$ (normalized-monotonic-submodular)\n",
    "\n",
    "using the conditional $f$ defined as\n",
    "\n",
    "$$f(B_1|B_2):=f(B_1\\cup B_2)- f(B_2) \\qquad \\forall B_1,B_2\\subseteq V.$$ (conditional)"
   ]
  },
  {
   "cell_type": "markdown",
   "id": "ee3874f0-88b1-48ac-b62e-4a823543d7f9",
   "metadata": {},
   "source": [
    "A set function $f$ is supermodular if {eq}`submodular` holds with the reverse inequality $\\leq $ instead.  \n",
    "Combined with normalized and non-decreasing properties, the condition can be stated concisely as\n",
    "\n",
    "$$f(\\emptyset)=0\\leq f(B|B')\\leq f(B|B'') \\qquad \\forall B'\\subseteq B''\\subseteq B\\subseteq V$$ (normalized-monotonic-supermodular)"
   ]
  },
  {
   "cell_type": "markdown",
   "id": "c00f633e-7031-4e75-bb7a-5a6395f71954",
   "metadata": {},
   "source": [
    "---\n",
    "\n",
    "**Example**\n",
    "\n",
    "The followings are normalized non-decreasing supermodular functions:\n",
    "\n",
    "- $-\\nu(B):=-H(\\R{Z}_B)$, the negated entropy function for discrete random variables.\n",
    "- $\\mu(B):= H(\\R{Z}_B\\mid \\R{Z}_{V \\setminus B})$, the conditional entropy function for discrete random variables.\n",
    "- $\\nu(B):=\\abs{B}$, the cardinality function.\n",
    "\n",
    "---"
   ]
  },
  {
   "cell_type": "markdown",
   "id": "f8741b7a-1a7e-4512-877c-46f7b30d7580",
   "metadata": {},
   "source": [
    "A function is said to be *modular* if it is both submodular and supermodular. The cardinality function is an example."
   ]
  },
  {
   "cell_type": "markdown",
   "id": "9726cfe9-4ed4-4413-a674-679c6c0c6b54",
   "metadata": {
    "tags": []
   },
   "source": [
    "### Density"
   ]
  },
  {
   "cell_type": "markdown",
   "id": "4c1e4933-4757-487a-85c6-06db5e90b2c4",
   "metadata": {},
   "source": [
    "---\n",
    "\n",
    "**Definition** (Density)  \n",
    ":label: def:density\n",
    "\n",
    "The *density function* is defined as\n",
    "\n",
    "$$\n",
    "\\begin{align}\n",
    "\\rho(B) &:= \\frac{\\mu(B)}{\\nu(B)} && \\text{for} B\\subseteq V: \\abs{B}\\geq 1\n",
    "\\end{align}\n",
    "$$ (rho)\n",
    "\n",
    "for any $(V,\\mu,\\nu)$ network where\n",
    "- $V$ is a set of $n\\geq 1$ vertices;\n",
    "- $\\mu:2^V\\to \\mathbb{R}$ is the mass function that is normalized, non-decreasing, and supermodular {eq}`normalized-monotonic-submodular`; and\n",
    "- $\\nu:2^V\\to \\mathbb{R}$ is the volume function that is normalized, non-decreasing, and submodular {eq}`normalized-monotonic-supermodular`.\n",
    "\n",
    "To avoid singularity, we further impose\n",
    "\n",
    "$$\n",
    "\\nu(\\Set{i})>0 \\qquad \\forall i\\in V.\n",
    "$$ (non-singular)\n",
    "\n",
    "---"
   ]
  },
  {
   "cell_type": "markdown",
   "id": "5c4228b5-64a5-4d69-86cc-c21e67832088",
   "metadata": {},
   "source": [
    "As $\\nu$ is non-decreasing, {eq}`non-singular` ensures that density $\\rho(B)$ is well-defined, namely, $\\nu(B)>0$, for all non-empty subsets $B$. Extension to singular subsets without imposing {eq}`non-singular` is trivial:"
   ]
  },
  {
   "cell_type": "markdown",
   "id": "88e77539-c0e6-447b-a1fd-dedffb2cf5e6",
   "metadata": {},
   "source": [
    "---\n",
    "\n",
    "**Remark**\n",
    "\n",
    "For a $(V,\\mu,\\nu)$ network that does not satisfy {eq}`non-singular`, there is a unique maximum 0-volume subset\n",
    "\n",
    "$$B_0:= \\Set{i|i \\in V, \\nu({i})=0}$$\n",
    "\n",
    "so that the network $(V',\\mu',\\nu')$ defined below by contracting $B_0$ satisfies {eq}`non-singular`:\n",
    "\n",
    "$$\n",
    "\\begin{align}\n",
    "V'&:=V\\setminus B_0\\\\\n",
    "\\mu'(B)&:=\\mu(B|B_0)\\\\\n",
    "\\nu'(B)&:=\\nu(B|B_0)=\\nu(B\\setminus B_0)\n",
    "\\end{align}\n",
    "$$\n",
    "\n",
    "for all $B\\subseteq V'$. \n",
    "\n",
    "It suffices to study the contracted network $(V',\\mu',\\nu')$ because\n",
    "\n",
    "- if $\\mu(B_0)=0$, then  \n",
    "  \n",
    "  $$\\rho(B)=\\rho(B\\setminus B_0)\\qquad \\forall B\\subseteq V:\\abs{B}\\geq 1,$$\n",
    "  \n",
    "- and if $\\mu(B_0)>0$, then\n",
    "  \n",
    "  $$B\\supseteq B_0 \\qquad \\forall B\\in \\mc{D}_k, k> \\abs{B_0}.$$\n",
    "  \n",
    "  For the remaining cases where $k\\leq \\abs{B_0}$, $\\mc{D}_k$ in {eq}`densest-k` is ill-posed.\n",
    "\n",
    "---"
   ]
  },
  {
   "cell_type": "markdown",
   "id": "edc66763-dc81-4d2f-b3b2-32995c049d41",
   "metadata": {},
   "source": [
    "In particular, to reduce to {eq}`rho:deterministic-channel:normalized`, define\n",
    "\n",
    "- $\\nu(B):=H(\\R{X}_B)$, which is the entropy function for discrete random variables, and \n",
    "- $\\mu(B):=H(\\R{X}_B|\\R{X}_{V\\setminus B}, \\R{Y}_{V\\setminus B}) = H(\\R{X}_B, \\R{Y}_B|\\R{X}_{V\\setminus B}, \\R{Y}_{V\\setminus B})$ ($\\because H(\\R{Y}_V|\\R{X}_V)=0$), which is the conditional entropy function."
   ]
  },
  {
   "cell_type": "code",
   "execution_count": null,
   "id": "7d18f344-0584-4830-ab4f-9e534454af07",
   "metadata": {},
   "outputs": [],
   "source": []
  }
 ],
 "metadata": {
  "jupytext": {
   "formats": "ipynb,md:myst"
  },
  "kernelspec": {
   "display_name": "Python 3 (ipykernel)",
   "language": "python",
   "name": "python3"
  },
  "language_info": {
   "codemirror_mode": {
    "name": "ipython",
    "version": 3
   },
   "file_extension": ".py",
   "mimetype": "text/x-python",
   "name": "python",
   "nbconvert_exporter": "python",
   "pygments_lexer": "ipython3",
   "version": "3.10.8"
  },
  "widgets": {
   "application/vnd.jupyter.widget-state+json": {
    "state": {},
    "version_major": 2,
    "version_minor": 0
   }
  }
 },
 "nbformat": 4,
 "nbformat_minor": 5
}
