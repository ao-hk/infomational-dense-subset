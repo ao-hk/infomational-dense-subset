{
 "cells": [
  {
   "cell_type": "markdown",
   "id": "458a18ba-724a-4c63-a536-4e068282a089",
   "metadata": {},
   "source": [
    "# Strong Subsets"
   ]
  },
  {
   "cell_type": "code",
   "execution_count": 1,
   "id": "0a53b425-757a-4f72-8530-bda3bc4df175",
   "metadata": {
    "tags": []
   },
   "outputs": [
    {
     "data": {
      "application/vnd.jupyter.widget-view+json": {
       "model_id": "edb123097f3f40c88f6f9d522b4332fa",
       "version_major": 2,
       "version_minor": 0
      },
      "text/plain": [
       "VBox(children=(HBox(children=(IntSlider(value=4, description='b', max=8, min=3), IntSlider(value=0, descriptio…"
      ]
     },
     "metadata": {},
     "output_type": "display_data"
    }
   ],
   "source": [
    "from visualization import playground\n",
    "\n",
    "playground(b=4, k=1, m=0, t=\"broken\")"
   ]
  },
  {
   "cell_type": "markdown",
   "id": "047adca0-4f9b-44be-aa50-c8695c5dc253",
   "metadata": {},
   "source": [
    "For the biased dumbbell graph in {prf:ref}`eg:broken-dumbbell`, the ring on $C_2$ cannot be identified by $\\mc{U}_k(x)$. This is because the clique $C_1$ dominates $C_2$ in the sense that\n",
    "\n",
    "$$\n",
    "\\underbrace{f[C_1](x)}_{\\mu(C_1)-x\\nu(C_1)} > \\underbrace{f[C_2](x)}_{\\mu(C_2)-x\\nu(C_2)} \\qquad \\forall x\\geq 0.\n",
    "$$\n",
    "\n",
    "as\n",
    "\n",
    "- $\\mu(C_1)={b \\choose 2}>b=\\mu(C_2)$, and \n",
    "- $\\nu(C_1)=b=\\nu(C_2)$."
   ]
  },
  {
   "cell_type": "markdown",
   "id": "b520ecb4-3990-40e0-b20a-d16dc5c3e8b4",
   "metadata": {},
   "source": [
    "```{important}\n",
    "How to find locally dense subsets that may not be globally dense?\n",
    "```"
   ]
  },
  {
   "cell_type": "markdown",
   "id": "914ee19b-f90b-4603-9a33-11daafdad2da",
   "metadata": {
    "tags": []
   },
   "source": [
    "## Strength"
   ]
  },
  {
   "cell_type": "markdown",
   "id": "5c85d4bb-600d-4c54-a53f-36d5923498f9",
   "metadata": {},
   "source": [
    "Instead of comparing subsets locally by their densities, we compare them using the following measure of strength:"
   ]
  },
  {
   "cell_type": "markdown",
   "id": "b1733aa4-94f8-4cb8-ae6a-6da59d235836",
   "metadata": {},
   "source": [
    "---\n",
    "\n",
    "**Definition** (strength)  \n",
    ":label: def:strength\n",
    "\n",
    "For order $k\\in \\Set{0,\\dots, n}$ and subset $C\\subseteq V$, define the strength\n",
    "$$\n",
    "\\sigma_k(C):= \\min_{\\substack{B\\subseteq C:\\nu(C|B)>0\\\\ \\abs{B}\\geq k}} \\frac{\\mu(C|B)}{\\nu(C|B)},\n",
    "$$ (strength)\n",
    "\n",
    "where $\\mu$ and $\\nu$ are respectively the mass and volume function for the density defined in {prf:ref}`def:density`, and the conditional versions are as defined in {eq}`conditional`. \n",
    "\n",
    "As a convention the strength is $\\infty$ for $k\\geq \\abs{C}$ where the minimization has no feasible solution.\n",
    "\n",
    "---"
   ]
  },
  {
   "cell_type": "markdown",
   "id": "d64eb981-5d2d-4f38-85ce-ab6a20b71dea",
   "metadata": {},
   "source": [
    "The constraint $\\nu(C|B)>0$ ensures that the strength is well-defined. When $\\nu(B)=\\abs{B}$, the constraint is equivalent to $B\\subsetneq C$ and so the strength reduces to\n",
    "\n",
    "$$\n",
    "\\sigma_k(C) = \\min_{\\substack{B\\subsetneq C:\\\\ \\abs{B}\\geq k}} \\frac{\\mu(C|B)}{\\abs{C\\setminus B}},\n",
    "$$ (volume=cardinality:strength)"
   ]
  },
  {
   "cell_type": "markdown",
   "id": "6312da9e-d3b8-4456-b19d-94440499ece8",
   "metadata": {},
   "source": [
    "The following definition of strong subsets further confines the comparisons of strong subsets to local instead of global comparisons:"
   ]
  },
  {
   "cell_type": "markdown",
   "id": "745b8f16-8b87-436e-8c53-fd96af1ebc85",
   "metadata": {},
   "source": [
    "---\n",
    "\n",
    "**Definition** (strong subsets)  \n",
    ":label: def:strong-subsets\n",
    "\n",
    "\n",
    "For order $k\\in \\Set{0,\\dots, n}$ and a strength function $\\sigma$, define for all $x\\in \\mathbb{R}$\n",
    "\n",
    "$$\n",
    "\\begin{align}\n",
    "\\mc{C}_{\\sigma}(x) &:= \\operatorname{maximal} \\Set{C\\subseteq V| \\sigma(C)>x},\n",
    "\\end{align}\n",
    "$$ (maximal-strong-subsets)\n",
    "\n",
    "where \n",
    "\n",
    "$$\n",
    "\\begin{align}\n",
    "\\operatorname{maximal} \\mc{F} &:= \\Set{B\\in \\mc{F}|\\not\\exists C\\in \\mc{F},B\\subsetneq C}.\n",
    "\\end{align}\n",
    "$$ (maximal)\n",
    "\n",
    "---"
   ]
  },
  {
   "cell_type": "markdown",
   "id": "6b3e841a-eef7-4a20-8c94-5969a2ac07da",
   "metadata": {},
   "source": [
    "For the broken dumbbell graph in {prf:ref}`eg:broken-dumbbell`, the following shows that $C_2\\in \\mc{C}_{\\sigma_1}$, i.e.,\n",
    "\n",
    "$$\\sigma_1(C) < \\sigma_1(C_2) \\qquad \\forall C\\subseteq V:C\\supsetneq C_2$$\n",
    "\n",
    "and so $C_2$ can be identified as a maximal strong subset."
   ]
  },
  {
   "cell_type": "markdown",
   "id": "99a65d60-acc7-4bd7-b167-c80128e7b92d",
   "metadata": {},
   "source": [
    "$$\n",
    "\\begin{align}\n",
    "\\sigma_1(C_2) &= \\min_{\\substack{B\\subsetneq C_2:\\\\ \\abs{B}\\geq 1}} \\frac{\\mu(C_2|B)}{\\abs{C_2\\setminus B}}\\\\\n",
    "&=  \\frac{\\mu(C_2|\\Set{i})}{\\abs{C_2\\setminus \\Set{i}}} && \\forall i\\in C_2\\\\\n",
    "&= \\frac{{b \\choose 2} - 1}{b-1} = \\frac{b}{2} - \\frac1{b-1}\n",
    "\\end{align}\n",
    "$$"
   ]
  },
  {
   "cell_type": "markdown",
   "id": "1d50a4ff-56ce-4543-a905-7521b1b6cd83",
   "metadata": {},
   "source": [
    "$$\n",
    "\\begin{align}\n",
    "\\sigma_1(V) &= \\min_{\\substack{B\\subsetneq V:\\\\ \\abs{B}\\geq 1}} \\frac{\\mu(V|B)}{\\abs{V\\setminus B}}\\\\\n",
    "&=  \\frac{\\mu(V|C_1)}{\\abs{V\\setminus C_1}}\\\\\n",
    "&= \\frac{{b \\choose 2} - 1+1}{b} = \\frac{b}{2} - \\frac12 < \\sigma_1(C_2)\n",
    "\\end{align}\n",
    "$$"
   ]
  },
  {
   "cell_type": "markdown",
   "id": "3b451e08-a495-48ad-9571-471e37503e6a",
   "metadata": {},
   "source": [
    "For all $C\\subsetneq V: C\\supsetneq C_2$, \n",
    "\n",
    "$$\n",
    "\\begin{align}\n",
    "\\sigma_1(C) &= \\min_{\\substack{B\\subsetneq C:\\\\ \\abs{B}\\geq 1}} \\frac{\\mu(C|B)}{\\abs{C\\setminus B}}\\\\\n",
    "&\\leq  \\frac{\\mu(C|C_2)}{\\abs{C\\setminus C_2}}\\\\\n",
    "&= \\frac{1+{\\abs{C}-b\\choose 2}}{\\abs{C}-b}= \\frac1{\\abs{C}-b} + \\frac{\\abs{C}-b-1}{2}< \\sigma_1(C_2)\n",
    "\\end{align}\n",
    "$$"
   ]
  },
  {
   "cell_type": "markdown",
   "id": "822d1ff9-6d93-4ab6-8e6c-337be62ff6d8",
   "metadata": {
    "tags": []
   },
   "source": [
    "## Characterization and computation"
   ]
  },
  {
   "cell_type": "markdown",
   "id": "41658321-e43d-4ffe-a1fc-85a45b6973f8",
   "metadata": {},
   "source": [
    "---\n",
    "\n",
    "**Definition** (restricted $k$-intersecting dense)  \n",
    ":label: def:restricted-k-intersecting-dense\n",
    "\n",
    "For $C\\subseteq V:\\abs{C}\\geq 1$ and $k\\in \\Set{0,\\dots, \\abs{C}-1}$,\n",
    "\n",
    "$$\n",
    "\\begin{align}\n",
    "\\mc{U}^C_k(x) &:= \\arg \\overbrace{\\max_{\\substack{B\\subseteq C:\\\\ \\abs{B}\\geq k}} f[B](x)}^{f^C_k(x):=}\n",
    "\\end{align}\n",
    "$$ (restricted-k-intersecting-dense)\n",
    "\n",
    "where $f[B](x)$ is defined in {eq}`k-intersecting-dense`.\n",
    "\n",
    "---"
   ]
  },
  {
   "cell_type": "markdown",
   "id": "d86d7469-15b1-429b-ab3c-533cecd4ac1b",
   "metadata": {},
   "source": [
    "---\n",
    "\n",
    "**Theorem**\n",
    "\n",
    "For $C\\subseteq V:\\abs{C}\\geq 1$ and $k\\in \\Set{0,\\dots, \\abs{C}-1}$,\n",
    "\n",
    "$$\n",
    "\\sigma_k(B) > \\sigma_k(C)\\qquad \\forall B\\in \\lim_{x\\downarrow \\sigma_k(C)} \\mc{U}_{k}^C(x),\n",
    "$$ (larger-strength)\n",
    "\n",
    "which are solutions associated with the second line segment of $f_k^C(x)$.\n",
    "\n",
    "---"
   ]
  },
  {
   "cell_type": "markdown",
   "id": "a2705aa1-b988-44e4-b4fc-f35da4f8e5f2",
   "metadata": {},
   "source": [
    "This follows from the lemma below:"
   ]
  },
  {
   "cell_type": "markdown",
   "id": "23656630-0eaa-4cfb-979c-d63beff33df3",
   "metadata": {},
   "source": [
    "---\n",
    "\n",
    "**Lemma**\n",
    "\n",
    "For $C\\subseteq V:\\abs{C}\\geq 1$ and $k\\in \\Set{0,\\dots, \\abs{C}-1}$,\n",
    "\n",
    "$$\n",
    "\\begin{align}\n",
    "\\sigma_k(C)>x \\iff f[C](x)> \\max_{\\substack{B\\subseteq C:\\nu(C|B)>0\\\\ \\abs{B}\\geq k}} f[C](x),\n",
    "\\end{align}\n",
    "$$ (strength>x)\n",
    "\n",
    "i.e., $\\sigma_k(C)$ in {eq}`strength` is the $x$-coordinate of the first turning point of $f_k^C$. The optimizations in {eq}`strength` and {eq}`strength>x` also share the same set of solutions.\n",
    "\n",
    "Furthermore,\n",
    "\n",
    "$$\n",
    "\\begin{align}\n",
    "\\sigma_k(C)=x \\implies f[C](x)= \\max_{\\substack{B\\subseteq C:\\nu(C|B)>0\\\\ \\abs{B}\\geq k}} f[C](x),\n",
    "\\end{align}\n",
    "$$ (strength=x)\n",
    "\n",
    "and the converse holds for $k\\geq 1$.\n",
    "\n",
    "---"
   ]
  },
  {
   "cell_type": "markdown",
   "id": "c5ce550b-d10c-4da4-b9a1-79fe003ab4b9",
   "metadata": {},
   "source": [
    "---\n",
    "\n",
    "**Theorem**\n",
    "\n",
    "$$\n",
    "\\begin{align}\n",
    "C_1\\cap C_2 &= \\emptyset \\text{ or }C_1=C_2 && \\forall x\\in \\mathbb{R}, C_1, C_2\\in \\mc{C}_{\\sigma_1}(x)\\\\\n",
    "C_1\\cap C_2 &= \\emptyset \\text{ or }C_1\\supseteq C_2 && \\forall x_1<x_2, C_1\\in \\mc{C}_{\\sigma_1}(x_1), C_2\\in \\mc{C}_{\\sigma_1}(x_2)\n",
    "\\end{align}\n",
    "$$ (C1:maximal:hierarchy)\n",
    "\n",
    "---"
   ]
  },
  {
   "cell_type": "markdown",
   "id": "ae595d21-3ea6-4c6f-963f-c7428ad62966",
   "metadata": {},
   "source": [
    "This follows from the lemma below."
   ]
  },
  {
   "cell_type": "markdown",
   "id": "80660ad4-a697-487e-8d19-6153037dd753",
   "metadata": {},
   "source": [
    "---\n",
    "\n",
    "**Lemma**\n",
    "\n",
    "$$\n",
    "\\sigma_1(C_1\\cup C_2)\\geq \\min \\Set{\\sigma_1(C_1),\\sigma_1(C_2)}\\qquad\n",
    "\\forall\n",
    "C_1, C_2\\subseteq V:\\abs{C_1\\cap C_2}\\geq 1\n",
    "$$ (C1:hierarchy)\n",
    "\n",
    "---"
   ]
  },
  {
   "cell_type": "markdown",
   "id": "eb62d42c-94d0-45d2-888f-ca7804f89376",
   "metadata": {},
   "source": [
    "---\n",
    "\n",
    "**Proof**\n",
    "\n",
    "---"
   ]
  },
  {
   "cell_type": "markdown",
   "id": "fafde946-1d91-45f5-b617-6bbec3d3dfe2",
   "metadata": {},
   "source": [
    "---\n",
    "\n",
    "**Conjecture (NOT TRUE)**\n",
    "\n",
    "$$\n",
    "\\begin{align}\n",
    "\\abs{C_1\\cap C_2} &<k  \\text{ or }C_1=C_2 && \\forall x\\in \\mathbb{R}, C_1, C_2\\in \\mc{C}_{\\sigma_k}(x)\\\\\n",
    "\\abs{C_1\\cap C_2} &<k  \\text{ or }C_1\\supseteq C_2 && \\forall x_1<x_2, C_1\\in \\mc{C}_{\\sigma_k}(x_1), C_2\\in \\mc{C}_{\\sigma_k}(x_2)\n",
    "\\end{align}\n",
    "$$ (Ck:maximal:hierarchy)\n",
    "\n",
    "or the stronger statement that\n",
    "\n",
    "$$\n",
    "\\forall k \\geq 1, \n",
    "\\sigma_k(C_1\\cup C_2)\\geq \\min \\Set{\\sigma_k(C_1),\\sigma_k(C_2)}\\qquad\n",
    "\\forall\n",
    "C_1, C_2\\subseteq V:\\abs{C_1\\cap C_2}\\geq k.\n",
    "$$ (Ck:hierarchy)\n",
    "\n",
    "---"
   ]
  },
  {
   "cell_type": "markdown",
   "id": "754f6f5e-2042-42d6-b996-e375d99dc642",
   "metadata": {},
   "source": [
    "To show {eq}`Ck:hierarchy` implies {eq}`Ck:maximal:hierarchy`, ..."
   ]
  },
  {
   "cell_type": "markdown",
   "id": "6389064d-cce6-4cac-b0d5-4f4b19a25266",
   "metadata": {},
   "source": [
    "- proof\n",
    "- graphical networks\n",
    "- counter-example (minimal, structured) : exists for the stronger statement\n",
    "\n",
    "Counterexample exists.\n",
    "\n",
    "When $k=1$\n",
    "\n",
    "When $k \\geq 2$\n",
    "\n",
    "Suppose $\\abs{C_1 \\cap C_2} \\geq k$\n",
    "\n",
    "When $\\abs{B \\cap C_1} \\geq k$ or $\\abs{B \\cap C_2} \\geq k$\n",
    "\n",
    "When $\\abs{B \\cap C_1} < k$ and $\\abs{B \\cap C_2} < k$\n",
    "\n",
    "(in this case and when $B \\setminus C_1 \\neq \\emptyset, B \\setminus C_2 \\neq \\emptyset,,C_1 \\neq C_2$, we have $\\abs{C_1 \\cap C_2 \\cap B} \\leq k-2$)"
   ]
  },
  {
   "cell_type": "code",
   "execution_count": null,
   "id": "ebc2fd0a-968c-4d79-ace3-8452ede9aa0f",
   "metadata": {},
   "outputs": [],
   "source": []
  }
 ],
 "metadata": {
  "jupytext": {
   "formats": "ipynb,md:myst"
  },
  "kernelspec": {
   "display_name": "Python 3 (ipykernel)",
   "language": "python",
   "name": "python3"
  },
  "language_info": {
   "codemirror_mode": {
    "name": "ipython",
    "version": 3
   },
   "file_extension": ".py",
   "mimetype": "text/x-python",
   "name": "python",
   "nbconvert_exporter": "python",
   "pygments_lexer": "ipython3",
   "version": "3.10.8"
  },
  "widgets": {
   "application/vnd.jupyter.widget-state+json": {
    "state": {},
    "version_major": 2,
    "version_minor": 0
   }
  }
 },
 "nbformat": 4,
 "nbformat_minor": 5
}
